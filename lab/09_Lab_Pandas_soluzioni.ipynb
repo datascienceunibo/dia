{
 "cells": [
  {
   "cell_type": "markdown",
   "metadata": {
    "slideshow": {
     "slide_type": "slide"
    }
   },
   "source": [
    "# Laboratorio: pandas"
   ]
  },
  {
   "cell_type": "markdown",
   "metadata": {
    "slideshow": {
     "slide_type": "slide"
    }
   },
   "source": [
    "## pandas\n",
    "\n",
    "- _pandas_ è la libreria Python più diffusa per l'analisi di dati in forma relazionale\n",
    "  - tabelle dove ogni riga è un _istanza_ o oggetto e ogni colonna è un attributo o _feature_\n",
    "- Permette di eseguire molte operazioni sui dati\n",
    "  - selezione righe e colonne, filtraggio, trattamento dati mancanti, discretizzazione, unione (_join_), raggruppamento, _pivoting_, ...\n",
    "- I dati possono essere letti e scritti usando diversi formati\n",
    "  - CSV, JSON, database SQL, HTML, ..."
   ]
  },
  {
   "cell_type": "code",
   "execution_count": 1,
   "metadata": {},
   "outputs": [],
   "source": [
    "import numpy as np\n",
    "import pandas as pd\n",
    "from urllib.request import urlretrieve"
   ]
  },
  {
   "cell_type": "markdown",
   "metadata": {
    "slideshow": {
     "slide_type": "slide"
    }
   },
   "source": [
    "## Esempio 1: Censimento USA\n",
    "\n",
    "- Nella scorsa esercitazione abbiamo usato NumPy per analizzare dati dal censimento annuale degli Stati Uniti\n",
    "- I dati sono stati forniti in forma di vettori con dati allineati\n",
    "- Vediamo come eseguire le stesse analisi usando pandas\n",
    "- Scarichiamo lo stesso file usato nella scorsa esercitazione, contenente tutti i vettori"
   ]
  },
  {
   "cell_type": "code",
   "execution_count": 2,
   "metadata": {},
   "outputs": [
    {
     "data": {
      "text/plain": [
       "('usa_census.npz', <http.client.HTTPMessage at 0x7f290ab17c18>)"
      ]
     },
     "execution_count": 2,
     "metadata": {},
     "output_type": "execute_result"
    }
   ],
   "source": [
    "urlretrieve(\"https://git.io/vxh8Y\", \"usa_census.npz\")"
   ]
  },
  {
   "cell_type": "markdown",
   "metadata": {},
   "source": [
    "- Carichiamo il file e copiamo tutti i dati in un `dict` modificabile"
   ]
  },
  {
   "cell_type": "code",
   "execution_count": 3,
   "metadata": {},
   "outputs": [],
   "source": [
    "census_arrays = dict(np.load(\"usa_census.npz\"))"
   ]
  },
  {
   "cell_type": "markdown",
   "metadata": {
    "slideshow": {
     "slide_type": "slide"
    }
   },
   "source": [
    "## Costruzione del `DataFrame`\n",
    "\n",
    "- Come visto la scorsa volta, otteniamo i dati in forma di array di dimensioni compatibili tra loro"
   ]
  },
  {
   "cell_type": "code",
   "execution_count": 4,
   "metadata": {},
   "outputs": [
    {
     "data": {
      "text/plain": [
       "dict_keys(['states', 'population', 'area', 'same_house', 'same_state', 'other_state', 'state_to_state', 'from_abroad'])"
      ]
     },
     "execution_count": 4,
     "metadata": {},
     "output_type": "execute_result"
    }
   ],
   "source": [
    "census_arrays.keys()"
   ]
  },
  {
   "cell_type": "markdown",
   "metadata": {},
   "source": [
    "- Escludiamo la matrice delle migrazioni tra Stati per mantenere solamente i dati in forma di vettori"
   ]
  },
  {
   "cell_type": "code",
   "execution_count": 5,
   "metadata": {},
   "outputs": [],
   "source": [
    "del census_arrays[\"state_to_state\"]"
   ]
  },
  {
   "cell_type": "markdown",
   "metadata": {},
   "source": [
    "- Rimaniamo così con un mapping da nomi a vettori di pari lunghezza\n",
    "- Possiamo usarlo così com'è per creare un `DataFrame` pandas"
   ]
  },
  {
   "cell_type": "code",
   "execution_count": 6,
   "metadata": {},
   "outputs": [],
   "source": [
    "census = pd.DataFrame(census_arrays)"
   ]
  },
  {
   "cell_type": "markdown",
   "metadata": {
    "slideshow": {
     "slide_type": "slide"
    }
   },
   "source": [
    "## Visualizzazione del Frame\n",
    "\n",
    "- Possiamo verificare che il numero di colonne è pari al numero di vettori usati e il numero di righe è pari alla loro lunghezza"
   ]
  },
  {
   "cell_type": "code",
   "execution_count": 7,
   "metadata": {},
   "outputs": [
    {
     "data": {
      "text/plain": [
       "(51, 7)"
      ]
     },
     "execution_count": 7,
     "metadata": {},
     "output_type": "execute_result"
    }
   ],
   "source": [
    "census.shape"
   ]
  },
  {
   "cell_type": "markdown",
   "metadata": {},
   "source": [
    "- Visualizziamo le prime righe del frame ottenuto col metodo `head`"
   ]
  },
  {
   "cell_type": "code",
   "execution_count": 8,
   "metadata": {},
   "outputs": [
    {
     "data": {
      "text/html": [
       "<div>\n",
       "<style scoped>\n",
       "    .dataframe tbody tr th:only-of-type {\n",
       "        vertical-align: middle;\n",
       "    }\n",
       "\n",
       "    .dataframe tbody tr th {\n",
       "        vertical-align: top;\n",
       "    }\n",
       "\n",
       "    .dataframe thead th {\n",
       "        text-align: right;\n",
       "    }\n",
       "</style>\n",
       "<table border=\"1\" class=\"dataframe\">\n",
       "  <thead>\n",
       "    <tr style=\"text-align: right;\">\n",
       "      <th></th>\n",
       "      <th>area</th>\n",
       "      <th>from_abroad</th>\n",
       "      <th>other_state</th>\n",
       "      <th>population</th>\n",
       "      <th>same_house</th>\n",
       "      <th>same_state</th>\n",
       "      <th>states</th>\n",
       "    </tr>\n",
       "  </thead>\n",
       "  <tbody>\n",
       "    <tr>\n",
       "      <th>0</th>\n",
       "      <td>50645.33</td>\n",
       "      <td>16062</td>\n",
       "      <td>122220</td>\n",
       "      <td>4810126</td>\n",
       "      <td>4141850</td>\n",
       "      <td>529994</td>\n",
       "      <td>Alabama</td>\n",
       "    </tr>\n",
       "    <tr>\n",
       "      <th>1</th>\n",
       "      <td>570640.95</td>\n",
       "      <td>6559</td>\n",
       "      <td>31300</td>\n",
       "      <td>731760</td>\n",
       "      <td>593897</td>\n",
       "      <td>100004</td>\n",
       "      <td>Alaska</td>\n",
       "    </tr>\n",
       "    <tr>\n",
       "      <th>2</th>\n",
       "      <td>113594.08</td>\n",
       "      <td>53749</td>\n",
       "      <td>273257</td>\n",
       "      <td>6851836</td>\n",
       "      <td>5586753</td>\n",
       "      <td>938077</td>\n",
       "      <td>Arizona</td>\n",
       "    </tr>\n",
       "    <tr>\n",
       "      <th>3</th>\n",
       "      <td>52035.48</td>\n",
       "      <td>9051</td>\n",
       "      <td>71083</td>\n",
       "      <td>2949650</td>\n",
       "      <td>2484705</td>\n",
       "      <td>384811</td>\n",
       "      <td>Arkansas</td>\n",
       "    </tr>\n",
       "    <tr>\n",
       "      <th>4</th>\n",
       "      <td>155779.22</td>\n",
       "      <td>336614</td>\n",
       "      <td>514758</td>\n",
       "      <td>38783436</td>\n",
       "      <td>33594813</td>\n",
       "      <td>4337251</td>\n",
       "      <td>California</td>\n",
       "    </tr>\n",
       "  </tbody>\n",
       "</table>\n",
       "</div>"
      ],
      "text/plain": [
       "        area  from_abroad  other_state  population  same_house  same_state  \\\n",
       "0   50645.33        16062       122220     4810126     4141850      529994   \n",
       "1  570640.95         6559        31300      731760      593897      100004   \n",
       "2  113594.08        53749       273257     6851836     5586753      938077   \n",
       "3   52035.48         9051        71083     2949650     2484705      384811   \n",
       "4  155779.22       336614       514758    38783436    33594813     4337251   \n",
       "\n",
       "       states  \n",
       "0     Alabama  \n",
       "1      Alaska  \n",
       "2     Arizona  \n",
       "3    Arkansas  \n",
       "4  California  "
      ]
     },
     "execution_count": 8,
     "metadata": {},
     "output_type": "execute_result"
    }
   ],
   "source": [
    "census.head()"
   ]
  },
  {
   "cell_type": "code",
   "execution_count": 9,
   "metadata": {
    "slideshow": {
     "slide_type": "slide"
    }
   },
   "outputs": [
    {
     "data": {
      "text/html": [
       "<div>\n",
       "<style scoped>\n",
       "    .dataframe tbody tr th:only-of-type {\n",
       "        vertical-align: middle;\n",
       "    }\n",
       "\n",
       "    .dataframe tbody tr th {\n",
       "        vertical-align: top;\n",
       "    }\n",
       "\n",
       "    .dataframe thead th {\n",
       "        text-align: right;\n",
       "    }\n",
       "</style>\n",
       "<table border=\"1\" class=\"dataframe\">\n",
       "  <thead>\n",
       "    <tr style=\"text-align: right;\">\n",
       "      <th></th>\n",
       "      <th>area</th>\n",
       "      <th>from_abroad</th>\n",
       "      <th>other_state</th>\n",
       "      <th>population</th>\n",
       "      <th>same_house</th>\n",
       "      <th>same_state</th>\n",
       "      <th>states</th>\n",
       "    </tr>\n",
       "  </thead>\n",
       "  <tbody>\n",
       "    <tr>\n",
       "      <th>0</th>\n",
       "      <td>50645.33</td>\n",
       "      <td>16062</td>\n",
       "      <td>122220</td>\n",
       "      <td>4810126</td>\n",
       "      <td>4141850</td>\n",
       "      <td>529994</td>\n",
       "      <td>Alabama</td>\n",
       "    </tr>\n",
       "    <tr>\n",
       "      <th>1</th>\n",
       "      <td>570640.95</td>\n",
       "      <td>6559</td>\n",
       "      <td>31300</td>\n",
       "      <td>731760</td>\n",
       "      <td>593897</td>\n",
       "      <td>100004</td>\n",
       "      <td>Alaska</td>\n",
       "    </tr>\n",
       "    <tr>\n",
       "      <th>2</th>\n",
       "      <td>113594.08</td>\n",
       "      <td>53749</td>\n",
       "      <td>273257</td>\n",
       "      <td>6851836</td>\n",
       "      <td>5586753</td>\n",
       "      <td>938077</td>\n",
       "      <td>Arizona</td>\n",
       "    </tr>\n",
       "    <tr>\n",
       "      <th>3</th>\n",
       "      <td>52035.48</td>\n",
       "      <td>9051</td>\n",
       "      <td>71083</td>\n",
       "      <td>2949650</td>\n",
       "      <td>2484705</td>\n",
       "      <td>384811</td>\n",
       "      <td>Arkansas</td>\n",
       "    </tr>\n",
       "    <tr>\n",
       "      <th>4</th>\n",
       "      <td>155779.22</td>\n",
       "      <td>336614</td>\n",
       "      <td>514758</td>\n",
       "      <td>38783436</td>\n",
       "      <td>33594813</td>\n",
       "      <td>4337251</td>\n",
       "      <td>California</td>\n",
       "    </tr>\n",
       "  </tbody>\n",
       "</table>\n",
       "</div>"
      ],
      "text/plain": [
       "        area  from_abroad  other_state  population  same_house  same_state  \\\n",
       "0   50645.33        16062       122220     4810126     4141850      529994   \n",
       "1  570640.95         6559        31300      731760      593897      100004   \n",
       "2  113594.08        53749       273257     6851836     5586753      938077   \n",
       "3   52035.48         9051        71083     2949650     2484705      384811   \n",
       "4  155779.22       336614       514758    38783436    33594813     4337251   \n",
       "\n",
       "       states  \n",
       "0     Alabama  \n",
       "1      Alaska  \n",
       "2     Arizona  \n",
       "3    Arkansas  \n",
       "4  California  "
      ]
     },
     "execution_count": 9,
     "metadata": {},
     "output_type": "execute_result"
    }
   ],
   "source": [
    "census.head()"
   ]
  },
  {
   "cell_type": "markdown",
   "metadata": {},
   "source": [
    "- Gli elementi costitutivi del `DataFrame` sono:\n",
    "  - l'_indice_ `index` con le _etichette_ delle righe (la colonna a sinistra)\n",
    "  - l'indice `columns` con i nomi delle colonne (la riga in alto)\n",
    "  - l'area dati (tutti i valori non in grassetto)"
   ]
  },
  {
   "cell_type": "markdown",
   "metadata": {
    "slideshow": {
     "slide_type": "slide"
    }
   },
   "source": [
    "## Definizione dell'Indice delle Righe\n",
    "\n",
    "- L'`index` contiene in genere etichette che identificano univocamente ciascuna riga e che indicano a cosa si riferiscono i dati in essa\n",
    "- L'indice generato di default contiene numeri sequenziali\n",
    "- Nel nostro caso ha però senso identificare ciascuna riga col nome dello Stato, riportato come dato nella colonna `states`\n",
    "- Col metodo `set_index` sostituiamo l'indice attuale con i valori di una colonna (rimuovendola dall'area dati)\n",
    "  - specifichiamo `inplace=True` per modificare il frame piuttosto che crearne una copia modificata"
   ]
  },
  {
   "cell_type": "code",
   "execution_count": 10,
   "metadata": {},
   "outputs": [],
   "source": [
    "census.set_index(\"states\", inplace=True)"
   ]
  },
  {
   "cell_type": "markdown",
   "metadata": {
    "slideshow": {
     "slide_type": "slide"
    }
   },
   "source": [
    "- Vediamo che ora ciascuna riga è identificata in modo significativo dal nome dello Stato piuttosto che da un numero sequenziale"
   ]
  },
  {
   "cell_type": "code",
   "execution_count": 11,
   "metadata": {},
   "outputs": [
    {
     "data": {
      "text/html": [
       "<div>\n",
       "<style scoped>\n",
       "    .dataframe tbody tr th:only-of-type {\n",
       "        vertical-align: middle;\n",
       "    }\n",
       "\n",
       "    .dataframe tbody tr th {\n",
       "        vertical-align: top;\n",
       "    }\n",
       "\n",
       "    .dataframe thead th {\n",
       "        text-align: right;\n",
       "    }\n",
       "</style>\n",
       "<table border=\"1\" class=\"dataframe\">\n",
       "  <thead>\n",
       "    <tr style=\"text-align: right;\">\n",
       "      <th></th>\n",
       "      <th>area</th>\n",
       "      <th>from_abroad</th>\n",
       "      <th>other_state</th>\n",
       "      <th>population</th>\n",
       "      <th>same_house</th>\n",
       "      <th>same_state</th>\n",
       "    </tr>\n",
       "    <tr>\n",
       "      <th>states</th>\n",
       "      <th></th>\n",
       "      <th></th>\n",
       "      <th></th>\n",
       "      <th></th>\n",
       "      <th></th>\n",
       "      <th></th>\n",
       "    </tr>\n",
       "  </thead>\n",
       "  <tbody>\n",
       "    <tr>\n",
       "      <th>Alabama</th>\n",
       "      <td>50645.33</td>\n",
       "      <td>16062</td>\n",
       "      <td>122220</td>\n",
       "      <td>4810126</td>\n",
       "      <td>4141850</td>\n",
       "      <td>529994</td>\n",
       "    </tr>\n",
       "    <tr>\n",
       "      <th>Alaska</th>\n",
       "      <td>570640.95</td>\n",
       "      <td>6559</td>\n",
       "      <td>31300</td>\n",
       "      <td>731760</td>\n",
       "      <td>593897</td>\n",
       "      <td>100004</td>\n",
       "    </tr>\n",
       "    <tr>\n",
       "      <th>Arizona</th>\n",
       "      <td>113594.08</td>\n",
       "      <td>53749</td>\n",
       "      <td>273257</td>\n",
       "      <td>6851836</td>\n",
       "      <td>5586753</td>\n",
       "      <td>938077</td>\n",
       "    </tr>\n",
       "    <tr>\n",
       "      <th>Arkansas</th>\n",
       "      <td>52035.48</td>\n",
       "      <td>9051</td>\n",
       "      <td>71083</td>\n",
       "      <td>2949650</td>\n",
       "      <td>2484705</td>\n",
       "      <td>384811</td>\n",
       "    </tr>\n",
       "    <tr>\n",
       "      <th>California</th>\n",
       "      <td>155779.22</td>\n",
       "      <td>336614</td>\n",
       "      <td>514758</td>\n",
       "      <td>38783436</td>\n",
       "      <td>33594813</td>\n",
       "      <td>4337251</td>\n",
       "    </tr>\n",
       "  </tbody>\n",
       "</table>\n",
       "</div>"
      ],
      "text/plain": [
       "                 area  from_abroad  other_state  population  same_house  \\\n",
       "states                                                                    \n",
       "Alabama      50645.33        16062       122220     4810126     4141850   \n",
       "Alaska      570640.95         6559        31300      731760      593897   \n",
       "Arizona     113594.08        53749       273257     6851836     5586753   \n",
       "Arkansas     52035.48         9051        71083     2949650     2484705   \n",
       "California  155779.22       336614       514758    38783436    33594813   \n",
       "\n",
       "            same_state  \n",
       "states                  \n",
       "Alabama         529994  \n",
       "Alaska          100004  \n",
       "Arizona         938077  \n",
       "Arkansas        384811  \n",
       "California     4337251  "
      ]
     },
     "execution_count": 11,
     "metadata": {},
     "output_type": "execute_result"
    }
   ],
   "source": [
    "census.head()"
   ]
  },
  {
   "cell_type": "markdown",
   "metadata": {},
   "source": [
    "- Ciò rende più semplice l'esplorazione dei dati che svolgiamo nei prossimi punti"
   ]
  },
  {
   "cell_type": "markdown",
   "metadata": {
    "slideshow": {
     "slide_type": "slide"
    }
   },
   "source": [
    "## Estrarre Valori dal Frame\n",
    "\n",
    "- Per estrarre valori singoli o porzioni di dati, un `DataFrame` fornisce diversi oggetti \"selettori\"\n",
    "  - con `loc` la selezione avviene in base alle _etichette_ delle righe e ai nomi delle colonne\n",
    "  - con `iloc` la selezione si effettua in base alle _posizioni_, in modo simile alle matrici in NumPy\n",
    "  - `at` e `iat` sono varianti più efficienti di `loc` e `iloc` per estrarre valori singoli\n",
    "- In ogni caso vanno indicate nell'ordine le righe e le colonne da selezionare con la notazione `[R, C]`, dove R e C possono essere\n",
    "  - un singolo valore per selezionare una singola riga o colonna\n",
    "  - un intervallo di valori `A:B` per selezionare righe o colonne contigue\n",
    "  - una lista di valori per selezionare righe o colonne arbitrarie\n",
    "- Se vanno selezionate tutte le colonne, è sufficiente specificare le righe\n",
    "- Se viene selezionata una singola riga o colonna il risultato è una `Series`, una sequenza di valori paragonabile ad un `DataFrame` monodimensionale"
   ]
  },
  {
   "cell_type": "markdown",
   "metadata": {
    "slideshow": {
     "slide_type": "slide"
    }
   },
   "source": [
    "### Esempi di Selezione\n",
    "\n",
    "- Sono mostrati comandi equivalenti con `loc` e `iloc`"
   ]
  },
  {
   "cell_type": "code",
   "execution_count": 12,
   "metadata": {
    "slideshow": {
     "slide_type": "-"
    }
   },
   "outputs": [
    {
     "data": {
      "text/plain": [
       "4810126"
      ]
     },
     "execution_count": 12,
     "metadata": {},
     "output_type": "execute_result"
    }
   ],
   "source": [
    "# singolo dato: popolazione dell'Alabama (primo stato)\n",
    "census.loc [\"Alabama\", \"population\"]   # \"at\"  valido al posto di \"loc\"\n",
    "census.iloc[       0 ,           3 ]   # \"iat\" valido al posto di \"iloc\""
   ]
  },
  {
   "cell_type": "code",
   "execution_count": 13,
   "metadata": {},
   "outputs": [
    {
     "data": {
      "text/html": [
       "<div>\n",
       "<style scoped>\n",
       "    .dataframe tbody tr th:only-of-type {\n",
       "        vertical-align: middle;\n",
       "    }\n",
       "\n",
       "    .dataframe tbody tr th {\n",
       "        vertical-align: top;\n",
       "    }\n",
       "\n",
       "    .dataframe thead th {\n",
       "        text-align: right;\n",
       "    }\n",
       "</style>\n",
       "<table border=\"1\" class=\"dataframe\">\n",
       "  <thead>\n",
       "    <tr style=\"text-align: right;\">\n",
       "      <th></th>\n",
       "      <th>population</th>\n",
       "      <th>area</th>\n",
       "    </tr>\n",
       "    <tr>\n",
       "      <th>states</th>\n",
       "      <th></th>\n",
       "      <th></th>\n",
       "    </tr>\n",
       "  </thead>\n",
       "  <tbody>\n",
       "    <tr>\n",
       "      <th>Alabama</th>\n",
       "      <td>4810126</td>\n",
       "      <td>50645.33</td>\n",
       "    </tr>\n",
       "    <tr>\n",
       "      <th>Alaska</th>\n",
       "      <td>731760</td>\n",
       "      <td>570640.95</td>\n",
       "    </tr>\n",
       "    <tr>\n",
       "      <th>Arizona</th>\n",
       "      <td>6851836</td>\n",
       "      <td>113594.08</td>\n",
       "    </tr>\n",
       "  </tbody>\n",
       "</table>\n",
       "</div>"
      ],
      "text/plain": [
       "         population       area\n",
       "states                        \n",
       "Alabama     4810126   50645.33\n",
       "Alaska       731760  570640.95\n",
       "Arizona     6851836  113594.08"
      ]
     },
     "execution_count": 13,
     "metadata": {},
     "output_type": "execute_result"
    }
   ],
   "source": [
    "# tutte le righe (\":\"), solo colonne popolazione e area\n",
    "census.loc [:, [\"population\", \"area\"]]\n",
    "census.iloc[:,                 [3, 0]]   .head(3)"
   ]
  },
  {
   "cell_type": "code",
   "execution_count": 14,
   "metadata": {
    "slideshow": {
     "slide_type": "slide"
    }
   },
   "outputs": [
    {
     "data": {
      "text/html": [
       "<div>\n",
       "<style scoped>\n",
       "    .dataframe tbody tr th:only-of-type {\n",
       "        vertical-align: middle;\n",
       "    }\n",
       "\n",
       "    .dataframe tbody tr th {\n",
       "        vertical-align: top;\n",
       "    }\n",
       "\n",
       "    .dataframe thead th {\n",
       "        text-align: right;\n",
       "    }\n",
       "</style>\n",
       "<table border=\"1\" class=\"dataframe\">\n",
       "  <thead>\n",
       "    <tr style=\"text-align: right;\">\n",
       "      <th></th>\n",
       "      <th>area</th>\n",
       "      <th>from_abroad</th>\n",
       "      <th>other_state</th>\n",
       "      <th>population</th>\n",
       "      <th>same_house</th>\n",
       "      <th>same_state</th>\n",
       "    </tr>\n",
       "    <tr>\n",
       "      <th>states</th>\n",
       "      <th></th>\n",
       "      <th></th>\n",
       "      <th></th>\n",
       "      <th></th>\n",
       "      <th></th>\n",
       "      <th></th>\n",
       "    </tr>\n",
       "  </thead>\n",
       "  <tbody>\n",
       "    <tr>\n",
       "      <th>Delaware</th>\n",
       "      <td>1948.54</td>\n",
       "      <td>5747</td>\n",
       "      <td>33400</td>\n",
       "      <td>942073</td>\n",
       "      <td>817779</td>\n",
       "      <td>85147</td>\n",
       "    </tr>\n",
       "    <tr>\n",
       "      <th>District of Columbia</th>\n",
       "      <td>61.05</td>\n",
       "      <td>11155</td>\n",
       "      <td>58154</td>\n",
       "      <td>672022</td>\n",
       "      <td>538547</td>\n",
       "      <td>64166</td>\n",
       "    </tr>\n",
       "    <tr>\n",
       "      <th>Florida</th>\n",
       "      <td>53624.76</td>\n",
       "      <td>232838</td>\n",
       "      <td>605018</td>\n",
       "      <td>20401575</td>\n",
       "      <td>17176492</td>\n",
       "      <td>2387227</td>\n",
       "    </tr>\n",
       "    <tr>\n",
       "      <th>Georgia</th>\n",
       "      <td>57513.49</td>\n",
       "      <td>69341</td>\n",
       "      <td>305040</td>\n",
       "      <td>10179860</td>\n",
       "      <td>8514847</td>\n",
       "      <td>1290632</td>\n",
       "    </tr>\n",
       "  </tbody>\n",
       "</table>\n",
       "</div>"
      ],
      "text/plain": [
       "                          area  from_abroad  other_state  population  \\\n",
       "states                                                                 \n",
       "Delaware               1948.54         5747        33400      942073   \n",
       "District of Columbia     61.05        11155        58154      672022   \n",
       "Florida               53624.76       232838       605018    20401575   \n",
       "Georgia               57513.49        69341       305040    10179860   \n",
       "\n",
       "                      same_house  same_state  \n",
       "states                                        \n",
       "Delaware                  817779       85147  \n",
       "District of Columbia      538547       64166  \n",
       "Florida                 17176492     2387227  \n",
       "Georgia                  8514847     1290632  "
      ]
     },
     "execution_count": 14,
     "metadata": {},
     "output_type": "execute_result"
    }
   ],
   "source": [
    "# righe incluse tra \"Delaware\" e \"Georgia\"\n",
    "census.loc [\"Delaware\":\"Georgia\"]   # usando le etichette entrambi gli estremi sono inclusi!\n",
    "census.iloc[         7:11       ]"
   ]
  },
  {
   "cell_type": "markdown",
   "metadata": {
    "slideshow": {
     "slide_type": "slide"
    }
   },
   "source": [
    "### Quesiti\n",
    "\n",
    "1. Qual'è la superficie di terra della California?\n",
    "2. Estrarre la riga relativa al 13° Stato nell'elenco\n",
    "3. Qual'è la popolazione di ciascuno degli Stati sulla costa ovest, ovvero Washington, Oregon e California?"
   ]
  },
  {
   "cell_type": "code",
   "execution_count": 15,
   "metadata": {
    "slideshow": {
     "slide_type": "skip"
    }
   },
   "outputs": [
    {
     "data": {
      "text/plain": [
       "155779.22"
      ]
     },
     "execution_count": 15,
     "metadata": {},
     "output_type": "execute_result"
    }
   ],
   "source": [
    "census.at[\"California\", \"area\"]"
   ]
  },
  {
   "cell_type": "code",
   "execution_count": 16,
   "metadata": {
    "slideshow": {
     "slide_type": "skip"
    }
   },
   "outputs": [
    {
     "data": {
      "text/plain": [
       "area             82643.12\n",
       "from_abroad       8529.00\n",
       "other_state      71556.00\n",
       "population     1663756.00\n",
       "same_house     1369449.00\n",
       "same_state      214222.00\n",
       "Name: Idaho, dtype: float64"
      ]
     },
     "execution_count": 16,
     "metadata": {},
     "output_type": "execute_result"
    }
   ],
   "source": [
    "census.iloc[12]"
   ]
  },
  {
   "cell_type": "code",
   "execution_count": 17,
   "metadata": {
    "slideshow": {
     "slide_type": "skip"
    }
   },
   "outputs": [
    {
     "data": {
      "text/plain": [
       "states\n",
       "Washington     7202119\n",
       "Oregon         4052221\n",
       "California    38783436\n",
       "Name: population, dtype: int64"
      ]
     },
     "execution_count": 17,
     "metadata": {},
     "output_type": "execute_result"
    }
   ],
   "source": [
    "census.loc[[\"Washington\", \"Oregon\", \"California\"], \"population\"]"
   ]
  },
  {
   "cell_type": "markdown",
   "metadata": {
    "slideshow": {
     "slide_type": "slide"
    }
   },
   "source": [
    "## Estrazione di Colonne come Serie\n",
    "\n",
    "- Possiamo estrarre una colonna in forma di `Series` semplicemente indicandone il nome come indice\n",
    "  - la colonna può anche essere estratta come attributo se il nome non è riservato da pandas\n",
    "  - la serie riporta le stesse etichette delle righe del `DataFrame`"
   ]
  },
  {
   "cell_type": "code",
   "execution_count": 18,
   "metadata": {},
   "outputs": [
    {
     "data": {
      "text/plain": [
       "states\n",
       "Alabama        4810126\n",
       "Alaska          731760\n",
       "Arizona        6851836\n",
       "Arkansas       2949650\n",
       "California    38783436\n",
       "Name: population, dtype: int64"
      ]
     },
     "execution_count": 18,
     "metadata": {},
     "output_type": "execute_result"
    }
   ],
   "source": [
    "census[\"population\"]   # oppure\n",
    "census.population      .head()"
   ]
  },
  {
   "cell_type": "markdown",
   "metadata": {
    "slideshow": {
     "slide_type": "slide"
    }
   },
   "source": [
    "## Operazioni di Riduzione sulle Serie\n",
    "\n",
    "- Sulle serie possiamo applicare le tipiche operazioni di riduzione già viste in NumPy per calcolare statistiche: `sum`, `mean`, `min`, `max`, ..."
   ]
  },
  {
   "cell_type": "code",
   "execution_count": 19,
   "metadata": {},
   "outputs": [
    {
     "data": {
      "text/plain": [
       "319361956"
      ]
     },
     "execution_count": 19,
     "metadata": {},
     "output_type": "execute_result"
    }
   ],
   "source": [
    "# popolazione totale\n",
    "census.population.sum()"
   ]
  },
  {
   "cell_type": "markdown",
   "metadata": {},
   "source": [
    "- Sono disponibili i metodi `idxmin` e `idxmax`, analoghi a `argmin` e `argmax` in NumPy, che restituiscono l'_etichetta_ del valore minimo o massimo"
   ]
  },
  {
   "cell_type": "code",
   "execution_count": 20,
   "metadata": {},
   "outputs": [
    {
     "data": {
      "text/plain": [
       "'California'"
      ]
     },
     "execution_count": 20,
     "metadata": {},
     "output_type": "execute_result"
    }
   ],
   "source": [
    "# qual è lo Stato con più abitanti?\n",
    "census.population.idxmax()"
   ]
  },
  {
   "cell_type": "markdown",
   "metadata": {},
   "source": [
    "### Quesito\n",
    "\n",
    "- Estrarre dalla tabella la riga relativa allo Stato meno popolato"
   ]
  },
  {
   "cell_type": "code",
   "execution_count": 21,
   "metadata": {
    "slideshow": {
     "slide_type": "skip"
    }
   },
   "outputs": [
    {
     "data": {
      "text/plain": [
       "area            97093.14\n",
       "from_abroad      2105.00\n",
       "other_state     26471.00\n",
       "population     577567.00\n",
       "same_house     472996.00\n",
       "same_state      75995.00\n",
       "Name: Wyoming, dtype: float64"
      ]
     },
     "execution_count": 21,
     "metadata": {},
     "output_type": "execute_result"
    }
   ],
   "source": [
    "census.loc[census.population.idxmin()]"
   ]
  },
  {
   "cell_type": "markdown",
   "metadata": {
    "slideshow": {
     "slide_type": "slide"
    }
   },
   "source": [
    "## Operazioni tra Serie\n",
    "\n",
    "- Possiamo eseguire operazioni elemento per elemento tra una serie e un valore scalare o tra due serie\n",
    "  - tra due serie l'operazione è applicata tra valori con la stessa etichetta"
   ]
  },
  {
   "cell_type": "code",
   "execution_count": 22,
   "metadata": {},
   "outputs": [
    {
     "data": {
      "text/plain": [
       "states\n",
       "Alabama       1.311714e+05\n",
       "Alaska        1.477960e+06\n",
       "Arizona       2.942087e+05\n",
       "Arkansas      1.347719e+05\n",
       "California    4.034682e+05\n",
       "Name: area, dtype: float64"
      ]
     },
     "execution_count": 22,
     "metadata": {},
     "output_type": "execute_result"
    }
   ],
   "source": [
    "# conversione superficie da miglia a chilometri quadrati\n",
    "(   census.area * 2.59   ).head()"
   ]
  },
  {
   "cell_type": "code",
   "execution_count": 23,
   "metadata": {},
   "outputs": [
    {
     "data": {
      "text/plain": [
       "states\n",
       "Alabama        94.976694\n",
       "Alaska          1.282348\n",
       "Arizona        60.318601\n",
       "Arkansas       56.685362\n",
       "California    248.964117\n",
       "dtype: float64"
      ]
     },
     "execution_count": 23,
     "metadata": {},
     "output_type": "execute_result"
    }
   ],
   "source": [
    "# calcolo densità media di popolazione\n",
    "(   census.population / census.area   ).head()"
   ]
  },
  {
   "cell_type": "markdown",
   "metadata": {
    "slideshow": {
     "slide_type": "slide"
    }
   },
   "source": [
    "### Aggiunta di Colonne al Frame\n",
    "\n",
    "- Creando una serie con le stesse etichette del frame, possiamo aggiungerla ad esso come nuova colonna\n",
    "- Per questo assegniamo la serie al nome desiderato per la colonna"
   ]
  },
  {
   "cell_type": "code",
   "execution_count": 24,
   "metadata": {},
   "outputs": [],
   "source": [
    "census[\"density\"] = census.population / census.area"
   ]
  },
  {
   "cell_type": "markdown",
   "metadata": {},
   "source": [
    "- La nuova colonna è aggiunta in fondo al frame"
   ]
  },
  {
   "cell_type": "code",
   "execution_count": 25,
   "metadata": {},
   "outputs": [
    {
     "data": {
      "text/html": [
       "<div>\n",
       "<style scoped>\n",
       "    .dataframe tbody tr th:only-of-type {\n",
       "        vertical-align: middle;\n",
       "    }\n",
       "\n",
       "    .dataframe tbody tr th {\n",
       "        vertical-align: top;\n",
       "    }\n",
       "\n",
       "    .dataframe thead th {\n",
       "        text-align: right;\n",
       "    }\n",
       "</style>\n",
       "<table border=\"1\" class=\"dataframe\">\n",
       "  <thead>\n",
       "    <tr style=\"text-align: right;\">\n",
       "      <th></th>\n",
       "      <th>area</th>\n",
       "      <th>from_abroad</th>\n",
       "      <th>other_state</th>\n",
       "      <th>population</th>\n",
       "      <th>same_house</th>\n",
       "      <th>same_state</th>\n",
       "      <th>density</th>\n",
       "    </tr>\n",
       "    <tr>\n",
       "      <th>states</th>\n",
       "      <th></th>\n",
       "      <th></th>\n",
       "      <th></th>\n",
       "      <th></th>\n",
       "      <th></th>\n",
       "      <th></th>\n",
       "      <th></th>\n",
       "    </tr>\n",
       "  </thead>\n",
       "  <tbody>\n",
       "    <tr>\n",
       "      <th>Alabama</th>\n",
       "      <td>50645.33</td>\n",
       "      <td>16062</td>\n",
       "      <td>122220</td>\n",
       "      <td>4810126</td>\n",
       "      <td>4141850</td>\n",
       "      <td>529994</td>\n",
       "      <td>94.976694</td>\n",
       "    </tr>\n",
       "    <tr>\n",
       "      <th>Alaska</th>\n",
       "      <td>570640.95</td>\n",
       "      <td>6559</td>\n",
       "      <td>31300</td>\n",
       "      <td>731760</td>\n",
       "      <td>593897</td>\n",
       "      <td>100004</td>\n",
       "      <td>1.282348</td>\n",
       "    </tr>\n",
       "    <tr>\n",
       "      <th>Arizona</th>\n",
       "      <td>113594.08</td>\n",
       "      <td>53749</td>\n",
       "      <td>273257</td>\n",
       "      <td>6851836</td>\n",
       "      <td>5586753</td>\n",
       "      <td>938077</td>\n",
       "      <td>60.318601</td>\n",
       "    </tr>\n",
       "    <tr>\n",
       "      <th>Arkansas</th>\n",
       "      <td>52035.48</td>\n",
       "      <td>9051</td>\n",
       "      <td>71083</td>\n",
       "      <td>2949650</td>\n",
       "      <td>2484705</td>\n",
       "      <td>384811</td>\n",
       "      <td>56.685362</td>\n",
       "    </tr>\n",
       "    <tr>\n",
       "      <th>California</th>\n",
       "      <td>155779.22</td>\n",
       "      <td>336614</td>\n",
       "      <td>514758</td>\n",
       "      <td>38783436</td>\n",
       "      <td>33594813</td>\n",
       "      <td>4337251</td>\n",
       "      <td>248.964117</td>\n",
       "    </tr>\n",
       "  </tbody>\n",
       "</table>\n",
       "</div>"
      ],
      "text/plain": [
       "                 area  from_abroad  other_state  population  same_house  \\\n",
       "states                                                                    \n",
       "Alabama      50645.33        16062       122220     4810126     4141850   \n",
       "Alaska      570640.95         6559        31300      731760      593897   \n",
       "Arizona     113594.08        53749       273257     6851836     5586753   \n",
       "Arkansas     52035.48         9051        71083     2949650     2484705   \n",
       "California  155779.22       336614       514758    38783436    33594813   \n",
       "\n",
       "            same_state     density  \n",
       "states                              \n",
       "Alabama         529994   94.976694  \n",
       "Alaska          100004    1.282348  \n",
       "Arizona         938077   60.318601  \n",
       "Arkansas        384811   56.685362  \n",
       "California     4337251  248.964117  "
      ]
     },
     "execution_count": 25,
     "metadata": {},
     "output_type": "execute_result"
    }
   ],
   "source": [
    "census.head()"
   ]
  },
  {
   "cell_type": "markdown",
   "metadata": {
    "slideshow": {
     "slide_type": "slide"
    }
   },
   "source": [
    "## Serie Booleane e Selezione Condizionale\n",
    "\n",
    "- Possiamo ottenere serie di valori booleani applicando ad es. operazioni di comparazione"
   ]
  },
  {
   "cell_type": "code",
   "execution_count": 26,
   "metadata": {},
   "outputs": [
    {
     "data": {
      "text/plain": [
       "states\n",
       "Alabama    False\n",
       "Alaska      True\n",
       "Arizona    False\n",
       "Name: population, dtype: bool"
      ]
     },
     "execution_count": 26,
     "metadata": {},
     "output_type": "execute_result"
    }
   ],
   "source": [
    "# quali Stati hanno meno di 800.000 abitanti?\n",
    "(   census.population < 800000   ).head(3)"
   ]
  },
  {
   "cell_type": "markdown",
   "metadata": {
    "slideshow": {
     "slide_type": "slide"
    }
   },
   "source": [
    "- Tali serie possono essere usate come indici di altre serie o frame per selezionare valori o righe secondo una condizione"
   ]
  },
  {
   "cell_type": "code",
   "execution_count": 27,
   "metadata": {},
   "outputs": [
    {
     "data": {
      "text/html": [
       "<div>\n",
       "<style scoped>\n",
       "    .dataframe tbody tr th:only-of-type {\n",
       "        vertical-align: middle;\n",
       "    }\n",
       "\n",
       "    .dataframe tbody tr th {\n",
       "        vertical-align: top;\n",
       "    }\n",
       "\n",
       "    .dataframe thead th {\n",
       "        text-align: right;\n",
       "    }\n",
       "</style>\n",
       "<table border=\"1\" class=\"dataframe\">\n",
       "  <thead>\n",
       "    <tr style=\"text-align: right;\">\n",
       "      <th></th>\n",
       "      <th>area</th>\n",
       "      <th>from_abroad</th>\n",
       "      <th>other_state</th>\n",
       "      <th>population</th>\n",
       "      <th>same_house</th>\n",
       "      <th>same_state</th>\n",
       "      <th>density</th>\n",
       "    </tr>\n",
       "    <tr>\n",
       "      <th>states</th>\n",
       "      <th></th>\n",
       "      <th></th>\n",
       "      <th></th>\n",
       "      <th></th>\n",
       "      <th></th>\n",
       "      <th></th>\n",
       "      <th></th>\n",
       "    </tr>\n",
       "  </thead>\n",
       "  <tbody>\n",
       "    <tr>\n",
       "      <th>Alaska</th>\n",
       "      <td>570640.95</td>\n",
       "      <td>6559</td>\n",
       "      <td>31300</td>\n",
       "      <td>731760</td>\n",
       "      <td>593897</td>\n",
       "      <td>100004</td>\n",
       "      <td>1.282348</td>\n",
       "    </tr>\n",
       "    <tr>\n",
       "      <th>District of Columbia</th>\n",
       "      <td>61.05</td>\n",
       "      <td>11155</td>\n",
       "      <td>58154</td>\n",
       "      <td>672022</td>\n",
       "      <td>538547</td>\n",
       "      <td>64166</td>\n",
       "      <td>11007.731368</td>\n",
       "    </tr>\n",
       "    <tr>\n",
       "      <th>North Dakota</th>\n",
       "      <td>69000.80</td>\n",
       "      <td>4715</td>\n",
       "      <td>29655</td>\n",
       "      <td>746271</td>\n",
       "      <td>620891</td>\n",
       "      <td>91010</td>\n",
       "      <td>10.815396</td>\n",
       "    </tr>\n",
       "    <tr>\n",
       "      <th>Vermont</th>\n",
       "      <td>9216.66</td>\n",
       "      <td>2113</td>\n",
       "      <td>21262</td>\n",
       "      <td>619387</td>\n",
       "      <td>535268</td>\n",
       "      <td>60744</td>\n",
       "      <td>67.202978</td>\n",
       "    </tr>\n",
       "    <tr>\n",
       "      <th>Wyoming</th>\n",
       "      <td>97093.14</td>\n",
       "      <td>2105</td>\n",
       "      <td>26471</td>\n",
       "      <td>577567</td>\n",
       "      <td>472996</td>\n",
       "      <td>75995</td>\n",
       "      <td>5.948587</td>\n",
       "    </tr>\n",
       "  </tbody>\n",
       "</table>\n",
       "</div>"
      ],
      "text/plain": [
       "                           area  from_abroad  other_state  population  \\\n",
       "states                                                                  \n",
       "Alaska                570640.95         6559        31300      731760   \n",
       "District of Columbia      61.05        11155        58154      672022   \n",
       "North Dakota           69000.80         4715        29655      746271   \n",
       "Vermont                 9216.66         2113        21262      619387   \n",
       "Wyoming                97093.14         2105        26471      577567   \n",
       "\n",
       "                      same_house  same_state       density  \n",
       "states                                                      \n",
       "Alaska                    593897      100004      1.282348  \n",
       "District of Columbia      538547       64166  11007.731368  \n",
       "North Dakota              620891       91010     10.815396  \n",
       "Vermont                   535268       60744     67.202978  \n",
       "Wyoming                   472996       75995      5.948587  "
      ]
     },
     "execution_count": 27,
     "metadata": {},
     "output_type": "execute_result"
    }
   ],
   "source": [
    "census.loc[census.population < 800000]"
   ]
  },
  {
   "cell_type": "markdown",
   "metadata": {
    "slideshow": {
     "slide_type": "slide"
    }
   },
   "source": [
    "### Quesiti\n",
    "\n",
    "1. Selezionare dal frame gli Stati dove più dell'1% della popolazione si è trasferito da fuori gli USA nell'ultimo anno\n",
    "2. Selezionare gli Stati con più di 10 milioni di abitanti e più estesi di 100.000 miglia quadrate\n",
    "  - usare l'operatore `&` per calcolare AND tra due serie di booleani"
   ]
  },
  {
   "cell_type": "code",
   "execution_count": 28,
   "metadata": {
    "slideshow": {
     "slide_type": "skip"
    }
   },
   "outputs": [
    {
     "data": {
      "text/html": [
       "<div>\n",
       "<style scoped>\n",
       "    .dataframe tbody tr th:only-of-type {\n",
       "        vertical-align: middle;\n",
       "    }\n",
       "\n",
       "    .dataframe tbody tr th {\n",
       "        vertical-align: top;\n",
       "    }\n",
       "\n",
       "    .dataframe thead th {\n",
       "        text-align: right;\n",
       "    }\n",
       "</style>\n",
       "<table border=\"1\" class=\"dataframe\">\n",
       "  <thead>\n",
       "    <tr style=\"text-align: right;\">\n",
       "      <th></th>\n",
       "      <th>area</th>\n",
       "      <th>from_abroad</th>\n",
       "      <th>other_state</th>\n",
       "      <th>population</th>\n",
       "      <th>same_house</th>\n",
       "      <th>same_state</th>\n",
       "      <th>density</th>\n",
       "    </tr>\n",
       "    <tr>\n",
       "      <th>states</th>\n",
       "      <th></th>\n",
       "      <th></th>\n",
       "      <th></th>\n",
       "      <th></th>\n",
       "      <th></th>\n",
       "      <th></th>\n",
       "      <th></th>\n",
       "    </tr>\n",
       "  </thead>\n",
       "  <tbody>\n",
       "    <tr>\n",
       "      <th>District of Columbia</th>\n",
       "      <td>61.05</td>\n",
       "      <td>11155</td>\n",
       "      <td>58154</td>\n",
       "      <td>672022</td>\n",
       "      <td>538547</td>\n",
       "      <td>64166</td>\n",
       "      <td>11007.731368</td>\n",
       "    </tr>\n",
       "    <tr>\n",
       "      <th>Florida</th>\n",
       "      <td>53624.76</td>\n",
       "      <td>232838</td>\n",
       "      <td>605018</td>\n",
       "      <td>20401575</td>\n",
       "      <td>17176492</td>\n",
       "      <td>2387227</td>\n",
       "      <td>380.450654</td>\n",
       "    </tr>\n",
       "    <tr>\n",
       "      <th>Hawaii</th>\n",
       "      <td>6422.63</td>\n",
       "      <td>17431</td>\n",
       "      <td>57229</td>\n",
       "      <td>1410258</td>\n",
       "      <td>1217704</td>\n",
       "      <td>117894</td>\n",
       "      <td>219.576404</td>\n",
       "    </tr>\n",
       "    <tr>\n",
       "      <th>Massachusetts</th>\n",
       "      <td>7800.06</td>\n",
       "      <td>72995</td>\n",
       "      <td>149408</td>\n",
       "      <td>6745441</td>\n",
       "      <td>5866016</td>\n",
       "      <td>657022</td>\n",
       "      <td>864.793476</td>\n",
       "    </tr>\n",
       "  </tbody>\n",
       "</table>\n",
       "</div>"
      ],
      "text/plain": [
       "                          area  from_abroad  other_state  population  \\\n",
       "states                                                                 \n",
       "District of Columbia     61.05        11155        58154      672022   \n",
       "Florida               53624.76       232838       605018    20401575   \n",
       "Hawaii                 6422.63        17431        57229     1410258   \n",
       "Massachusetts          7800.06        72995       149408     6745441   \n",
       "\n",
       "                      same_house  same_state       density  \n",
       "states                                                      \n",
       "District of Columbia      538547       64166  11007.731368  \n",
       "Florida                 17176492     2387227    380.450654  \n",
       "Hawaii                   1217704      117894    219.576404  \n",
       "Massachusetts            5866016      657022    864.793476  "
      ]
     },
     "execution_count": 28,
     "metadata": {},
     "output_type": "execute_result"
    }
   ],
   "source": [
    "census.loc[(census.from_abroad / census.population) > 0.01]"
   ]
  },
  {
   "cell_type": "code",
   "execution_count": 29,
   "metadata": {
    "slideshow": {
     "slide_type": "skip"
    }
   },
   "outputs": [
    {
     "data": {
      "text/html": [
       "<div>\n",
       "<style scoped>\n",
       "    .dataframe tbody tr th:only-of-type {\n",
       "        vertical-align: middle;\n",
       "    }\n",
       "\n",
       "    .dataframe tbody tr th {\n",
       "        vertical-align: top;\n",
       "    }\n",
       "\n",
       "    .dataframe thead th {\n",
       "        text-align: right;\n",
       "    }\n",
       "</style>\n",
       "<table border=\"1\" class=\"dataframe\">\n",
       "  <thead>\n",
       "    <tr style=\"text-align: right;\">\n",
       "      <th></th>\n",
       "      <th>area</th>\n",
       "      <th>from_abroad</th>\n",
       "      <th>other_state</th>\n",
       "      <th>population</th>\n",
       "      <th>same_house</th>\n",
       "      <th>same_state</th>\n",
       "      <th>density</th>\n",
       "    </tr>\n",
       "    <tr>\n",
       "      <th>states</th>\n",
       "      <th></th>\n",
       "      <th></th>\n",
       "      <th></th>\n",
       "      <th></th>\n",
       "      <th></th>\n",
       "      <th></th>\n",
       "      <th></th>\n",
       "    </tr>\n",
       "  </thead>\n",
       "  <tbody>\n",
       "    <tr>\n",
       "      <th>California</th>\n",
       "      <td>155779.22</td>\n",
       "      <td>336614</td>\n",
       "      <td>514758</td>\n",
       "      <td>38783436</td>\n",
       "      <td>33594813</td>\n",
       "      <td>4337251</td>\n",
       "      <td>248.964117</td>\n",
       "    </tr>\n",
       "    <tr>\n",
       "      <th>Texas</th>\n",
       "      <td>261231.71</td>\n",
       "      <td>234749</td>\n",
       "      <td>531996</td>\n",
       "      <td>27472626</td>\n",
       "      <td>23105984</td>\n",
       "      <td>3599897</td>\n",
       "      <td>105.165740</td>\n",
       "    </tr>\n",
       "  </tbody>\n",
       "</table>\n",
       "</div>"
      ],
      "text/plain": [
       "                 area  from_abroad  other_state  population  same_house  \\\n",
       "states                                                                    \n",
       "California  155779.22       336614       514758    38783436    33594813   \n",
       "Texas       261231.71       234749       531996    27472626    23105984   \n",
       "\n",
       "            same_state     density  \n",
       "states                              \n",
       "California     4337251  248.964117  \n",
       "Texas          3599897  105.165740  "
      ]
     },
     "execution_count": 29,
     "metadata": {},
     "output_type": "execute_result"
    }
   ],
   "source": [
    "census.loc[(census.population > 10000000) & (census.area > 100000)]"
   ]
  },
  {
   "cell_type": "markdown",
   "metadata": {
    "slideshow": {
     "slide_type": "slide"
    }
   },
   "source": [
    "## Ordinamento dei Dati\n",
    "\n",
    "- È possibile ordinare le righe di un `DataFrame` in base alle loro etichette col metodo `sort_index` oppure in base al valore di una o più colonne con `sort_values`\n",
    "  - di default in ordine crescente, specificando `ascending=False` in ordine decresente\n",
    "- Al momento il frame è ordinato per indice (Stati in ordine alfabetico)\n",
    "- Possiamo ordinare ad es. per superficie crescente per elencare gli Stati a partire dai più piccoli\n",
    "  - se non specificato `inplace=True`, l'ordinamento è applicato ad una copia del frame"
   ]
  },
  {
   "cell_type": "code",
   "execution_count": 30,
   "metadata": {
    "slideshow": {
     "slide_type": "slide"
    }
   },
   "outputs": [
    {
     "data": {
      "text/html": [
       "<div>\n",
       "<style scoped>\n",
       "    .dataframe tbody tr th:only-of-type {\n",
       "        vertical-align: middle;\n",
       "    }\n",
       "\n",
       "    .dataframe tbody tr th {\n",
       "        vertical-align: top;\n",
       "    }\n",
       "\n",
       "    .dataframe thead th {\n",
       "        text-align: right;\n",
       "    }\n",
       "</style>\n",
       "<table border=\"1\" class=\"dataframe\">\n",
       "  <thead>\n",
       "    <tr style=\"text-align: right;\">\n",
       "      <th></th>\n",
       "      <th>area</th>\n",
       "      <th>from_abroad</th>\n",
       "      <th>other_state</th>\n",
       "      <th>population</th>\n",
       "      <th>same_house</th>\n",
       "      <th>same_state</th>\n",
       "      <th>density</th>\n",
       "    </tr>\n",
       "    <tr>\n",
       "      <th>states</th>\n",
       "      <th></th>\n",
       "      <th></th>\n",
       "      <th></th>\n",
       "      <th></th>\n",
       "      <th></th>\n",
       "      <th></th>\n",
       "      <th></th>\n",
       "    </tr>\n",
       "  </thead>\n",
       "  <tbody>\n",
       "    <tr>\n",
       "      <th>District of Columbia</th>\n",
       "      <td>61.05</td>\n",
       "      <td>11155</td>\n",
       "      <td>58154</td>\n",
       "      <td>672022</td>\n",
       "      <td>538547</td>\n",
       "      <td>64166</td>\n",
       "      <td>11007.731368</td>\n",
       "    </tr>\n",
       "    <tr>\n",
       "      <th>Rhode Island</th>\n",
       "      <td>1033.81</td>\n",
       "      <td>7592</td>\n",
       "      <td>32800</td>\n",
       "      <td>1045691</td>\n",
       "      <td>898574</td>\n",
       "      <td>106725</td>\n",
       "      <td>1011.492441</td>\n",
       "    </tr>\n",
       "    <tr>\n",
       "      <th>Delaware</th>\n",
       "      <td>1948.54</td>\n",
       "      <td>5747</td>\n",
       "      <td>33400</td>\n",
       "      <td>942073</td>\n",
       "      <td>817779</td>\n",
       "      <td>85147</td>\n",
       "      <td>483.476346</td>\n",
       "    </tr>\n",
       "    <tr>\n",
       "      <th>Connecticut</th>\n",
       "      <td>4842.36</td>\n",
       "      <td>26416</td>\n",
       "      <td>75586</td>\n",
       "      <td>3541758</td>\n",
       "      <td>3116440</td>\n",
       "      <td>323316</td>\n",
       "      <td>731.411543</td>\n",
       "    </tr>\n",
       "    <tr>\n",
       "      <th>Hawaii</th>\n",
       "      <td>6422.63</td>\n",
       "      <td>17431</td>\n",
       "      <td>57229</td>\n",
       "      <td>1410258</td>\n",
       "      <td>1217704</td>\n",
       "      <td>117894</td>\n",
       "      <td>219.576404</td>\n",
       "    </tr>\n",
       "  </tbody>\n",
       "</table>\n",
       "</div>"
      ],
      "text/plain": [
       "                         area  from_abroad  other_state  population  \\\n",
       "states                                                                \n",
       "District of Columbia    61.05        11155        58154      672022   \n",
       "Rhode Island          1033.81         7592        32800     1045691   \n",
       "Delaware              1948.54         5747        33400      942073   \n",
       "Connecticut           4842.36        26416        75586     3541758   \n",
       "Hawaii                6422.63        17431        57229     1410258   \n",
       "\n",
       "                      same_house  same_state       density  \n",
       "states                                                      \n",
       "District of Columbia      538547       64166  11007.731368  \n",
       "Rhode Island              898574      106725   1011.492441  \n",
       "Delaware                  817779       85147    483.476346  \n",
       "Connecticut              3116440      323316    731.411543  \n",
       "Hawaii                   1217704      117894    219.576404  "
      ]
     },
     "execution_count": 30,
     "metadata": {},
     "output_type": "execute_result"
    }
   ],
   "source": [
    "census.sort_values(\"area\")   .head()"
   ]
  },
  {
   "cell_type": "markdown",
   "metadata": {
    "slideshow": {
     "slide_type": "-"
    }
   },
   "source": [
    "### Quesito\n",
    "\n",
    "- Selezionare i 5 Stati più popolati"
   ]
  },
  {
   "cell_type": "code",
   "execution_count": 31,
   "metadata": {
    "slideshow": {
     "slide_type": "skip"
    }
   },
   "outputs": [
    {
     "data": {
      "text/html": [
       "<div>\n",
       "<style scoped>\n",
       "    .dataframe tbody tr th:only-of-type {\n",
       "        vertical-align: middle;\n",
       "    }\n",
       "\n",
       "    .dataframe tbody tr th {\n",
       "        vertical-align: top;\n",
       "    }\n",
       "\n",
       "    .dataframe thead th {\n",
       "        text-align: right;\n",
       "    }\n",
       "</style>\n",
       "<table border=\"1\" class=\"dataframe\">\n",
       "  <thead>\n",
       "    <tr style=\"text-align: right;\">\n",
       "      <th></th>\n",
       "      <th>area</th>\n",
       "      <th>from_abroad</th>\n",
       "      <th>other_state</th>\n",
       "      <th>population</th>\n",
       "      <th>same_house</th>\n",
       "      <th>same_state</th>\n",
       "      <th>density</th>\n",
       "    </tr>\n",
       "    <tr>\n",
       "      <th>states</th>\n",
       "      <th></th>\n",
       "      <th></th>\n",
       "      <th></th>\n",
       "      <th></th>\n",
       "      <th></th>\n",
       "      <th></th>\n",
       "      <th></th>\n",
       "    </tr>\n",
       "  </thead>\n",
       "  <tbody>\n",
       "    <tr>\n",
       "      <th>California</th>\n",
       "      <td>155779.22</td>\n",
       "      <td>336614</td>\n",
       "      <td>514758</td>\n",
       "      <td>38783436</td>\n",
       "      <td>33594813</td>\n",
       "      <td>4337251</td>\n",
       "      <td>248.964117</td>\n",
       "    </tr>\n",
       "    <tr>\n",
       "      <th>Texas</th>\n",
       "      <td>261231.71</td>\n",
       "      <td>234749</td>\n",
       "      <td>531996</td>\n",
       "      <td>27472626</td>\n",
       "      <td>23105984</td>\n",
       "      <td>3599897</td>\n",
       "      <td>105.165740</td>\n",
       "    </tr>\n",
       "    <tr>\n",
       "      <th>Florida</th>\n",
       "      <td>53624.76</td>\n",
       "      <td>232838</td>\n",
       "      <td>605018</td>\n",
       "      <td>20401575</td>\n",
       "      <td>17176492</td>\n",
       "      <td>2387227</td>\n",
       "      <td>380.450654</td>\n",
       "    </tr>\n",
       "    <tr>\n",
       "      <th>New York</th>\n",
       "      <td>47126.40</td>\n",
       "      <td>166069</td>\n",
       "      <td>260723</td>\n",
       "      <td>19526443</td>\n",
       "      <td>17465164</td>\n",
       "      <td>1634487</td>\n",
       "      <td>414.341919</td>\n",
       "    </tr>\n",
       "    <tr>\n",
       "      <th>Illinois</th>\n",
       "      <td>55518.93</td>\n",
       "      <td>65886</td>\n",
       "      <td>203713</td>\n",
       "      <td>12654142</td>\n",
       "      <td>10996695</td>\n",
       "      <td>1387848</td>\n",
       "      <td>227.924818</td>\n",
       "    </tr>\n",
       "  </tbody>\n",
       "</table>\n",
       "</div>"
      ],
      "text/plain": [
       "                 area  from_abroad  other_state  population  same_house  \\\n",
       "states                                                                    \n",
       "California  155779.22       336614       514758    38783436    33594813   \n",
       "Texas       261231.71       234749       531996    27472626    23105984   \n",
       "Florida      53624.76       232838       605018    20401575    17176492   \n",
       "New York     47126.40       166069       260723    19526443    17465164   \n",
       "Illinois     55518.93        65886       203713    12654142    10996695   \n",
       "\n",
       "            same_state     density  \n",
       "states                              \n",
       "California     4337251  248.964117  \n",
       "Texas          3599897  105.165740  \n",
       "Florida        2387227  380.450654  \n",
       "New York       1634487  414.341919  \n",
       "Illinois       1387848  227.924818  "
      ]
     },
     "execution_count": 31,
     "metadata": {},
     "output_type": "execute_result"
    }
   ],
   "source": [
    "# due soluzioni alternative (in ordine inverso)\n",
    "census.sort_values(\"population\").tail(5)\n",
    "census.sort_values(\"population\", ascending=False).head(5)"
   ]
  },
  {
   "cell_type": "markdown",
   "metadata": {
    "slideshow": {
     "slide_type": "slide"
    }
   },
   "source": [
    "## Join tra Frame\n",
    "\n",
    "- L'operazione di _join_ tipica dei database relazionali serve ad unire i dati presenti in più tabelle\n",
    "  - il risultato del join tra due tabelle A e B è una nuova tabella con ogni coppia di riga di A e riga di B per cui i valori di una o più coppie di colonne \"chiave\" combaciano\n",
    "- Per esercitarsi sulle operazioni di join, introduciamo altre tabelle...\n",
    "- Usiamo la funzione `read_csv` per scaricare direttamente le tabelle in forma di frame dato l'URL\n",
    "- L'ufficio del censimento USA suddivide gli Stati in quattro _regioni_ numerate da 1 a 4: la tabella `regions` riporta numeri e nomi delle regioni"
   ]
  },
  {
   "cell_type": "code",
   "execution_count": 32,
   "metadata": {},
   "outputs": [
    {
     "data": {
      "text/html": [
       "<div>\n",
       "<style scoped>\n",
       "    .dataframe tbody tr th:only-of-type {\n",
       "        vertical-align: middle;\n",
       "    }\n",
       "\n",
       "    .dataframe tbody tr th {\n",
       "        vertical-align: top;\n",
       "    }\n",
       "\n",
       "    .dataframe thead th {\n",
       "        text-align: right;\n",
       "    }\n",
       "</style>\n",
       "<table border=\"1\" class=\"dataframe\">\n",
       "  <thead>\n",
       "    <tr style=\"text-align: right;\">\n",
       "      <th></th>\n",
       "      <th>reg_num</th>\n",
       "      <th>reg_name</th>\n",
       "    </tr>\n",
       "  </thead>\n",
       "  <tbody>\n",
       "    <tr>\n",
       "      <th>0</th>\n",
       "      <td>1</td>\n",
       "      <td>Northeast</td>\n",
       "    </tr>\n",
       "    <tr>\n",
       "      <th>1</th>\n",
       "      <td>2</td>\n",
       "      <td>Midwest</td>\n",
       "    </tr>\n",
       "    <tr>\n",
       "      <th>2</th>\n",
       "      <td>3</td>\n",
       "      <td>South</td>\n",
       "    </tr>\n",
       "    <tr>\n",
       "      <th>3</th>\n",
       "      <td>4</td>\n",
       "      <td>West</td>\n",
       "    </tr>\n",
       "  </tbody>\n",
       "</table>\n",
       "</div>"
      ],
      "text/plain": [
       "   reg_num   reg_name\n",
       "0        1  Northeast\n",
       "1        2    Midwest\n",
       "2        3      South\n",
       "3        4       West"
      ]
     },
     "execution_count": 32,
     "metadata": {},
     "output_type": "execute_result"
    }
   ],
   "source": [
    "regions = pd.read_csv(\"https://git.io/vpt3O\")\n",
    "regions"
   ]
  },
  {
   "cell_type": "markdown",
   "metadata": {
    "slideshow": {
     "slide_type": "slide"
    }
   },
   "source": [
    "- Le regioni sono a loro volta organizzate in un totale di nove _divisioni_: la tabella `divisions` ne elenca numeri e nomi e le associa al numero della regione"
   ]
  },
  {
   "cell_type": "code",
   "execution_count": 33,
   "metadata": {},
   "outputs": [
    {
     "data": {
      "text/html": [
       "<div>\n",
       "<style scoped>\n",
       "    .dataframe tbody tr th:only-of-type {\n",
       "        vertical-align: middle;\n",
       "    }\n",
       "\n",
       "    .dataframe tbody tr th {\n",
       "        vertical-align: top;\n",
       "    }\n",
       "\n",
       "    .dataframe thead th {\n",
       "        text-align: right;\n",
       "    }\n",
       "</style>\n",
       "<table border=\"1\" class=\"dataframe\">\n",
       "  <thead>\n",
       "    <tr style=\"text-align: right;\">\n",
       "      <th></th>\n",
       "      <th>div_num</th>\n",
       "      <th>div_name</th>\n",
       "      <th>div_region</th>\n",
       "    </tr>\n",
       "  </thead>\n",
       "  <tbody>\n",
       "    <tr>\n",
       "      <th>0</th>\n",
       "      <td>1</td>\n",
       "      <td>New England</td>\n",
       "      <td>1</td>\n",
       "    </tr>\n",
       "    <tr>\n",
       "      <th>1</th>\n",
       "      <td>2</td>\n",
       "      <td>Middle Atlantic</td>\n",
       "      <td>1</td>\n",
       "    </tr>\n",
       "    <tr>\n",
       "      <th>2</th>\n",
       "      <td>3</td>\n",
       "      <td>East North Central</td>\n",
       "      <td>2</td>\n",
       "    </tr>\n",
       "    <tr>\n",
       "      <th>3</th>\n",
       "      <td>4</td>\n",
       "      <td>West North Central</td>\n",
       "      <td>2</td>\n",
       "    </tr>\n",
       "    <tr>\n",
       "      <th>4</th>\n",
       "      <td>5</td>\n",
       "      <td>South Atlantic</td>\n",
       "      <td>3</td>\n",
       "    </tr>\n",
       "    <tr>\n",
       "      <th>5</th>\n",
       "      <td>6</td>\n",
       "      <td>East South Central</td>\n",
       "      <td>3</td>\n",
       "    </tr>\n",
       "    <tr>\n",
       "      <th>6</th>\n",
       "      <td>7</td>\n",
       "      <td>West South Central</td>\n",
       "      <td>3</td>\n",
       "    </tr>\n",
       "    <tr>\n",
       "      <th>7</th>\n",
       "      <td>8</td>\n",
       "      <td>Mountain</td>\n",
       "      <td>4</td>\n",
       "    </tr>\n",
       "    <tr>\n",
       "      <th>8</th>\n",
       "      <td>9</td>\n",
       "      <td>Pacific</td>\n",
       "      <td>4</td>\n",
       "    </tr>\n",
       "  </tbody>\n",
       "</table>\n",
       "</div>"
      ],
      "text/plain": [
       "   div_num            div_name  div_region\n",
       "0        1         New England           1\n",
       "1        2     Middle Atlantic           1\n",
       "2        3  East North Central           2\n",
       "3        4  West North Central           2\n",
       "4        5      South Atlantic           3\n",
       "5        6  East South Central           3\n",
       "6        7  West South Central           3\n",
       "7        8            Mountain           4\n",
       "8        9             Pacific           4"
      ]
     },
     "execution_count": 33,
     "metadata": {},
     "output_type": "execute_result"
    }
   ],
   "source": [
    "divisions = pd.read_csv(\"https://git.io/vpt3R\")\n",
    "divisions"
   ]
  },
  {
   "cell_type": "markdown",
   "metadata": {
    "slideshow": {
     "slide_type": "slide"
    }
   },
   "source": [
    "- Effettuando join tra le due tabelle, possiamo associare ad ogni divisione il nome della regione in base al numero\n",
    "- Utilizziamo la funzione `merge` specificando i due frame da unire e, come parametri `left_on` e `right_on`, i nomi delle colonne su cui effettuare l'unione"
   ]
  },
  {
   "cell_type": "code",
   "execution_count": 34,
   "metadata": {},
   "outputs": [
    {
     "data": {
      "text/html": [
       "<div>\n",
       "<style scoped>\n",
       "    .dataframe tbody tr th:only-of-type {\n",
       "        vertical-align: middle;\n",
       "    }\n",
       "\n",
       "    .dataframe tbody tr th {\n",
       "        vertical-align: top;\n",
       "    }\n",
       "\n",
       "    .dataframe thead th {\n",
       "        text-align: right;\n",
       "    }\n",
       "</style>\n",
       "<table border=\"1\" class=\"dataframe\">\n",
       "  <thead>\n",
       "    <tr style=\"text-align: right;\">\n",
       "      <th></th>\n",
       "      <th>div_num</th>\n",
       "      <th>div_name</th>\n",
       "      <th>div_region</th>\n",
       "      <th>reg_num</th>\n",
       "      <th>reg_name</th>\n",
       "    </tr>\n",
       "  </thead>\n",
       "  <tbody>\n",
       "    <tr>\n",
       "      <th>0</th>\n",
       "      <td>1</td>\n",
       "      <td>New England</td>\n",
       "      <td>1</td>\n",
       "      <td>1</td>\n",
       "      <td>Northeast</td>\n",
       "    </tr>\n",
       "    <tr>\n",
       "      <th>1</th>\n",
       "      <td>2</td>\n",
       "      <td>Middle Atlantic</td>\n",
       "      <td>1</td>\n",
       "      <td>1</td>\n",
       "      <td>Northeast</td>\n",
       "    </tr>\n",
       "    <tr>\n",
       "      <th>2</th>\n",
       "      <td>3</td>\n",
       "      <td>East North Central</td>\n",
       "      <td>2</td>\n",
       "      <td>2</td>\n",
       "      <td>Midwest</td>\n",
       "    </tr>\n",
       "    <tr>\n",
       "      <th>3</th>\n",
       "      <td>4</td>\n",
       "      <td>West North Central</td>\n",
       "      <td>2</td>\n",
       "      <td>2</td>\n",
       "      <td>Midwest</td>\n",
       "    </tr>\n",
       "    <tr>\n",
       "      <th>4</th>\n",
       "      <td>5</td>\n",
       "      <td>South Atlantic</td>\n",
       "      <td>3</td>\n",
       "      <td>3</td>\n",
       "      <td>South</td>\n",
       "    </tr>\n",
       "    <tr>\n",
       "      <th>5</th>\n",
       "      <td>6</td>\n",
       "      <td>East South Central</td>\n",
       "      <td>3</td>\n",
       "      <td>3</td>\n",
       "      <td>South</td>\n",
       "    </tr>\n",
       "    <tr>\n",
       "      <th>6</th>\n",
       "      <td>7</td>\n",
       "      <td>West South Central</td>\n",
       "      <td>3</td>\n",
       "      <td>3</td>\n",
       "      <td>South</td>\n",
       "    </tr>\n",
       "    <tr>\n",
       "      <th>7</th>\n",
       "      <td>8</td>\n",
       "      <td>Mountain</td>\n",
       "      <td>4</td>\n",
       "      <td>4</td>\n",
       "      <td>West</td>\n",
       "    </tr>\n",
       "    <tr>\n",
       "      <th>8</th>\n",
       "      <td>9</td>\n",
       "      <td>Pacific</td>\n",
       "      <td>4</td>\n",
       "      <td>4</td>\n",
       "      <td>West</td>\n",
       "    </tr>\n",
       "  </tbody>\n",
       "</table>\n",
       "</div>"
      ],
      "text/plain": [
       "   div_num            div_name  div_region  reg_num   reg_name\n",
       "0        1         New England           1        1  Northeast\n",
       "1        2     Middle Atlantic           1        1  Northeast\n",
       "2        3  East North Central           2        2    Midwest\n",
       "3        4  West North Central           2        2    Midwest\n",
       "4        5      South Atlantic           3        3      South\n",
       "5        6  East South Central           3        3      South\n",
       "6        7  West South Central           3        3      South\n",
       "7        8            Mountain           4        4       West\n",
       "8        9             Pacific           4        4       West"
      ]
     },
     "execution_count": 34,
     "metadata": {},
     "output_type": "execute_result"
    }
   ],
   "source": [
    "divisions = pd.merge(divisions,            regions,\n",
    "                     left_on=\"div_region\", right_on=\"reg_num\")\n",
    "divisions"
   ]
  },
  {
   "cell_type": "markdown",
   "metadata": {
    "slideshow": {
     "slide_type": "slide"
    }
   },
   "source": [
    "- La tabella `states_div` associa ad ogni nome di Stato il numero della sua divisione"
   ]
  },
  {
   "cell_type": "code",
   "execution_count": 35,
   "metadata": {},
   "outputs": [
    {
     "data": {
      "text/html": [
       "<div>\n",
       "<style scoped>\n",
       "    .dataframe tbody tr th:only-of-type {\n",
       "        vertical-align: middle;\n",
       "    }\n",
       "\n",
       "    .dataframe tbody tr th {\n",
       "        vertical-align: top;\n",
       "    }\n",
       "\n",
       "    .dataframe thead th {\n",
       "        text-align: right;\n",
       "    }\n",
       "</style>\n",
       "<table border=\"1\" class=\"dataframe\">\n",
       "  <thead>\n",
       "    <tr style=\"text-align: right;\">\n",
       "      <th></th>\n",
       "      <th>state</th>\n",
       "      <th>division</th>\n",
       "    </tr>\n",
       "  </thead>\n",
       "  <tbody>\n",
       "    <tr>\n",
       "      <th>0</th>\n",
       "      <td>Alabama</td>\n",
       "      <td>6</td>\n",
       "    </tr>\n",
       "    <tr>\n",
       "      <th>1</th>\n",
       "      <td>Alaska</td>\n",
       "      <td>9</td>\n",
       "    </tr>\n",
       "    <tr>\n",
       "      <th>2</th>\n",
       "      <td>Arizona</td>\n",
       "      <td>8</td>\n",
       "    </tr>\n",
       "    <tr>\n",
       "      <th>3</th>\n",
       "      <td>Arkansas</td>\n",
       "      <td>7</td>\n",
       "    </tr>\n",
       "    <tr>\n",
       "      <th>4</th>\n",
       "      <td>California</td>\n",
       "      <td>9</td>\n",
       "    </tr>\n",
       "  </tbody>\n",
       "</table>\n",
       "</div>"
      ],
      "text/plain": [
       "        state  division\n",
       "0     Alabama         6\n",
       "1      Alaska         9\n",
       "2     Arizona         8\n",
       "3    Arkansas         7\n",
       "4  California         9"
      ]
     },
     "execution_count": 35,
     "metadata": {},
     "output_type": "execute_result"
    }
   ],
   "source": [
    "states_div = pd.read_csv(\"https://git.io/vpt3E\")\n",
    "states_div.head()"
   ]
  },
  {
   "cell_type": "markdown",
   "metadata": {
    "slideshow": {
     "slide_type": "slide"
    }
   },
   "source": [
    "### Quesito\n",
    "\n",
    "1. Creare una tabella dal join tra `states_div` e `divisions` che associ i nomi di divisione e regione ad ogni Stato\n",
    "2. Creare una tabella dal join tra quella del punto 1 e `census` per unire le informazioni in un unico frame\n",
    "  - per usare l'indice di una tabella come chiave di join invece di una colonna, in `merge` impostare `left_index=True` o `right_index=True` al posto di `left_on` o `right_on`\n",
    "3. \"Ripulire\" la tabella appena ottenuta al punto 2 impostando il nome dello Stato come indice ed eliminando le colonne ridondanti\n",
    "  - per eliminare la colonna C dal frame F: `del F[\"C\"]`"
   ]
  },
  {
   "cell_type": "code",
   "execution_count": 36,
   "metadata": {
    "slideshow": {
     "slide_type": "skip"
    }
   },
   "outputs": [
    {
     "data": {
      "text/html": [
       "<div>\n",
       "<style scoped>\n",
       "    .dataframe tbody tr th:only-of-type {\n",
       "        vertical-align: middle;\n",
       "    }\n",
       "\n",
       "    .dataframe tbody tr th {\n",
       "        vertical-align: top;\n",
       "    }\n",
       "\n",
       "    .dataframe thead th {\n",
       "        text-align: right;\n",
       "    }\n",
       "</style>\n",
       "<table border=\"1\" class=\"dataframe\">\n",
       "  <thead>\n",
       "    <tr style=\"text-align: right;\">\n",
       "      <th></th>\n",
       "      <th>state</th>\n",
       "      <th>division</th>\n",
       "      <th>div_num</th>\n",
       "      <th>div_name</th>\n",
       "      <th>div_region</th>\n",
       "      <th>reg_num</th>\n",
       "      <th>reg_name</th>\n",
       "    </tr>\n",
       "  </thead>\n",
       "  <tbody>\n",
       "    <tr>\n",
       "      <th>0</th>\n",
       "      <td>Alabama</td>\n",
       "      <td>6</td>\n",
       "      <td>6</td>\n",
       "      <td>East South Central</td>\n",
       "      <td>3</td>\n",
       "      <td>3</td>\n",
       "      <td>South</td>\n",
       "    </tr>\n",
       "    <tr>\n",
       "      <th>1</th>\n",
       "      <td>Kentucky</td>\n",
       "      <td>6</td>\n",
       "      <td>6</td>\n",
       "      <td>East South Central</td>\n",
       "      <td>3</td>\n",
       "      <td>3</td>\n",
       "      <td>South</td>\n",
       "    </tr>\n",
       "    <tr>\n",
       "      <th>2</th>\n",
       "      <td>Mississippi</td>\n",
       "      <td>6</td>\n",
       "      <td>6</td>\n",
       "      <td>East South Central</td>\n",
       "      <td>3</td>\n",
       "      <td>3</td>\n",
       "      <td>South</td>\n",
       "    </tr>\n",
       "  </tbody>\n",
       "</table>\n",
       "</div>"
      ],
      "text/plain": [
       "         state  division  div_num            div_name  div_region  reg_num  \\\n",
       "0      Alabama         6        6  East South Central           3        3   \n",
       "1     Kentucky         6        6  East South Central           3        3   \n",
       "2  Mississippi         6        6  East South Central           3        3   \n",
       "\n",
       "  reg_name  \n",
       "0    South  \n",
       "1    South  \n",
       "2    South  "
      ]
     },
     "execution_count": 36,
     "metadata": {},
     "output_type": "execute_result"
    }
   ],
   "source": [
    "states = pd.merge(states_div, divisions, left_on=\"division\", right_on=\"div_num\")\n",
    "states.head(3)"
   ]
  },
  {
   "cell_type": "code",
   "execution_count": 37,
   "metadata": {
    "slideshow": {
     "slide_type": "skip"
    }
   },
   "outputs": [
    {
     "data": {
      "text/html": [
       "<div>\n",
       "<style scoped>\n",
       "    .dataframe tbody tr th:only-of-type {\n",
       "        vertical-align: middle;\n",
       "    }\n",
       "\n",
       "    .dataframe tbody tr th {\n",
       "        vertical-align: top;\n",
       "    }\n",
       "\n",
       "    .dataframe thead th {\n",
       "        text-align: right;\n",
       "    }\n",
       "</style>\n",
       "<table border=\"1\" class=\"dataframe\">\n",
       "  <thead>\n",
       "    <tr style=\"text-align: right;\">\n",
       "      <th></th>\n",
       "      <th>area</th>\n",
       "      <th>from_abroad</th>\n",
       "      <th>other_state</th>\n",
       "      <th>population</th>\n",
       "      <th>same_house</th>\n",
       "      <th>same_state</th>\n",
       "      <th>density</th>\n",
       "      <th>state</th>\n",
       "      <th>division</th>\n",
       "      <th>div_num</th>\n",
       "      <th>div_name</th>\n",
       "      <th>div_region</th>\n",
       "      <th>reg_num</th>\n",
       "      <th>reg_name</th>\n",
       "    </tr>\n",
       "  </thead>\n",
       "  <tbody>\n",
       "    <tr>\n",
       "      <th>0</th>\n",
       "      <td>50645.33</td>\n",
       "      <td>16062</td>\n",
       "      <td>122220</td>\n",
       "      <td>4810126</td>\n",
       "      <td>4141850</td>\n",
       "      <td>529994</td>\n",
       "      <td>94.976694</td>\n",
       "      <td>Alabama</td>\n",
       "      <td>6</td>\n",
       "      <td>6</td>\n",
       "      <td>East South Central</td>\n",
       "      <td>3</td>\n",
       "      <td>3</td>\n",
       "      <td>South</td>\n",
       "    </tr>\n",
       "    <tr>\n",
       "      <th>4</th>\n",
       "      <td>570640.95</td>\n",
       "      <td>6559</td>\n",
       "      <td>31300</td>\n",
       "      <td>731760</td>\n",
       "      <td>593897</td>\n",
       "      <td>100004</td>\n",
       "      <td>1.282348</td>\n",
       "      <td>Alaska</td>\n",
       "      <td>9</td>\n",
       "      <td>9</td>\n",
       "      <td>Pacific</td>\n",
       "      <td>4</td>\n",
       "      <td>4</td>\n",
       "      <td>West</td>\n",
       "    </tr>\n",
       "    <tr>\n",
       "      <th>9</th>\n",
       "      <td>113594.08</td>\n",
       "      <td>53749</td>\n",
       "      <td>273257</td>\n",
       "      <td>6851836</td>\n",
       "      <td>5586753</td>\n",
       "      <td>938077</td>\n",
       "      <td>60.318601</td>\n",
       "      <td>Arizona</td>\n",
       "      <td>8</td>\n",
       "      <td>8</td>\n",
       "      <td>Mountain</td>\n",
       "      <td>4</td>\n",
       "      <td>4</td>\n",
       "      <td>West</td>\n",
       "    </tr>\n",
       "  </tbody>\n",
       "</table>\n",
       "</div>"
      ],
      "text/plain": [
       "        area  from_abroad  other_state  population  same_house  same_state  \\\n",
       "0   50645.33        16062       122220     4810126     4141850      529994   \n",
       "4  570640.95         6559        31300      731760      593897      100004   \n",
       "9  113594.08        53749       273257     6851836     5586753      938077   \n",
       "\n",
       "     density    state  division  div_num            div_name  div_region  \\\n",
       "0  94.976694  Alabama         6        6  East South Central           3   \n",
       "4   1.282348   Alaska         9        9             Pacific           4   \n",
       "9  60.318601  Arizona         8        8            Mountain           4   \n",
       "\n",
       "   reg_num reg_name  \n",
       "0        3    South  \n",
       "4        4     West  \n",
       "9        4     West  "
      ]
     },
     "execution_count": 37,
     "metadata": {},
     "output_type": "execute_result"
    }
   ],
   "source": [
    "states_with_census = pd.merge(census, states, left_index=True, right_on=\"state\")\n",
    "states_with_census.head(3)"
   ]
  },
  {
   "cell_type": "code",
   "execution_count": 38,
   "metadata": {
    "slideshow": {
     "slide_type": "skip"
    }
   },
   "outputs": [
    {
     "data": {
      "text/html": [
       "<div>\n",
       "<style scoped>\n",
       "    .dataframe tbody tr th:only-of-type {\n",
       "        vertical-align: middle;\n",
       "    }\n",
       "\n",
       "    .dataframe tbody tr th {\n",
       "        vertical-align: top;\n",
       "    }\n",
       "\n",
       "    .dataframe thead th {\n",
       "        text-align: right;\n",
       "    }\n",
       "</style>\n",
       "<table border=\"1\" class=\"dataframe\">\n",
       "  <thead>\n",
       "    <tr style=\"text-align: right;\">\n",
       "      <th></th>\n",
       "      <th>area</th>\n",
       "      <th>from_abroad</th>\n",
       "      <th>other_state</th>\n",
       "      <th>population</th>\n",
       "      <th>same_house</th>\n",
       "      <th>same_state</th>\n",
       "      <th>density</th>\n",
       "      <th>div_num</th>\n",
       "      <th>div_name</th>\n",
       "      <th>reg_num</th>\n",
       "      <th>reg_name</th>\n",
       "    </tr>\n",
       "    <tr>\n",
       "      <th>state</th>\n",
       "      <th></th>\n",
       "      <th></th>\n",
       "      <th></th>\n",
       "      <th></th>\n",
       "      <th></th>\n",
       "      <th></th>\n",
       "      <th></th>\n",
       "      <th></th>\n",
       "      <th></th>\n",
       "      <th></th>\n",
       "      <th></th>\n",
       "    </tr>\n",
       "  </thead>\n",
       "  <tbody>\n",
       "    <tr>\n",
       "      <th>Alabama</th>\n",
       "      <td>50645.33</td>\n",
       "      <td>16062</td>\n",
       "      <td>122220</td>\n",
       "      <td>4810126</td>\n",
       "      <td>4141850</td>\n",
       "      <td>529994</td>\n",
       "      <td>94.976694</td>\n",
       "      <td>6</td>\n",
       "      <td>East South Central</td>\n",
       "      <td>3</td>\n",
       "      <td>South</td>\n",
       "    </tr>\n",
       "    <tr>\n",
       "      <th>Alaska</th>\n",
       "      <td>570640.95</td>\n",
       "      <td>6559</td>\n",
       "      <td>31300</td>\n",
       "      <td>731760</td>\n",
       "      <td>593897</td>\n",
       "      <td>100004</td>\n",
       "      <td>1.282348</td>\n",
       "      <td>9</td>\n",
       "      <td>Pacific</td>\n",
       "      <td>4</td>\n",
       "      <td>West</td>\n",
       "    </tr>\n",
       "    <tr>\n",
       "      <th>Arizona</th>\n",
       "      <td>113594.08</td>\n",
       "      <td>53749</td>\n",
       "      <td>273257</td>\n",
       "      <td>6851836</td>\n",
       "      <td>5586753</td>\n",
       "      <td>938077</td>\n",
       "      <td>60.318601</td>\n",
       "      <td>8</td>\n",
       "      <td>Mountain</td>\n",
       "      <td>4</td>\n",
       "      <td>West</td>\n",
       "    </tr>\n",
       "  </tbody>\n",
       "</table>\n",
       "</div>"
      ],
      "text/plain": [
       "              area  from_abroad  other_state  population  same_house  \\\n",
       "state                                                                  \n",
       "Alabama   50645.33        16062       122220     4810126     4141850   \n",
       "Alaska   570640.95         6559        31300      731760      593897   \n",
       "Arizona  113594.08        53749       273257     6851836     5586753   \n",
       "\n",
       "         same_state    density  div_num            div_name  reg_num reg_name  \n",
       "state                                                                          \n",
       "Alabama      529994  94.976694        6  East South Central        3    South  \n",
       "Alaska       100004   1.282348        9             Pacific        4     West  \n",
       "Arizona      938077  60.318601        8            Mountain        4     West  "
      ]
     },
     "execution_count": 38,
     "metadata": {},
     "output_type": "execute_result"
    }
   ],
   "source": [
    "states_with_census.set_index(\"state\", inplace=True)\n",
    "del states_with_census[\"division\"]\n",
    "del states_with_census[\"div_region\"]\n",
    "states_with_census.head(3)"
   ]
  },
  {
   "cell_type": "markdown",
   "metadata": {
    "slideshow": {
     "slide_type": "slide"
    }
   },
   "source": [
    "## Esempio 2: Mance Lasciate da Clienti\n",
    "\n",
    "- _tips_ è un set di dati ipoteticamente raccolti da unù cameriere riguardanti le mance che ha ricevuto in un periodo di tempo\n",
    "- Scarichiamo il file sul disco..."
   ]
  },
  {
   "cell_type": "code",
   "execution_count": 39,
   "metadata": {},
   "outputs": [
    {
     "data": {
      "text/plain": [
       "('tips.csv', <http.client.HTTPMessage at 0x7f2909b656a0>)"
      ]
     },
     "execution_count": 39,
     "metadata": {},
     "output_type": "execute_result"
    }
   ],
   "source": [
    "from urllib.request import urlretrieve\n",
    "urlretrieve(\"https://git.io/vptsn\", \"tips.csv\")"
   ]
  },
  {
   "cell_type": "markdown",
   "metadata": {
    "slideshow": {
     "slide_type": "-"
    }
   },
   "source": [
    "- Usare la funzione `read_csv` per caricare il file\n",
    "  - il file è interpretato correttamente con le impostazioni di default"
   ]
  },
  {
   "cell_type": "code",
   "execution_count": 40,
   "metadata": {},
   "outputs": [],
   "source": [
    "tips = pd.read_csv(\"tips.csv\")"
   ]
  },
  {
   "cell_type": "markdown",
   "metadata": {
    "slideshow": {
     "slide_type": "slide"
    }
   },
   "source": [
    "- Per sapere il numero di righe e colonne possiamo vedere la forma (`shape`) del frame"
   ]
  },
  {
   "cell_type": "code",
   "execution_count": 41,
   "metadata": {},
   "outputs": [
    {
     "data": {
      "text/plain": [
       "(244, 7)"
      ]
     },
     "execution_count": 41,
     "metadata": {},
     "output_type": "execute_result"
    }
   ],
   "source": [
    "tips.shape"
   ]
  },
  {
   "cell_type": "markdown",
   "metadata": {},
   "source": [
    "- Usiamo il metodo `head` per visionare le prime righe"
   ]
  },
  {
   "cell_type": "code",
   "execution_count": 42,
   "metadata": {},
   "outputs": [
    {
     "data": {
      "text/html": [
       "<div>\n",
       "<style scoped>\n",
       "    .dataframe tbody tr th:only-of-type {\n",
       "        vertical-align: middle;\n",
       "    }\n",
       "\n",
       "    .dataframe tbody tr th {\n",
       "        vertical-align: top;\n",
       "    }\n",
       "\n",
       "    .dataframe thead th {\n",
       "        text-align: right;\n",
       "    }\n",
       "</style>\n",
       "<table border=\"1\" class=\"dataframe\">\n",
       "  <thead>\n",
       "    <tr style=\"text-align: right;\">\n",
       "      <th></th>\n",
       "      <th>total_bill</th>\n",
       "      <th>tip</th>\n",
       "      <th>sex</th>\n",
       "      <th>smoker</th>\n",
       "      <th>day</th>\n",
       "      <th>time</th>\n",
       "      <th>size</th>\n",
       "    </tr>\n",
       "  </thead>\n",
       "  <tbody>\n",
       "    <tr>\n",
       "      <th>0</th>\n",
       "      <td>16.99</td>\n",
       "      <td>1.01</td>\n",
       "      <td>Female</td>\n",
       "      <td>No</td>\n",
       "      <td>Sun</td>\n",
       "      <td>Dinner</td>\n",
       "      <td>2</td>\n",
       "    </tr>\n",
       "    <tr>\n",
       "      <th>1</th>\n",
       "      <td>10.34</td>\n",
       "      <td>1.66</td>\n",
       "      <td>Male</td>\n",
       "      <td>No</td>\n",
       "      <td>Sun</td>\n",
       "      <td>Dinner</td>\n",
       "      <td>3</td>\n",
       "    </tr>\n",
       "    <tr>\n",
       "      <th>2</th>\n",
       "      <td>21.01</td>\n",
       "      <td>3.50</td>\n",
       "      <td>Male</td>\n",
       "      <td>No</td>\n",
       "      <td>Sun</td>\n",
       "      <td>Dinner</td>\n",
       "      <td>3</td>\n",
       "    </tr>\n",
       "    <tr>\n",
       "      <th>3</th>\n",
       "      <td>23.68</td>\n",
       "      <td>3.31</td>\n",
       "      <td>Male</td>\n",
       "      <td>No</td>\n",
       "      <td>Sun</td>\n",
       "      <td>Dinner</td>\n",
       "      <td>2</td>\n",
       "    </tr>\n",
       "    <tr>\n",
       "      <th>4</th>\n",
       "      <td>24.59</td>\n",
       "      <td>3.61</td>\n",
       "      <td>Female</td>\n",
       "      <td>No</td>\n",
       "      <td>Sun</td>\n",
       "      <td>Dinner</td>\n",
       "      <td>4</td>\n",
       "    </tr>\n",
       "  </tbody>\n",
       "</table>\n",
       "</div>"
      ],
      "text/plain": [
       "   total_bill   tip     sex smoker  day    time  size\n",
       "0       16.99  1.01  Female     No  Sun  Dinner     2\n",
       "1       10.34  1.66    Male     No  Sun  Dinner     3\n",
       "2       21.01  3.50    Male     No  Sun  Dinner     3\n",
       "3       23.68  3.31    Male     No  Sun  Dinner     2\n",
       "4       24.59  3.61  Female     No  Sun  Dinner     4"
      ]
     },
     "execution_count": 42,
     "metadata": {},
     "output_type": "execute_result"
    }
   ],
   "source": [
    "tips.head()"
   ]
  },
  {
   "cell_type": "markdown",
   "metadata": {
    "slideshow": {
     "slide_type": "slide"
    }
   },
   "source": [
    "## Significati delle Colonne\n",
    "\n",
    "- `total_bill`: totale del conto\n",
    "- `tip` mancia lasciata dal cliente pagante\n",
    "- `sex`: sesso del cliente pagante\n",
    "- `smoker`: se nel gruppo erano presenti fumatori\n",
    "- `day`: giorno della settimana\n",
    "- `time`: pranzo o cena\n",
    "- `size`: numero di persone al tavolo\n",
    "\n",
    "I tipi dei dati sono:\n",
    "- numeri decimali in `total_bill` e `tip` (quantità di denaro)\n",
    "- numeri interi in `size`\n",
    "- categorici nelle altre colonne"
   ]
  },
  {
   "cell_type": "markdown",
   "metadata": {
    "slideshow": {
     "slide_type": "slide"
    }
   },
   "source": [
    "## Ottimizzazione dello Spazio in Memoria\n",
    "\n",
    "- Senza specificare tipi delle colonne, pandas li imposta in automatico\n",
    "- Questo può portare ad una memorizzazione poco efficiente dei dati\n",
    "- Usiamo il metodo `info` come segue per vedere i tipi di colonne usati e la dimensione in memoria del dataset caricato"
   ]
  },
  {
   "cell_type": "code",
   "execution_count": 43,
   "metadata": {},
   "outputs": [
    {
     "name": "stdout",
     "output_type": "stream",
     "text": [
      "<class 'pandas.core.frame.DataFrame'>\n",
      "RangeIndex: 244 entries, 0 to 243\n",
      "Data columns (total 7 columns):\n",
      "total_bill    244 non-null float64\n",
      "tip           244 non-null float64\n",
      "sex           244 non-null object\n",
      "smoker        244 non-null object\n",
      "day           244 non-null object\n",
      "time          244 non-null object\n",
      "size          244 non-null int64\n",
      "dtypes: float64(2), int64(1), object(4)\n",
      "memory usage: 64.0 KB\n"
     ]
    }
   ],
   "source": [
    "tips.info(memory_usage=\"deep\")"
   ]
  },
  {
   "cell_type": "markdown",
   "metadata": {},
   "source": [
    "- Sono possibili alcune ottimizzazioni:\n",
    "  - convertire le colonne stringa (`object`) in categoriche\n",
    "  - `smoker` con categorie \"sì\" e \"no\" può essere diventare booleana\n",
    "  - ridurre la precisione delle colonne numeriche"
   ]
  },
  {
   "cell_type": "markdown",
   "metadata": {
    "slideshow": {
     "slide_type": "slide"
    }
   },
   "source": [
    "### Caricamento con Tipi di Colonne Definiti Manualmente\n",
    "\n",
    "- Definiamo i tipi desiderati per ciascuna colonna e ricarichiamo il file\n",
    "  - con `dtypes` indichiamo in un dizionario i tipi di colonne\n",
    "  - con i parametri `true_values` e `false_values` indichiamo a pandas quali stringhe sono usate nel file per rappresentare i valori booleani `True` e `False`"
   ]
  },
  {
   "cell_type": "code",
   "execution_count": 44,
   "metadata": {
    "slideshow": {
     "slide_type": "-"
    }
   },
   "outputs": [],
   "source": [
    "tips_dtypes = {\n",
    "  \"total_bill\": \"float32\",\n",
    "         \"tip\": \"float32\",\n",
    "         \"sex\": \"category\",\n",
    "      \"smoker\": \"bool\",\n",
    "         \"day\": \"category\",\n",
    "        \"time\": \"category\",\n",
    "        \"size\": \"int8\"\n",
    "}\n",
    "tips = pd.read_csv(\"tips.csv\", dtype=tips_dtypes,\n",
    "                   true_values=[\"Yes\"], false_values=[\"No\"])"
   ]
  },
  {
   "cell_type": "markdown",
   "metadata": {
    "slideshow": {
     "slide_type": "slide"
    }
   },
   "source": [
    "- Otteniamo un frame con gli stessi dati di prima..."
   ]
  },
  {
   "cell_type": "code",
   "execution_count": 45,
   "metadata": {},
   "outputs": [
    {
     "data": {
      "text/html": [
       "<div>\n",
       "<style scoped>\n",
       "    .dataframe tbody tr th:only-of-type {\n",
       "        vertical-align: middle;\n",
       "    }\n",
       "\n",
       "    .dataframe tbody tr th {\n",
       "        vertical-align: top;\n",
       "    }\n",
       "\n",
       "    .dataframe thead th {\n",
       "        text-align: right;\n",
       "    }\n",
       "</style>\n",
       "<table border=\"1\" class=\"dataframe\">\n",
       "  <thead>\n",
       "    <tr style=\"text-align: right;\">\n",
       "      <th></th>\n",
       "      <th>total_bill</th>\n",
       "      <th>tip</th>\n",
       "      <th>sex</th>\n",
       "      <th>smoker</th>\n",
       "      <th>day</th>\n",
       "      <th>time</th>\n",
       "      <th>size</th>\n",
       "    </tr>\n",
       "  </thead>\n",
       "  <tbody>\n",
       "    <tr>\n",
       "      <th>0</th>\n",
       "      <td>16.990000</td>\n",
       "      <td>1.01</td>\n",
       "      <td>Female</td>\n",
       "      <td>False</td>\n",
       "      <td>Sun</td>\n",
       "      <td>Dinner</td>\n",
       "      <td>2</td>\n",
       "    </tr>\n",
       "    <tr>\n",
       "      <th>1</th>\n",
       "      <td>10.340000</td>\n",
       "      <td>1.66</td>\n",
       "      <td>Male</td>\n",
       "      <td>False</td>\n",
       "      <td>Sun</td>\n",
       "      <td>Dinner</td>\n",
       "      <td>3</td>\n",
       "    </tr>\n",
       "    <tr>\n",
       "      <th>2</th>\n",
       "      <td>21.010000</td>\n",
       "      <td>3.50</td>\n",
       "      <td>Male</td>\n",
       "      <td>False</td>\n",
       "      <td>Sun</td>\n",
       "      <td>Dinner</td>\n",
       "      <td>3</td>\n",
       "    </tr>\n",
       "    <tr>\n",
       "      <th>3</th>\n",
       "      <td>23.680000</td>\n",
       "      <td>3.31</td>\n",
       "      <td>Male</td>\n",
       "      <td>False</td>\n",
       "      <td>Sun</td>\n",
       "      <td>Dinner</td>\n",
       "      <td>2</td>\n",
       "    </tr>\n",
       "    <tr>\n",
       "      <th>4</th>\n",
       "      <td>24.590000</td>\n",
       "      <td>3.61</td>\n",
       "      <td>Female</td>\n",
       "      <td>False</td>\n",
       "      <td>Sun</td>\n",
       "      <td>Dinner</td>\n",
       "      <td>4</td>\n",
       "    </tr>\n",
       "    <tr>\n",
       "      <th>5</th>\n",
       "      <td>25.290001</td>\n",
       "      <td>4.71</td>\n",
       "      <td>Male</td>\n",
       "      <td>False</td>\n",
       "      <td>Sun</td>\n",
       "      <td>Dinner</td>\n",
       "      <td>4</td>\n",
       "    </tr>\n",
       "    <tr>\n",
       "      <th>6</th>\n",
       "      <td>8.770000</td>\n",
       "      <td>2.00</td>\n",
       "      <td>Male</td>\n",
       "      <td>False</td>\n",
       "      <td>Sun</td>\n",
       "      <td>Dinner</td>\n",
       "      <td>2</td>\n",
       "    </tr>\n",
       "    <tr>\n",
       "      <th>7</th>\n",
       "      <td>26.879999</td>\n",
       "      <td>3.12</td>\n",
       "      <td>Male</td>\n",
       "      <td>False</td>\n",
       "      <td>Sun</td>\n",
       "      <td>Dinner</td>\n",
       "      <td>4</td>\n",
       "    </tr>\n",
       "    <tr>\n",
       "      <th>8</th>\n",
       "      <td>15.040000</td>\n",
       "      <td>1.96</td>\n",
       "      <td>Male</td>\n",
       "      <td>False</td>\n",
       "      <td>Sun</td>\n",
       "      <td>Dinner</td>\n",
       "      <td>2</td>\n",
       "    </tr>\n",
       "    <tr>\n",
       "      <th>9</th>\n",
       "      <td>14.780000</td>\n",
       "      <td>3.23</td>\n",
       "      <td>Male</td>\n",
       "      <td>False</td>\n",
       "      <td>Sun</td>\n",
       "      <td>Dinner</td>\n",
       "      <td>2</td>\n",
       "    </tr>\n",
       "  </tbody>\n",
       "</table>\n",
       "</div>"
      ],
      "text/plain": [
       "   total_bill   tip     sex  smoker  day    time  size\n",
       "0   16.990000  1.01  Female   False  Sun  Dinner     2\n",
       "1   10.340000  1.66    Male   False  Sun  Dinner     3\n",
       "2   21.010000  3.50    Male   False  Sun  Dinner     3\n",
       "3   23.680000  3.31    Male   False  Sun  Dinner     2\n",
       "4   24.590000  3.61  Female   False  Sun  Dinner     4\n",
       "5   25.290001  4.71    Male   False  Sun  Dinner     4\n",
       "6    8.770000  2.00    Male   False  Sun  Dinner     2\n",
       "7   26.879999  3.12    Male   False  Sun  Dinner     4\n",
       "8   15.040000  1.96    Male   False  Sun  Dinner     2\n",
       "9   14.780000  3.23    Male   False  Sun  Dinner     2"
      ]
     },
     "execution_count": 45,
     "metadata": {},
     "output_type": "execute_result"
    }
   ],
   "source": [
    "tips.head(10)"
   ]
  },
  {
   "cell_type": "markdown",
   "metadata": {
    "slideshow": {
     "slide_type": "slide"
    }
   },
   "source": [
    "- ...ma con un uso di memoria più di 10 volte inferiore!"
   ]
  },
  {
   "cell_type": "code",
   "execution_count": 46,
   "metadata": {},
   "outputs": [
    {
     "name": "stdout",
     "output_type": "stream",
     "text": [
      "<class 'pandas.core.frame.DataFrame'>\n",
      "RangeIndex: 244 entries, 0 to 243\n",
      "Data columns (total 7 columns):\n",
      "total_bill    244 non-null float32\n",
      "tip           244 non-null float32\n",
      "sex           244 non-null category\n",
      "smoker        244 non-null bool\n",
      "day           244 non-null category\n",
      "time          244 non-null category\n",
      "size          244 non-null int8\n",
      "dtypes: bool(1), category(3), float32(2), int8(1)\n",
      "memory usage: 3.8 KB\n"
     ]
    }
   ],
   "source": [
    "tips.info(memory_usage=\"deep\")"
   ]
  },
  {
   "cell_type": "markdown",
   "metadata": {},
   "source": [
    "- Queste ottimizzazioni fanno poca differenza per un dataset piccolo come questo, ma possono essere importanti per dataset grandi"
   ]
  },
  {
   "cell_type": "markdown",
   "metadata": {
    "slideshow": {
     "slide_type": "slide"
    }
   },
   "source": [
    "## Discretizzazione\n",
    "\n",
    "- Per raggruppare tra loro valori in una scala continua e ridurre il numero di valori distinti, possiamo suddividere i valori in intervalli\n",
    "- Le funzioni `cut` e `qcut` generano una divisione per intervalli rispettivamente di pari ampiezza o di pari numero di elementi\n",
    "- Ad esempio otteniamo una serie con i totali pagati per tavolo divisi in tre fasce di pari ampiezza\n",
    "  - in fondo alla serie sono elencate le tre fasce generate, in ordine"
   ]
  },
  {
   "cell_type": "code",
   "execution_count": 47,
   "metadata": {},
   "outputs": [
    {
     "data": {
      "text/plain": [
       "0     (3.022, 18.983]\n",
       "1     (3.022, 18.983]\n",
       "2    (18.983, 34.897]\n",
       "3    (18.983, 34.897]\n",
       "4    (18.983, 34.897]\n",
       "Name: total_bill, dtype: category\n",
       "Categories (3, interval[float64]): [(3.022, 18.983] < (18.983, 34.897] < (34.897, 50.81]]"
      ]
     },
     "execution_count": 47,
     "metadata": {},
     "output_type": "execute_result"
    }
   ],
   "source": [
    "totals_binned = pd.cut(tips.total_bill, 3)\n",
    "totals_binned.head()"
   ]
  },
  {
   "cell_type": "markdown",
   "metadata": {
    "slideshow": {
     "slide_type": "slide"
    }
   },
   "source": [
    "- Col metodo `value_counts` si può verificare la distribuzione dei valori nelle fasce"
   ]
  },
  {
   "cell_type": "code",
   "execution_count": 48,
   "metadata": {},
   "outputs": [
    {
     "data": {
      "text/plain": [
       "(3.022, 18.983]     140\n",
       "(18.983, 34.897]     88\n",
       "(34.897, 50.81]      16\n",
       "Name: total_bill, dtype: int64"
      ]
     },
     "execution_count": 48,
     "metadata": {},
     "output_type": "execute_result"
    }
   ],
   "source": [
    "totals_binned.value_counts()"
   ]
  },
  {
   "cell_type": "markdown",
   "metadata": {
    "slideshow": {
     "slide_type": "-"
    }
   },
   "source": [
    "- Aggiungiamo la serie come nuova colonna al frame"
   ]
  },
  {
   "cell_type": "code",
   "execution_count": 49,
   "metadata": {},
   "outputs": [],
   "source": [
    "tips[\"total_range\"] = totals_binned"
   ]
  },
  {
   "cell_type": "markdown",
   "metadata": {
    "slideshow": {
     "slide_type": "slide"
    }
   },
   "source": [
    "## Raggruppamento e Statistiche per Gruppi\n",
    "\n",
    "- Col metodo `groupby` si possono creare partizioni dei dati del frame in base ai valori di una o più colonne\n",
    "  - si ha un gruppo di dati per ogni combinazione di valori distinta\n",
    "- Sui raggruppamenti si possono eseguire diverse operazioni, incluso in particolare il calcolo di statistiche separate su di essi\n",
    "- Possiamo ad esempio ottenere in modo semplice la media delle mance in base al giorno della settimana"
   ]
  },
  {
   "cell_type": "code",
   "execution_count": 50,
   "metadata": {},
   "outputs": [
    {
     "data": {
      "text/plain": [
       "day\n",
       "Fri     2.734737\n",
       "Sat     2.993104\n",
       "Sun     3.255131\n",
       "Thur    2.771452\n",
       "Name: tip, dtype: float32"
      ]
     },
     "execution_count": 50,
     "metadata": {},
     "output_type": "execute_result"
    }
   ],
   "source": [
    "#tips.groupby(\"day\")                 raggruppo per giorno della settimana\n",
    "#tips.groupby(\"day\").mean()          calcolo le medie di ogni colonna\n",
    "tips .groupby(\"day\").mean()[\"tip\"] # estraggo le medie delle mance"
   ]
  },
  {
   "cell_type": "markdown",
   "metadata": {
    "slideshow": {
     "slide_type": "slide"
    }
   },
   "source": [
    "- Se siamo interessati alla media per gruppi su una sola colonna, possiamo applicare `groupby` solo ad essa"
   ]
  },
  {
   "cell_type": "code",
   "execution_count": 51,
   "metadata": {},
   "outputs": [
    {
     "data": {
      "text/plain": [
       "day\n",
       "Fri     2.734737\n",
       "Sat     2.993104\n",
       "Sun     3.255131\n",
       "Thur    2.771452\n",
       "Name: tip, dtype: float32"
      ]
     },
     "execution_count": 51,
     "metadata": {},
     "output_type": "execute_result"
    }
   ],
   "source": [
    "#tips.tip                            estraggo la colonna delle mance\n",
    "#tips.tip.groupby(tips.day)          partiziono la serie per giorno\n",
    "tips .tip.groupby(tips.day).mean() # estraggo la media per gruppi"
   ]
  },
  {
   "cell_type": "markdown",
   "metadata": {
    "slideshow": {
     "slide_type": "slide"
    }
   },
   "source": [
    "- Col metodo `aggregate` possiamo specificare una lista di statistiche da calcolare\n",
    "  - possiamo usare le funzioni di NumPy, equivalenti ai rispettivi metodi degli array con lo stesso nome"
   ]
  },
  {
   "cell_type": "code",
   "execution_count": 52,
   "metadata": {},
   "outputs": [
    {
     "data": {
      "text/html": [
       "<div>\n",
       "<style scoped>\n",
       "    .dataframe tbody tr th:only-of-type {\n",
       "        vertical-align: middle;\n",
       "    }\n",
       "\n",
       "    .dataframe tbody tr th {\n",
       "        vertical-align: top;\n",
       "    }\n",
       "\n",
       "    .dataframe thead th {\n",
       "        text-align: right;\n",
       "    }\n",
       "</style>\n",
       "<table border=\"1\" class=\"dataframe\">\n",
       "  <thead>\n",
       "    <tr style=\"text-align: right;\">\n",
       "      <th></th>\n",
       "      <th>amin</th>\n",
       "      <th>amax</th>\n",
       "      <th>mean</th>\n",
       "      <th>std</th>\n",
       "    </tr>\n",
       "    <tr>\n",
       "      <th>day</th>\n",
       "      <th></th>\n",
       "      <th></th>\n",
       "      <th></th>\n",
       "      <th></th>\n",
       "    </tr>\n",
       "  </thead>\n",
       "  <tbody>\n",
       "    <tr>\n",
       "      <th>Fri</th>\n",
       "      <td>1.00</td>\n",
       "      <td>4.73</td>\n",
       "      <td>2.734737</td>\n",
       "      <td>1.019577</td>\n",
       "    </tr>\n",
       "    <tr>\n",
       "      <th>Sat</th>\n",
       "      <td>1.00</td>\n",
       "      <td>10.00</td>\n",
       "      <td>2.993104</td>\n",
       "      <td>1.631014</td>\n",
       "    </tr>\n",
       "    <tr>\n",
       "      <th>Sun</th>\n",
       "      <td>1.01</td>\n",
       "      <td>6.50</td>\n",
       "      <td>3.255131</td>\n",
       "      <td>1.234880</td>\n",
       "    </tr>\n",
       "    <tr>\n",
       "      <th>Thur</th>\n",
       "      <td>1.25</td>\n",
       "      <td>6.70</td>\n",
       "      <td>2.771452</td>\n",
       "      <td>1.240223</td>\n",
       "    </tr>\n",
       "  </tbody>\n",
       "</table>\n",
       "</div>"
      ],
      "text/plain": [
       "      amin   amax      mean       std\n",
       "day                                  \n",
       "Fri   1.00   4.73  2.734737  1.019577\n",
       "Sat   1.00  10.00  2.993104  1.631014\n",
       "Sun   1.01   6.50  3.255131  1.234880\n",
       "Thur  1.25   6.70  2.771452  1.240223"
      ]
     },
     "execution_count": 52,
     "metadata": {},
     "output_type": "execute_result"
    }
   ],
   "source": [
    "tips.tip.groupby(tips.day).aggregate([np.min, np.max, np.mean, np.std])"
   ]
  },
  {
   "cell_type": "markdown",
   "metadata": {
    "slideshow": {
     "slide_type": "slide"
    }
   },
   "source": [
    "### Quesito\n",
    "\n",
    "- Calcolare la spesa media dei tavoli per gruppi distinguendo pranzi e cene e fumatori e non\n",
    "  - si ha un totale di 4 gruppi, tra cui ad es. \"pranzo, non fumatori\""
   ]
  },
  {
   "cell_type": "code",
   "execution_count": 53,
   "metadata": {
    "slideshow": {
     "slide_type": "skip"
    }
   },
   "outputs": [
    {
     "data": {
      "text/plain": [
       "time    smoker\n",
       "Dinner  False     20.095661\n",
       "        True      21.859428\n",
       "Lunch   False     17.050888\n",
       "        True      17.399130\n",
       "Name: total_bill, dtype: float32"
      ]
     },
     "execution_count": 53,
     "metadata": {},
     "output_type": "execute_result"
    }
   ],
   "source": [
    "tips.total_bill.groupby([tips.time, tips.smoker]).mean()"
   ]
  },
  {
   "cell_type": "markdown",
   "metadata": {
    "slideshow": {
     "slide_type": "slide"
    }
   },
   "source": [
    "## Riorganizzare i Dati nelle Tabelle col Pivoting\n",
    "\n",
    "- Calcoliamo la media delle mance divisa su diverse caratteristiche: giorno della settimana, orario (pranzo o cena) e fascia di spesa (tra le tre individuate sopra)\n",
    "- Otteniamo una serie di medie sulle diverse combinazioni..."
   ]
  },
  {
   "cell_type": "code",
   "execution_count": 54,
   "metadata": {},
   "outputs": [
    {
     "data": {
      "text/plain": [
       "day   time    total_range     \n",
       "Fri   Dinner  (3.022, 18.983]     2.300000\n",
       "              (18.983, 34.897]    3.350000\n",
       "              (34.897, 50.81]     4.730000\n",
       "      Lunch   (3.022, 18.983]     2.382857\n",
       "Sat   Dinner  (3.022, 18.983]     2.302341\n",
       "              (18.983, 34.897]    3.303437\n",
       "              (34.897, 50.81]     5.810000\n",
       "Sun   Dinner  (3.022, 18.983]     2.557297\n",
       "              (18.983, 34.897]    3.890294\n",
       "              (34.897, 50.81]     4.100000\n",
       "Thur  Dinner  (3.022, 18.983]     3.000000\n",
       "      Lunch   (3.022, 18.983]     2.231667\n",
       "              (18.983, 34.897]    3.829412\n",
       "              (34.897, 50.81]     5.000000\n",
       "Name: tip, dtype: float32"
      ]
     },
     "execution_count": 54,
     "metadata": {},
     "output_type": "execute_result"
    }
   ],
   "source": [
    "mean_tip_summary = \\\n",
    "    tips.tip.groupby([tips.day, tips.time, tips.total_range]).mean()\n",
    "mean_tip_summary"
   ]
  },
  {
   "cell_type": "markdown",
   "metadata": {
    "slideshow": {
     "slide_type": "slide"
    }
   },
   "source": [
    "- La serie ottenuta ha un indice a tre _livelli_: ogni etichetta è la combinazione di tre valori, corrispondenti alle tre chiavi di raggruppamento\n",
    "- Per migliorare la leggibilità dei risultati, li vorremmo rappresentare una tabella\n",
    "  - ad es. una riga per giorno della settimana, una colonna per combinazione di orario e fascia di spesa\n",
    "- Le operazioni di _pivoting_ permettono di riorganizzare una serie o un frame \"girando\" alcuni livelli (o _dimensioni_) dei dati dalle righe alle colonne o viceversa\n",
    "- Nell'esempio sopra ci sono tre dimensioni: giorno settimana, orario, fascia spesa\n",
    "- Per creare una tabella, possiamo spostare una o due di queste dimensioni dall'indice delle righe a quello delle colonne\n",
    "  - trattandosi di una serie, l'indice delle colonne è al momento \"vuoto\"\n",
    "- Usiamo il metodo `unstack` per eseguire questa operazione sulle ultime due dimensioni"
   ]
  },
  {
   "cell_type": "code",
   "execution_count": 55,
   "metadata": {
    "slideshow": {
     "slide_type": "slide"
    }
   },
   "outputs": [
    {
     "data": {
      "text/html": [
       "<div>\n",
       "<style scoped>\n",
       "    .dataframe tbody tr th:only-of-type {\n",
       "        vertical-align: middle;\n",
       "    }\n",
       "\n",
       "    .dataframe tbody tr th {\n",
       "        vertical-align: top;\n",
       "    }\n",
       "\n",
       "    .dataframe thead tr th {\n",
       "        text-align: left;\n",
       "    }\n",
       "\n",
       "    .dataframe thead tr:last-of-type th {\n",
       "        text-align: right;\n",
       "    }\n",
       "</style>\n",
       "<table border=\"1\" class=\"dataframe\">\n",
       "  <thead>\n",
       "    <tr>\n",
       "      <th>time</th>\n",
       "      <th colspan=\"3\" halign=\"left\">Dinner</th>\n",
       "      <th colspan=\"3\" halign=\"left\">Lunch</th>\n",
       "    </tr>\n",
       "    <tr>\n",
       "      <th>total_range</th>\n",
       "      <th>(3.022, 18.983]</th>\n",
       "      <th>(18.983, 34.897]</th>\n",
       "      <th>(34.897, 50.81]</th>\n",
       "      <th>(3.022, 18.983]</th>\n",
       "      <th>(18.983, 34.897]</th>\n",
       "      <th>(34.897, 50.81]</th>\n",
       "    </tr>\n",
       "    <tr>\n",
       "      <th>day</th>\n",
       "      <th></th>\n",
       "      <th></th>\n",
       "      <th></th>\n",
       "      <th></th>\n",
       "      <th></th>\n",
       "      <th></th>\n",
       "    </tr>\n",
       "  </thead>\n",
       "  <tbody>\n",
       "    <tr>\n",
       "      <th>Fri</th>\n",
       "      <td>2.300000</td>\n",
       "      <td>3.350000</td>\n",
       "      <td>4.73</td>\n",
       "      <td>2.382857</td>\n",
       "      <td>NaN</td>\n",
       "      <td>NaN</td>\n",
       "    </tr>\n",
       "    <tr>\n",
       "      <th>Sat</th>\n",
       "      <td>2.302341</td>\n",
       "      <td>3.303437</td>\n",
       "      <td>5.81</td>\n",
       "      <td>NaN</td>\n",
       "      <td>NaN</td>\n",
       "      <td>NaN</td>\n",
       "    </tr>\n",
       "    <tr>\n",
       "      <th>Sun</th>\n",
       "      <td>2.557297</td>\n",
       "      <td>3.890294</td>\n",
       "      <td>4.10</td>\n",
       "      <td>NaN</td>\n",
       "      <td>NaN</td>\n",
       "      <td>NaN</td>\n",
       "    </tr>\n",
       "    <tr>\n",
       "      <th>Thur</th>\n",
       "      <td>3.000000</td>\n",
       "      <td>NaN</td>\n",
       "      <td>NaN</td>\n",
       "      <td>2.231667</td>\n",
       "      <td>3.829412</td>\n",
       "      <td>5.0</td>\n",
       "    </tr>\n",
       "  </tbody>\n",
       "</table>\n",
       "</div>"
      ],
      "text/plain": [
       "time                 Dinner                                            Lunch  \\\n",
       "total_range (3.022, 18.983] (18.983, 34.897] (34.897, 50.81] (3.022, 18.983]   \n",
       "day                                                                            \n",
       "Fri                2.300000         3.350000            4.73        2.382857   \n",
       "Sat                2.302341         3.303437            5.81             NaN   \n",
       "Sun                2.557297         3.890294            4.10             NaN   \n",
       "Thur               3.000000              NaN             NaN        2.231667   \n",
       "\n",
       "time                                          \n",
       "total_range (18.983, 34.897] (34.897, 50.81]  \n",
       "day                                           \n",
       "Fri                      NaN             NaN  \n",
       "Sat                      NaN             NaN  \n",
       "Sun                      NaN             NaN  \n",
       "Thur                3.829412             5.0  "
      ]
     },
     "execution_count": 55,
     "metadata": {},
     "output_type": "execute_result"
    }
   ],
   "source": [
    "mean_tip_summary.unstack([\"time\", \"total_range\"])"
   ]
  },
  {
   "cell_type": "markdown",
   "metadata": {},
   "source": [
    "- Abbiamo così ottenuto un frame con\n",
    "  - indice delle righe (sulla sinistra) ad un livello (giorno della settimana)\n",
    "  - indice delle colonne (in alto) a due livelli (orario e fascia spesa)\n",
    "- I valori mancanti (_NaN_) corrispondono a combinazioni per cui non c'è alcun dato, che in forma di serie non erano nemmeno presenti nell'indice"
   ]
  },
  {
   "cell_type": "markdown",
   "metadata": {
    "slideshow": {
     "slide_type": "slide"
    }
   },
   "source": [
    "## Esercizi\n",
    "\n",
    "1. Individuare il massimo numero di persone ad un tavolo sull'intero dataset\n",
    "2. Calcolare la spesa media dei tavoli per cena\n",
    "3. Estrarre dalla tabella la riga relativa al tavolo con la spesa più alta\n",
    "4. Aggiungere al frame una colonna con la spesa media per persona a ciascun tavolo\n",
    "5. Definendo tre fasce di uguale larghezza, aggiungere una colonna che indichi la fascia della spesa media per persona\n",
    "6. Aggiungere una colonna con il rapporto tra la mancia lasciata e il totale del conto\n",
    "7. Estrarre dalla tabella i 5 casi in cui il rapporto mancia/totale è più alto\n",
    "8. Calcolare il rapporto mancia/totale medio sui dati raggruppati in base alla fascia di spesa a persona e al giorno della settimana\n",
    "9. Visualizzare l'informazione del punto sopra in una tabella con una riga per ogni fascia di spesa a persona e una colonna per ogni giorno della settimana"
   ]
  },
  {
   "cell_type": "markdown",
   "metadata": {
    "slideshow": {
     "slide_type": "skip"
    }
   },
   "source": [
    "### Soluzioni 1-3"
   ]
  },
  {
   "cell_type": "code",
   "execution_count": 56,
   "metadata": {
    "slideshow": {
     "slide_type": "skip"
    }
   },
   "outputs": [
    {
     "data": {
      "text/plain": [
       "6"
      ]
     },
     "execution_count": 56,
     "metadata": {},
     "output_type": "execute_result"
    }
   ],
   "source": [
    "tips[\"size\"].max()"
   ]
  },
  {
   "cell_type": "code",
   "execution_count": 57,
   "metadata": {
    "slideshow": {
     "slide_type": "skip"
    }
   },
   "outputs": [
    {
     "data": {
      "text/plain": [
       "19.78594"
      ]
     },
     "execution_count": 57,
     "metadata": {},
     "output_type": "execute_result"
    }
   ],
   "source": [
    "tips.total_bill.mean()"
   ]
  },
  {
   "cell_type": "code",
   "execution_count": 58,
   "metadata": {
    "slideshow": {
     "slide_type": "skip"
    }
   },
   "outputs": [
    {
     "data": {
      "text/plain": [
       "total_bill               50.81\n",
       "tip                         10\n",
       "sex                       Male\n",
       "smoker                    True\n",
       "day                        Sat\n",
       "time                    Dinner\n",
       "size                         3\n",
       "total_range    (34.897, 50.81]\n",
       "Name: 170, dtype: object"
      ]
     },
     "execution_count": 58,
     "metadata": {},
     "output_type": "execute_result"
    }
   ],
   "source": [
    "tips.loc[tips.total_bill.idxmax()]"
   ]
  },
  {
   "cell_type": "markdown",
   "metadata": {
    "slideshow": {
     "slide_type": "skip"
    }
   },
   "source": [
    "### Soluzioni 4-6"
   ]
  },
  {
   "cell_type": "code",
   "execution_count": 59,
   "metadata": {
    "slideshow": {
     "slide_type": "skip"
    }
   },
   "outputs": [],
   "source": [
    "tips[\"mean_bill\"] = tips.total_bill / tips[\"size\"]"
   ]
  },
  {
   "cell_type": "code",
   "execution_count": 60,
   "metadata": {
    "slideshow": {
     "slide_type": "skip"
    }
   },
   "outputs": [],
   "source": [
    "tips[\"mean_range\"] = pd.cut(tips.mean_bill, 3)"
   ]
  },
  {
   "cell_type": "code",
   "execution_count": 61,
   "metadata": {
    "slideshow": {
     "slide_type": "skip"
    }
   },
   "outputs": [],
   "source": [
    "tips[\"tip_ratio\"] = tips.tip / tips.total_bill"
   ]
  },
  {
   "cell_type": "code",
   "execution_count": 62,
   "metadata": {
    "slideshow": {
     "slide_type": "skip"
    }
   },
   "outputs": [
    {
     "data": {
      "text/html": [
       "<div>\n",
       "<style scoped>\n",
       "    .dataframe tbody tr th:only-of-type {\n",
       "        vertical-align: middle;\n",
       "    }\n",
       "\n",
       "    .dataframe tbody tr th {\n",
       "        vertical-align: top;\n",
       "    }\n",
       "\n",
       "    .dataframe thead th {\n",
       "        text-align: right;\n",
       "    }\n",
       "</style>\n",
       "<table border=\"1\" class=\"dataframe\">\n",
       "  <thead>\n",
       "    <tr style=\"text-align: right;\">\n",
       "      <th></th>\n",
       "      <th>total_bill</th>\n",
       "      <th>tip</th>\n",
       "      <th>sex</th>\n",
       "      <th>smoker</th>\n",
       "      <th>day</th>\n",
       "      <th>time</th>\n",
       "      <th>size</th>\n",
       "      <th>total_range</th>\n",
       "      <th>mean_bill</th>\n",
       "      <th>mean_range</th>\n",
       "      <th>tip_ratio</th>\n",
       "    </tr>\n",
       "  </thead>\n",
       "  <tbody>\n",
       "    <tr>\n",
       "      <th>0</th>\n",
       "      <td>16.99</td>\n",
       "      <td>1.01</td>\n",
       "      <td>Female</td>\n",
       "      <td>False</td>\n",
       "      <td>Sun</td>\n",
       "      <td>Dinner</td>\n",
       "      <td>2</td>\n",
       "      <td>(3.022, 18.983]</td>\n",
       "      <td>8.495000</td>\n",
       "      <td>(2.858, 8.675]</td>\n",
       "      <td>0.059447</td>\n",
       "    </tr>\n",
       "    <tr>\n",
       "      <th>1</th>\n",
       "      <td>10.34</td>\n",
       "      <td>1.66</td>\n",
       "      <td>Male</td>\n",
       "      <td>False</td>\n",
       "      <td>Sun</td>\n",
       "      <td>Dinner</td>\n",
       "      <td>3</td>\n",
       "      <td>(3.022, 18.983]</td>\n",
       "      <td>3.446667</td>\n",
       "      <td>(2.858, 8.675]</td>\n",
       "      <td>0.160542</td>\n",
       "    </tr>\n",
       "    <tr>\n",
       "      <th>2</th>\n",
       "      <td>21.01</td>\n",
       "      <td>3.50</td>\n",
       "      <td>Male</td>\n",
       "      <td>False</td>\n",
       "      <td>Sun</td>\n",
       "      <td>Dinner</td>\n",
       "      <td>3</td>\n",
       "      <td>(18.983, 34.897]</td>\n",
       "      <td>7.003334</td>\n",
       "      <td>(2.858, 8.675]</td>\n",
       "      <td>0.166587</td>\n",
       "    </tr>\n",
       "  </tbody>\n",
       "</table>\n",
       "</div>"
      ],
      "text/plain": [
       "   total_bill   tip     sex  smoker  day    time  size       total_range  \\\n",
       "0       16.99  1.01  Female   False  Sun  Dinner     2   (3.022, 18.983]   \n",
       "1       10.34  1.66    Male   False  Sun  Dinner     3   (3.022, 18.983]   \n",
       "2       21.01  3.50    Male   False  Sun  Dinner     3  (18.983, 34.897]   \n",
       "\n",
       "   mean_bill      mean_range  tip_ratio  \n",
       "0   8.495000  (2.858, 8.675]   0.059447  \n",
       "1   3.446667  (2.858, 8.675]   0.160542  \n",
       "2   7.003334  (2.858, 8.675]   0.166587  "
      ]
     },
     "execution_count": 62,
     "metadata": {},
     "output_type": "execute_result"
    }
   ],
   "source": [
    "# visualizziamo il frame con le nuove colonne\n",
    "tips.head(3)"
   ]
  },
  {
   "cell_type": "markdown",
   "metadata": {
    "slideshow": {
     "slide_type": "skip"
    }
   },
   "source": [
    "### Soluzione 7"
   ]
  },
  {
   "cell_type": "code",
   "execution_count": 63,
   "metadata": {
    "slideshow": {
     "slide_type": "skip"
    }
   },
   "outputs": [
    {
     "data": {
      "text/html": [
       "<div>\n",
       "<style scoped>\n",
       "    .dataframe tbody tr th:only-of-type {\n",
       "        vertical-align: middle;\n",
       "    }\n",
       "\n",
       "    .dataframe tbody tr th {\n",
       "        vertical-align: top;\n",
       "    }\n",
       "\n",
       "    .dataframe thead th {\n",
       "        text-align: right;\n",
       "    }\n",
       "</style>\n",
       "<table border=\"1\" class=\"dataframe\">\n",
       "  <thead>\n",
       "    <tr style=\"text-align: right;\">\n",
       "      <th></th>\n",
       "      <th>total_bill</th>\n",
       "      <th>tip</th>\n",
       "      <th>sex</th>\n",
       "      <th>smoker</th>\n",
       "      <th>day</th>\n",
       "      <th>time</th>\n",
       "      <th>size</th>\n",
       "      <th>total_range</th>\n",
       "      <th>mean_bill</th>\n",
       "      <th>mean_range</th>\n",
       "      <th>tip_ratio</th>\n",
       "    </tr>\n",
       "  </thead>\n",
       "  <tbody>\n",
       "    <tr>\n",
       "      <th>172</th>\n",
       "      <td>7.25</td>\n",
       "      <td>5.15</td>\n",
       "      <td>Male</td>\n",
       "      <td>True</td>\n",
       "      <td>Sun</td>\n",
       "      <td>Dinner</td>\n",
       "      <td>2</td>\n",
       "      <td>(3.022, 18.983]</td>\n",
       "      <td>3.6250</td>\n",
       "      <td>(2.858, 8.675]</td>\n",
       "      <td>0.710345</td>\n",
       "    </tr>\n",
       "    <tr>\n",
       "      <th>178</th>\n",
       "      <td>9.60</td>\n",
       "      <td>4.00</td>\n",
       "      <td>Female</td>\n",
       "      <td>True</td>\n",
       "      <td>Sun</td>\n",
       "      <td>Dinner</td>\n",
       "      <td>2</td>\n",
       "      <td>(3.022, 18.983]</td>\n",
       "      <td>4.8000</td>\n",
       "      <td>(2.858, 8.675]</td>\n",
       "      <td>0.416667</td>\n",
       "    </tr>\n",
       "    <tr>\n",
       "      <th>67</th>\n",
       "      <td>3.07</td>\n",
       "      <td>1.00</td>\n",
       "      <td>Female</td>\n",
       "      <td>True</td>\n",
       "      <td>Sat</td>\n",
       "      <td>Dinner</td>\n",
       "      <td>1</td>\n",
       "      <td>(3.022, 18.983]</td>\n",
       "      <td>3.0700</td>\n",
       "      <td>(2.858, 8.675]</td>\n",
       "      <td>0.325733</td>\n",
       "    </tr>\n",
       "    <tr>\n",
       "      <th>232</th>\n",
       "      <td>11.61</td>\n",
       "      <td>3.39</td>\n",
       "      <td>Male</td>\n",
       "      <td>False</td>\n",
       "      <td>Sat</td>\n",
       "      <td>Dinner</td>\n",
       "      <td>2</td>\n",
       "      <td>(3.022, 18.983]</td>\n",
       "      <td>5.8050</td>\n",
       "      <td>(2.858, 8.675]</td>\n",
       "      <td>0.291990</td>\n",
       "    </tr>\n",
       "    <tr>\n",
       "      <th>183</th>\n",
       "      <td>23.17</td>\n",
       "      <td>6.50</td>\n",
       "      <td>Male</td>\n",
       "      <td>True</td>\n",
       "      <td>Sun</td>\n",
       "      <td>Dinner</td>\n",
       "      <td>4</td>\n",
       "      <td>(18.983, 34.897]</td>\n",
       "      <td>5.7925</td>\n",
       "      <td>(2.858, 8.675]</td>\n",
       "      <td>0.280535</td>\n",
       "    </tr>\n",
       "  </tbody>\n",
       "</table>\n",
       "</div>"
      ],
      "text/plain": [
       "     total_bill   tip     sex  smoker  day    time  size       total_range  \\\n",
       "172        7.25  5.15    Male    True  Sun  Dinner     2   (3.022, 18.983]   \n",
       "178        9.60  4.00  Female    True  Sun  Dinner     2   (3.022, 18.983]   \n",
       "67         3.07  1.00  Female    True  Sat  Dinner     1   (3.022, 18.983]   \n",
       "232       11.61  3.39    Male   False  Sat  Dinner     2   (3.022, 18.983]   \n",
       "183       23.17  6.50    Male    True  Sun  Dinner     4  (18.983, 34.897]   \n",
       "\n",
       "     mean_bill      mean_range  tip_ratio  \n",
       "172     3.6250  (2.858, 8.675]   0.710345  \n",
       "178     4.8000  (2.858, 8.675]   0.416667  \n",
       "67      3.0700  (2.858, 8.675]   0.325733  \n",
       "232     5.8050  (2.858, 8.675]   0.291990  \n",
       "183     5.7925  (2.858, 8.675]   0.280535  "
      ]
     },
     "execution_count": 63,
     "metadata": {},
     "output_type": "execute_result"
    }
   ],
   "source": [
    "tips.sort_values(\"tip_ratio\", ascending=False).head(5)"
   ]
  },
  {
   "cell_type": "markdown",
   "metadata": {
    "slideshow": {
     "slide_type": "skip"
    }
   },
   "source": [
    "### Soluzione 8-9"
   ]
  },
  {
   "cell_type": "code",
   "execution_count": 64,
   "metadata": {
    "slideshow": {
     "slide_type": "skip"
    }
   },
   "outputs": [
    {
     "data": {
      "text/plain": [
       "mean_range        day \n",
       "(2.858, 8.675]    Fri     0.186088\n",
       "                  Sat     0.160460\n",
       "                  Sun     0.178658\n",
       "                  Thur    0.162144\n",
       "(8.675, 14.475]   Fri     0.141130\n",
       "                  Sat     0.147027\n",
       "                  Sun     0.150623\n",
       "                  Thur    0.159163\n",
       "(14.475, 20.275]  Fri     0.103555\n",
       "                  Sat     0.096294\n",
       "                  Sun     0.089609\n",
       "                  Thur    0.152999\n",
       "Name: tip_ratio, dtype: float32"
      ]
     },
     "execution_count": 64,
     "metadata": {},
     "output_type": "execute_result"
    }
   ],
   "source": [
    "tips.tip_ratio.groupby([tips.mean_range, tips.day]).mean()"
   ]
  },
  {
   "cell_type": "code",
   "execution_count": 65,
   "metadata": {
    "slideshow": {
     "slide_type": "skip"
    }
   },
   "outputs": [
    {
     "data": {
      "text/html": [
       "<div>\n",
       "<style scoped>\n",
       "    .dataframe tbody tr th:only-of-type {\n",
       "        vertical-align: middle;\n",
       "    }\n",
       "\n",
       "    .dataframe tbody tr th {\n",
       "        vertical-align: top;\n",
       "    }\n",
       "\n",
       "    .dataframe thead th {\n",
       "        text-align: right;\n",
       "    }\n",
       "</style>\n",
       "<table border=\"1\" class=\"dataframe\">\n",
       "  <thead>\n",
       "    <tr style=\"text-align: right;\">\n",
       "      <th>day</th>\n",
       "      <th>Fri</th>\n",
       "      <th>Sat</th>\n",
       "      <th>Sun</th>\n",
       "      <th>Thur</th>\n",
       "    </tr>\n",
       "    <tr>\n",
       "      <th>mean_range</th>\n",
       "      <th></th>\n",
       "      <th></th>\n",
       "      <th></th>\n",
       "      <th></th>\n",
       "    </tr>\n",
       "  </thead>\n",
       "  <tbody>\n",
       "    <tr>\n",
       "      <th>(2.858, 8.675]</th>\n",
       "      <td>0.186088</td>\n",
       "      <td>0.160460</td>\n",
       "      <td>0.178658</td>\n",
       "      <td>0.162144</td>\n",
       "    </tr>\n",
       "    <tr>\n",
       "      <th>(8.675, 14.475]</th>\n",
       "      <td>0.141130</td>\n",
       "      <td>0.147027</td>\n",
       "      <td>0.150623</td>\n",
       "      <td>0.159163</td>\n",
       "    </tr>\n",
       "    <tr>\n",
       "      <th>(14.475, 20.275]</th>\n",
       "      <td>0.103555</td>\n",
       "      <td>0.096294</td>\n",
       "      <td>0.089609</td>\n",
       "      <td>0.152999</td>\n",
       "    </tr>\n",
       "  </tbody>\n",
       "</table>\n",
       "</div>"
      ],
      "text/plain": [
       "day                    Fri       Sat       Sun      Thur\n",
       "mean_range                                              \n",
       "(2.858, 8.675]    0.186088  0.160460  0.178658  0.162144\n",
       "(8.675, 14.475]   0.141130  0.147027  0.150623  0.159163\n",
       "(14.475, 20.275]  0.103555  0.096294  0.089609  0.152999"
      ]
     },
     "execution_count": 65,
     "metadata": {},
     "output_type": "execute_result"
    }
   ],
   "source": [
    "tips.tip_ratio.groupby([tips.mean_range, tips.day]).mean().unstack(\"day\")"
   ]
  }
 ],
 "metadata": {
  "kernelspec": {
   "display_name": "Python 3 - DIA",
   "language": "python",
   "name": "python3-dia"
  },
  "language_info": {
   "codemirror_mode": {
    "name": "ipython",
    "version": 3
   },
   "file_extension": ".py",
   "mimetype": "text/x-python",
   "name": "python",
   "nbconvert_exporter": "python",
   "pygments_lexer": "ipython3",
   "version": "3.6.5"
  }
 },
 "nbformat": 4,
 "nbformat_minor": 2
}
