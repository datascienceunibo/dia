{
 "cells": [
  {
   "cell_type": "markdown",
   "metadata": {
    "slideshow": {
     "slide_type": "slide"
    }
   },
   "source": [
    "# Laboratorio: Regressione"
   ]
  },
  {
   "cell_type": "markdown",
   "metadata": {
    "slideshow": {
     "slide_type": "slide"
    }
   },
   "source": [
    "## Analisi di Regressione\n",
    "\n",
    "- Un _modello di regressione_ permette di ottenere una stima $\\hat{y}$ del valore $y$ di una variabile _dipendente_ in base ad una o più variabili _indipendenti_ $x_1,\\ldots,x_n$\n",
    "- Viene addestrato su osservazioni di cui si conoscono i valori sia delle variabili indipendenti che di $y$, in modo da minimizzare l'errore che compie su queste osservazioni\n",
    "- Una volta addestrato, il modello può essere usato per effettuare stime su nuovi dati e predizioni sul futuro\n",
    "- La regressione _lineare_ è un modello semplice ma spesso abbastanza efficace per ricavare modelli di predizione\n",
    "- Possiamo implementare la regressione lineare tramite _discesa gradiente_ con semplici operazioni tra vettori"
   ]
  },
  {
   "cell_type": "code",
   "execution_count": 1,
   "metadata": {},
   "outputs": [],
   "source": [
    "import numpy as np\n",
    "import pandas as pd"
   ]
  },
  {
   "cell_type": "markdown",
   "metadata": {
    "slideshow": {
     "slide_type": "slide"
    }
   },
   "source": [
    "## Caso di Studio 1: Predizione del Consumo di Elettricità\n",
    "\n",
    "- Per dimensionare adeguatamente le risorse, una compagnia elettrica deve predire giornalmente quanta corrente sarà consumata il giorno dopo\n",
    "- Si ipotizza che nei mesi estivi una quota consistente di energia sia impiegata per l'aria condizionata\n",
    "- La compagnia incrocia quindi i dati storici sul consumo con quelli sulla temperatura per indagare sul fenomeno..."
   ]
  },
  {
   "cell_type": "markdown",
   "metadata": {
    "slideshow": {
     "slide_type": "slide"
    }
   },
   "source": [
    "## Caricamento dei Dati\n",
    "\n",
    "- Prendiamo come esempio i dati relativi all'area di Pittsburgh negli USA\n",
    "  - la compagnia elettrica rende disponibili dati storici sul consumo quì: http://www.pjm.com/markets-and-operations/ops-analysis/historical-load-data.aspx\n",
    "  - i dati sulle temperature registrate possono invece essere reperiti da quì: http://wefacts.org/\n",
    "- Abbiamo raccolto i dati utili dal 2015 al 2017 in un file CSV con colonne _data_, _temperatura media_, _picco di consumo_\n",
    "- Usiamo pandas per caricare i dati in un DataFrame dato l'URL del file\n",
    "  - col parametro `parse_dates` si può indicare a pandas di interpretare i valori di colonne indicate come date"
   ]
  },
  {
   "cell_type": "code",
   "execution_count": 2,
   "metadata": {},
   "outputs": [],
   "source": [
    "data = pd.read_csv(\"https://git.io/vpaM1\", parse_dates=[\"date\"])"
   ]
  },
  {
   "cell_type": "code",
   "execution_count": 3,
   "metadata": {
    "slideshow": {
     "slide_type": "slide"
    }
   },
   "outputs": [
    {
     "data": {
      "text/html": [
       "<div>\n",
       "<style scoped>\n",
       "    .dataframe tbody tr th:only-of-type {\n",
       "        vertical-align: middle;\n",
       "    }\n",
       "\n",
       "    .dataframe tbody tr th {\n",
       "        vertical-align: top;\n",
       "    }\n",
       "\n",
       "    .dataframe thead th {\n",
       "        text-align: right;\n",
       "    }\n",
       "</style>\n",
       "<table border=\"1\" class=\"dataframe\">\n",
       "  <thead>\n",
       "    <tr style=\"text-align: right;\">\n",
       "      <th></th>\n",
       "      <th>date</th>\n",
       "      <th>demand</th>\n",
       "      <th>temp</th>\n",
       "    </tr>\n",
       "  </thead>\n",
       "  <tbody>\n",
       "    <tr>\n",
       "      <th>0</th>\n",
       "      <td>2015-01-01</td>\n",
       "      <td>1.736065</td>\n",
       "      <td>1.7</td>\n",
       "    </tr>\n",
       "    <tr>\n",
       "      <th>1</th>\n",
       "      <td>2015-01-02</td>\n",
       "      <td>1.831672</td>\n",
       "      <td>2.2</td>\n",
       "    </tr>\n",
       "    <tr>\n",
       "      <th>2</th>\n",
       "      <td>2015-01-03</td>\n",
       "      <td>1.714934</td>\n",
       "      <td>14.4</td>\n",
       "    </tr>\n",
       "    <tr>\n",
       "      <th>3</th>\n",
       "      <td>2015-01-04</td>\n",
       "      <td>1.628577</td>\n",
       "      <td>15.6</td>\n",
       "    </tr>\n",
       "    <tr>\n",
       "      <th>4</th>\n",
       "      <td>2015-01-05</td>\n",
       "      <td>2.045394</td>\n",
       "      <td>0.0</td>\n",
       "    </tr>\n",
       "    <tr>\n",
       "      <th>5</th>\n",
       "      <td>2015-01-06</td>\n",
       "      <td>2.122799</td>\n",
       "      <td>-6.7</td>\n",
       "    </tr>\n",
       "    <tr>\n",
       "      <th>6</th>\n",
       "      <td>2015-01-07</td>\n",
       "      <td>2.243265</td>\n",
       "      <td>-9.4</td>\n",
       "    </tr>\n",
       "    <tr>\n",
       "      <th>7</th>\n",
       "      <td>2015-01-08</td>\n",
       "      <td>2.240975</td>\n",
       "      <td>-8.9</td>\n",
       "    </tr>\n",
       "    <tr>\n",
       "      <th>8</th>\n",
       "      <td>2015-01-09</td>\n",
       "      <td>2.128072</td>\n",
       "      <td>-6.1</td>\n",
       "    </tr>\n",
       "    <tr>\n",
       "      <th>9</th>\n",
       "      <td>2015-01-10</td>\n",
       "      <td>1.979734</td>\n",
       "      <td>-8.9</td>\n",
       "    </tr>\n",
       "  </tbody>\n",
       "</table>\n",
       "</div>"
      ],
      "text/plain": [
       "        date    demand  temp\n",
       "0 2015-01-01  1.736065   1.7\n",
       "1 2015-01-02  1.831672   2.2\n",
       "2 2015-01-03  1.714934  14.4\n",
       "3 2015-01-04  1.628577  15.6\n",
       "4 2015-01-05  2.045394   0.0\n",
       "5 2015-01-06  2.122799  -6.7\n",
       "6 2015-01-07  2.243265  -9.4\n",
       "7 2015-01-08  2.240975  -8.9\n",
       "8 2015-01-09  2.128072  -6.1\n",
       "9 2015-01-10  1.979734  -8.9"
      ]
     },
     "execution_count": 3,
     "metadata": {},
     "output_type": "execute_result"
    }
   ],
   "source": [
    "data.head(10)"
   ]
  },
  {
   "cell_type": "markdown",
   "metadata": {},
   "source": [
    "- Per iniziare, vediamo come visualizzare i dati in un grafico..."
   ]
  },
  {
   "cell_type": "markdown",
   "metadata": {
    "slideshow": {
     "slide_type": "slide"
    }
   },
   "source": [
    "## matplotlib\n",
    "\n",
    "- _matplotlib_ è la libreria Python più diffusa per la generazione di grafici sui dati\n",
    "  - può generare grafici a barre, a linea, a torta, ...\n",
    "- Usiamo matplotlib per generare semplici grafici per rappresentare i dati su cui lavoriamo\n",
    "- Il modo più comune di usare matplotlib è tramite l'interfaccia _pyplot_, convenzionalmente importata come `plt`"
   ]
  },
  {
   "cell_type": "code",
   "execution_count": 4,
   "metadata": {},
   "outputs": [],
   "source": [
    "import matplotlib.pyplot as plt"
   ]
  },
  {
   "cell_type": "markdown",
   "metadata": {},
   "source": [
    "- Una volta generati, i grafici sono mostrati in una finestra con l'istruzione `plt.show()`\n",
    "  - in alternativa si possono salvare su file con vari formati (PNG, SVG, PDF, ...)\n",
    "- In Jupyter, è possibile abilitare l'inseririmento dei grafici generati direttamente nel documento usando il seguente \"comando magico\":"
   ]
  },
  {
   "cell_type": "code",
   "execution_count": 5,
   "metadata": {},
   "outputs": [],
   "source": [
    "%matplotlib inline"
   ]
  },
  {
   "cell_type": "markdown",
   "metadata": {
    "slideshow": {
     "slide_type": "slide"
    }
   },
   "source": [
    "## Grafico a Dispersione\n",
    "\n",
    "- Un _grafico a dispersione_ (_scatter plot_) mostra un insieme di osservazioni come punti su un piano, le cui coordinate di ciascuno riflettono i valori di due variabili\n",
    "- È utilizzabile per avere un'informazione visiva del grado di correlazione tra due variabili dato un insieme di campioni\n",
    "- Per creare un grafico a dispersione con _N_ punti si usa la funzione `scatter` passando due vettori di _N_ valori con le coordinate X e Y rispettivamente\n",
    "  - un \"vettore\" può consistere in una lista, un array NumPy, una serie pandas, ...\n",
    "\n",
    "![Grafico a dispersione](https://upload.wikimedia.org/wikipedia/commons/thumb/c/c1/OLS_example_weight_vs_height_scatterplot.svg/500px-OLS_example_weight_vs_height_scatterplot.svg.png)"
   ]
  },
  {
   "cell_type": "markdown",
   "metadata": {
    "slideshow": {
     "slide_type": "slide"
    }
   },
   "source": [
    "- Visualizziamo i dati caricati come punti le cui coordinate X indichino la temperatura registrata e le Y il picco di consumo raggiunto nello stesso giorno"
   ]
  },
  {
   "cell_type": "code",
   "execution_count": 6,
   "metadata": {},
   "outputs": [
    {
     "data": {
      "text/plain": [
       "<matplotlib.collections.PathCollection at 0x7f42a020c390>"
      ]
     },
     "execution_count": 6,
     "metadata": {},
     "output_type": "execute_result"
    },
    {
     "data": {
      "image/png": "[encoded data removed]",
      "text/plain": [
       "<matplotlib.figure.Figure at 0x7f42a2526b38>"
      ]
     },
     "metadata": {},
     "output_type": "display_data"
    }
   ],
   "source": [
    "plt.scatter(data.temp, data.demand)"
   ]
  },
  {
   "cell_type": "markdown",
   "metadata": {
    "slideshow": {
     "slide_type": "slide"
    }
   },
   "source": [
    "### Aggiunta di Etichette al Grafico\n",
    "\n",
    "- Dopo l'istruzione per creare il grafico, possiamo eseguirne altre per aggiungere un titolo e le etichette degli assi..."
   ]
  },
  {
   "cell_type": "code",
   "execution_count": 7,
   "metadata": {},
   "outputs": [
    {
     "data": {
      "text/plain": [
       "Text(0,0.5,'Peak demand (GW)')"
      ]
     },
     "execution_count": 7,
     "metadata": {},
     "output_type": "execute_result"
    },
    {
     "data": {
      "image/png": "[encoded data removed]",
      "text/plain": [
       "<matplotlib.figure.Figure at 0x7f42d000f5c0>"
      ]
     },
     "metadata": {},
     "output_type": "display_data"
    }
   ],
   "source": [
    "plt.scatter(data.temp, data.demand)\n",
    "plt.title(\"Correlation between Power Demand and Temperature\")\n",
    "plt.xlabel(\"Temperature (°C)\")\n",
    "plt.ylabel(\"Peak demand (GW)\")"
   ]
  },
  {
   "cell_type": "markdown",
   "metadata": {
    "slideshow": {
     "slide_type": "slide"
    }
   },
   "source": [
    "### Creare Grafici tramite pandas\n",
    "\n",
    "- Le strutture dati di pandas offrono proprie funzioni per creare rapidamente grafici che rappresentino i dati in esse\n",
    "- Possiamo ad esempio creare un grafico a dispersione di due colonne di un DataFrame indicandone semplicemente il nome..."
   ]
  },
  {
   "cell_type": "code",
   "execution_count": 8,
   "metadata": {},
   "outputs": [
    {
     "data": {
      "text/plain": [
       "<matplotlib.axes._subplots.AxesSubplot at 0x7f42a01dceb8>"
      ]
     },
     "execution_count": 8,
     "metadata": {},
     "output_type": "execute_result"
    },
    {
     "data": {
      "image/png": "[encoded data removed]",
      "text/plain": [
       "<matplotlib.figure.Figure at 0x7f42a018a588>"
      ]
     },
     "metadata": {},
     "output_type": "display_data"
    }
   ],
   "source": [
    "data.plot.scatter(\"temp\", \"demand\",\n",
    "                  title=\"Power Demand / Temperature Correlation\")"
   ]
  },
  {
   "cell_type": "markdown",
   "metadata": {
    "slideshow": {
     "slide_type": "slide"
    }
   },
   "source": [
    "## Selezione dei Dati\n",
    "\n",
    "- Vogliamo analizzare la correlazione tra consumi e temperature specificamente nei mesi estivi\n",
    "- Selezioniamo quindi dai dati solamente le osservazioni relative ai mesi di giugno, luglio e agosto di ciascun anno\n",
    "- Le serie di tipo data/ora offrono un attributo `dt` con operazioni elemento per elemento per estrarre componenti specifici (es. giorno, minuto, ...)\n",
    "- Ad es. per ottenere una serie che indica il mese di ciascuna riga..."
   ]
  },
  {
   "cell_type": "code",
   "execution_count": 9,
   "metadata": {},
   "outputs": [
    {
     "data": {
      "text/plain": [
       "0    1\n",
       "1    1\n",
       "2    1\n",
       "3    1\n",
       "4    1\n",
       "Name: date, dtype: int64"
      ]
     },
     "execution_count": 9,
     "metadata": {},
     "output_type": "execute_result"
    }
   ],
   "source": [
    "data.date.dt.month   .head()"
   ]
  },
  {
   "cell_type": "markdown",
   "metadata": {},
   "source": [
    "- Possiamo quindi selezionare le righe il cui mese è uno dei tre estivi\n",
    "  - `x.between(a, b)` equivale a `(x >= a) & (x <= b)`"
   ]
  },
  {
   "cell_type": "code",
   "execution_count": 10,
   "metadata": {},
   "outputs": [],
   "source": [
    "data_summer = data.loc[data.date.dt.month.between(6, 8)]"
   ]
  },
  {
   "cell_type": "code",
   "execution_count": 11,
   "metadata": {
    "slideshow": {
     "slide_type": "slide"
    }
   },
   "outputs": [
    {
     "data": {
      "text/html": [
       "<div>\n",
       "<style scoped>\n",
       "    .dataframe tbody tr th:only-of-type {\n",
       "        vertical-align: middle;\n",
       "    }\n",
       "\n",
       "    .dataframe tbody tr th {\n",
       "        vertical-align: top;\n",
       "    }\n",
       "\n",
       "    .dataframe thead th {\n",
       "        text-align: right;\n",
       "    }\n",
       "</style>\n",
       "<table border=\"1\" class=\"dataframe\">\n",
       "  <thead>\n",
       "    <tr style=\"text-align: right;\">\n",
       "      <th></th>\n",
       "      <th>date</th>\n",
       "      <th>demand</th>\n",
       "      <th>temp</th>\n",
       "    </tr>\n",
       "  </thead>\n",
       "  <tbody>\n",
       "    <tr>\n",
       "      <th>151</th>\n",
       "      <td>2015-06-01</td>\n",
       "      <td>1.640036</td>\n",
       "      <td>15.6</td>\n",
       "    </tr>\n",
       "    <tr>\n",
       "      <th>152</th>\n",
       "      <td>2015-06-02</td>\n",
       "      <td>1.663211</td>\n",
       "      <td>17.2</td>\n",
       "    </tr>\n",
       "    <tr>\n",
       "      <th>153</th>\n",
       "      <td>2015-06-03</td>\n",
       "      <td>1.728381</td>\n",
       "      <td>21.7</td>\n",
       "    </tr>\n",
       "    <tr>\n",
       "      <th>154</th>\n",
       "      <td>2015-06-04</td>\n",
       "      <td>1.921615</td>\n",
       "      <td>25.0</td>\n",
       "    </tr>\n",
       "    <tr>\n",
       "      <th>155</th>\n",
       "      <td>2015-06-05</td>\n",
       "      <td>2.153111</td>\n",
       "      <td>27.8</td>\n",
       "    </tr>\n",
       "    <tr>\n",
       "      <th>156</th>\n",
       "      <td>2015-06-06</td>\n",
       "      <td>1.717011</td>\n",
       "      <td>23.9</td>\n",
       "    </tr>\n",
       "    <tr>\n",
       "      <th>157</th>\n",
       "      <td>2015-06-07</td>\n",
       "      <td>1.936838</td>\n",
       "      <td>28.9</td>\n",
       "    </tr>\n",
       "    <tr>\n",
       "      <th>158</th>\n",
       "      <td>2015-06-08</td>\n",
       "      <td>2.202273</td>\n",
       "      <td>26.1</td>\n",
       "    </tr>\n",
       "    <tr>\n",
       "      <th>159</th>\n",
       "      <td>2015-06-09</td>\n",
       "      <td>1.967314</td>\n",
       "      <td>23.9</td>\n",
       "    </tr>\n",
       "    <tr>\n",
       "      <th>160</th>\n",
       "      <td>2015-06-10</td>\n",
       "      <td>2.381218</td>\n",
       "      <td>30.0</td>\n",
       "    </tr>\n",
       "  </tbody>\n",
       "</table>\n",
       "</div>"
      ],
      "text/plain": [
       "          date    demand  temp\n",
       "151 2015-06-01  1.640036  15.6\n",
       "152 2015-06-02  1.663211  17.2\n",
       "153 2015-06-03  1.728381  21.7\n",
       "154 2015-06-04  1.921615  25.0\n",
       "155 2015-06-05  2.153111  27.8\n",
       "156 2015-06-06  1.717011  23.9\n",
       "157 2015-06-07  1.936838  28.9\n",
       "158 2015-06-08  2.202273  26.1\n",
       "159 2015-06-09  1.967314  23.9\n",
       "160 2015-06-10  2.381218  30.0"
      ]
     },
     "execution_count": 11,
     "metadata": {},
     "output_type": "execute_result"
    }
   ],
   "source": [
    "data_summer.head(10)"
   ]
  },
  {
   "cell_type": "markdown",
   "metadata": {
    "slideshow": {
     "slide_type": "slide"
    }
   },
   "source": [
    "- Visualizziamo un grafico a dispersione con i soli dati selezionati"
   ]
  },
  {
   "cell_type": "code",
   "execution_count": 12,
   "metadata": {},
   "outputs": [
    {
     "data": {
      "text/plain": [
       "<matplotlib.axes._subplots.AxesSubplot at 0x7f42a00f7e48>"
      ]
     },
     "execution_count": 12,
     "metadata": {},
     "output_type": "execute_result"
    },
    {
     "data": {
      "image/png": "[encoded data removed]",
      "text/plain": [
       "<matplotlib.figure.Figure at 0x7f42a2235320>"
      ]
     },
     "metadata": {},
     "output_type": "display_data"
    }
   ],
   "source": [
    "data_summer.plot.scatter(\"temp\", \"demand\")"
   ]
  },
  {
   "cell_type": "markdown",
   "metadata": {},
   "source": [
    "- Il grafico suggerisce che esiste una correlazione tra temperatura e consumo di corrente nei mesi estivi"
   ]
  },
  {
   "cell_type": "markdown",
   "metadata": {
    "slideshow": {
     "slide_type": "slide"
    }
   },
   "source": [
    "## Regressione Lineare Univariata\n",
    "\n",
    "- Con i dati disponibili, possiamo creare un modello di regressione per stimare il consumo di corrente $y$ in base alla temperatura prevista $x$\n",
    "- La regressione lineare univariata genera un modello con due parametri $\\alpha$ e $\\beta$\n",
    "$$ \\hat{y} = h(x) = \\alpha\\cdot x+\\beta $$\n",
    "- Per determinati valori per i parametri, l'errore compiuto dal modello sui dati disponibili è spesso quantificato dalla _media degli errori quadrati_\n",
    "$$ E(\\alpha,\\beta)=\\frac{1}{m}\\sum_{j=1}^m\\left(h(x_j)-y_j\\right)^2=\\frac{1}{m}\\sum_{j=1}^m\\left(\\alpha\\cdot x_j+\\beta-y_j\\right)^2 $$\n",
    "- L'obiettivo è trovare i valori di $\\alpha$ e $\\beta$ che minimizzino questa quantità"
   ]
  },
  {
   "cell_type": "markdown",
   "metadata": {
    "slideshow": {
     "slide_type": "slide"
    }
   },
   "source": [
    "## Discesa del Gradiente\n",
    "\n",
    "- Il _gradiente_ di una funzione indica in pratica la direzione in cui la curva della funzione stessa è maggiormente \"inclinata\"\n",
    "  - il gradiente è il vettore delle _derivate parziali_ per ogni variabile\n",
    "- Ad esempio il gradiente della funzione errore riportata sopra è dato da:\n",
    "$$ \\nabla E(\\alpha,\\beta)=\\left(\\frac{\\delta E}{\\delta\\alpha},\\frac{\\delta E}{\\delta\\beta}\\right) $$\n",
    "$$ =\\left(\\quad\\frac{2}{m}\\sum_{j=1}^m(\\alpha\\cdot x_j+\\beta-y_j)\\cdot x_j,\\quad\\frac{2}{m}\\sum_{j=1}^m(\\alpha\\cdot x_j+\\beta-y_j)\\quad\\right) $$\n",
    "- L'algoritmo di _discesa del gradiente_, partendo da valori arbitrari di $\\alpha$ e $\\beta$, segue progressivamente il gradiente di $E$ per trovarne il minimo\n",
    "- Fissata una lunghezza del passo $\\eta$, ad ogni passaggio $\\alpha$ e $\\beta$ sono iterativamente aggiornati come segue:\n",
    "$$ \\alpha\\leftarrow\\alpha-\\eta\\cdot\\frac{\\delta E}{\\delta\\alpha} \\qquad \\beta\\leftarrow\\beta-\\eta\\cdot\\frac{\\delta E}{\\delta\\beta} $$\n",
    "- In termini vettoriali, ponendo $\\theta=(\\alpha,\\beta)$:\n",
    "$$ \\theta\\leftarrow\\theta-\\eta\\cdot\\nabla E(\\theta) $$"
   ]
  },
  {
   "cell_type": "markdown",
   "metadata": {
    "slideshow": {
     "slide_type": "slide"
    }
   },
   "source": [
    "### Algoritmo\n",
    "\n",
    "- La seguente funzione implementa la discesa del gradiente per un problema di regressione lineare univariata\n",
    "  - i vettori `x` e `y` contengono _m_ osservazioni rispettivamente della variabile _indipendente_ (temperatura) e _dipendente_ (consumo)\n",
    "  - i parametri $\\alpha$ e $\\beta$ sono inizializzati a 0\n",
    "  - per un numero _N_ di iterazioni prefissato si calcolano\n",
    "    1. il vettore `error` con le differenze tra valore reale e predetto di $y$ per ogni osservazione\n",
    "    2. le derivate parziali dell'errore rispetto ad $\\alpha$ e $\\beta$\n",
    "    3. i nuovi valori di $\\alpha$ e $\\beta$\n",
    "  - i valori dei parametri dopo l'ultima iterazione sono restituiti"
   ]
  },
  {
   "cell_type": "code",
   "execution_count": 13,
   "metadata": {},
   "outputs": [],
   "source": [
    "def uni_lin_reg_gd(x, y, N=50, step_size=0.001):\n",
    "    alpha, beta = 0, 0\n",
    "    for it in range(N):\n",
    "        error = alpha * x + beta - y\n",
    "        d_alpha = 2 * (error * x).mean()\n",
    "        d_beta = 2 * error.mean()\n",
    "        alpha -= step_size * d_alpha\n",
    "        beta -= step_size * d_beta\n",
    "    return alpha, beta"
   ]
  },
  {
   "cell_type": "markdown",
   "metadata": {
    "slideshow": {
     "slide_type": "slide"
    }
   },
   "source": [
    "## Visualizzazione della Retta di Regressione\n",
    "\n",
    "- Per vedere ad occhio come il modello di regressione approssimi i dati reali, è possibile tracciare la retta definita dal modello nel grafico a dispersione\n",
    "- Definiamo una funzione che, dati i valori di $\\alpha$ e $\\beta$, disegni il grafico con la retta corrispondente ai parametri\n",
    "  - al grafico a dispersione viene sovrapposto un grafico a linea che unisce due punti, le cui coordinate X corrispondono ai bordi del grafico e le rispettive coordinate Y sono calcolate dal modello"
   ]
  },
  {
   "cell_type": "code",
   "execution_count": 14,
   "metadata": {},
   "outputs": [],
   "source": [
    "def plot_reg_line(x, y, alpha, beta):\n",
    "    # disegno il grafico a dispersione come visto sopra\n",
    "    plt.scatter(x, y)\n",
    "    # matplotlib ha impostato in automatico gli intervalli X e Y del grafico\n",
    "    # li estraggo in forma di due tuple (Xmin, Xmax) e (Ymin, Ymax)\n",
    "    xlim = plt.gca().get_xlim()\n",
    "    ylim = plt.gca().get_ylim()\n",
    "    # definisco le coordinate dei due punti estremi della linea da tracciare\n",
    "    # le coordinate X sono i limiti dell'asse X del grafico\n",
    "    line_x = np.array(xlim)\n",
    "    # col modello di regressione calcolo le corrispondenti coordinate Y\n",
    "    line_y = alpha * line_x + beta\n",
    "    # traccio la linea sovrapposta al grafico a dispersione già tracciato\n",
    "    plt.plot(line_x, line_y, c=\"red\", lw=3)   # c = colore, lw = spessore\n",
    "    # i limiti del grafico sono ricalcolati sulla linea: li reimposto\n",
    "    plt.xlim(xlim)\n",
    "    plt.ylim(ylim)"
   ]
  },
  {
   "cell_type": "markdown",
   "metadata": {
    "slideshow": {
     "slide_type": "slide"
    }
   },
   "source": [
    "## Esempio di Modello\n",
    "\n",
    "- Si ipotizzi ad esempio di impostare arbitrariamente i parametri a $\\alpha=0.2,\\beta=-3$\n",
    "- La funzione che approssima il consumo in base alla temperatura $x$ sarebbe $h(x)=0.2\\cdot x-3$\n",
    "- Ad es. per una temperatura di 25 °C sarebbe previsto un picco di consumi di $0.2\\cdot 25-3 = 2$ GW\n",
    "- Il modello può essere visualizzato nel grafico come segue:"
   ]
  },
  {
   "cell_type": "code",
   "execution_count": 15,
   "metadata": {},
   "outputs": [
    {
     "data": {
      "image/png": "[encoded data removed]",
      "text/plain": [
       "<matplotlib.figure.Figure at 0x7f42a0037f60>"
      ]
     },
     "metadata": {},
     "output_type": "display_data"
    }
   ],
   "source": [
    "plot_reg_line(data_summer.temp, data_summer.demand, 0.2, -3)"
   ]
  },
  {
   "cell_type": "markdown",
   "metadata": {
    "slideshow": {
     "slide_type": "slide"
    }
   },
   "source": [
    "### Esercizio\n",
    "\n",
    "- Implementare la funzione abbozzata sotto in modo che esegua la discesa gradiente per un numero _N_ di iterazioni e restituisca la tupla dei parametri `(alpha, beta)` dopo aver mostrato un grafico col modello ottenuto\n",
    "  - riutilizzare le due funzioni illustrate sopra"
   ]
  },
  {
   "cell_type": "code",
   "execution_count": 16,
   "metadata": {},
   "outputs": [],
   "source": [
    "def plot_uni_lin_reg_gd(X, Y, N):\n",
    "    alpha, beta = uni_lin_reg_gd(X, Y, N)\n",
    "    plot_reg_line(X, Y, alpha, beta)\n",
    "    return alpha, beta"
   ]
  },
  {
   "cell_type": "markdown",
   "metadata": {
    "slideshow": {
     "slide_type": "slide"
    }
   },
   "source": [
    "### Progressione della Discesa Gradiente\n",
    "\n",
    "- Usiamo la funzione per visualizzare la progressione del modello attraverso le iterazioni della discesa gradiente\n",
    "- La retta del modello iniziale $\\alpha=0,\\beta=0$ è fuori dall'area del grafico..."
   ]
  },
  {
   "cell_type": "code",
   "execution_count": 17,
   "metadata": {},
   "outputs": [
    {
     "data": {
      "text/plain": [
       "(0, 0)"
      ]
     },
     "execution_count": 17,
     "metadata": {},
     "output_type": "execute_result"
    },
    {
     "data": {
      "image/png": "[encoded data removed]",
      "text/plain": [
       "<matplotlib.figure.Figure at 0x7f42a0037d68>"
      ]
     },
     "metadata": {},
     "output_type": "display_data"
    }
   ],
   "source": [
    "plot_uni_lin_reg_gd(data_summer.temp, data_summer.demand, 0)"
   ]
  },
  {
   "cell_type": "markdown",
   "metadata": {
    "slideshow": {
     "slide_type": "slide"
    }
   },
   "source": [
    "Dopo una iterazione..."
   ]
  },
  {
   "cell_type": "code",
   "execution_count": 18,
   "metadata": {},
   "outputs": [
    {
     "data": {
      "text/plain": [
       "(0.12111570253623187, 0.0043684136956521746)"
      ]
     },
     "execution_count": 18,
     "metadata": {},
     "output_type": "execute_result"
    },
    {
     "data": {
      "image/png": "[encoded data removed]",
      "text/plain": [
       "<matplotlib.figure.Figure at 0x7f42a00e7550>"
      ]
     },
     "metadata": {},
     "output_type": "display_data"
    }
   ],
   "source": [
    "plot_uni_lin_reg_gd(data_summer.temp, data_summer.demand, 1)"
   ]
  },
  {
   "cell_type": "markdown",
   "metadata": {
    "slideshow": {
     "slide_type": "slide"
    }
   },
   "source": [
    "Dopo 2 iterazioni..."
   ]
  },
  {
   "cell_type": "code",
   "execution_count": 19,
   "metadata": {},
   "outputs": [
    {
     "data": {
      "text/plain": [
       "(0.05857258988807923, 0.0021065722352546744)"
      ]
     },
     "execution_count": 19,
     "metadata": {},
     "output_type": "execute_result"
    },
    {
     "data": {
      "image/png": "[encoded data removed]",
      "text/plain": [
       "<matplotlib.figure.Figure at 0x7f429ff5ae80>"
      ]
     },
     "metadata": {},
     "output_type": "display_data"
    }
   ],
   "source": [
    "plot_uni_lin_reg_gd(data_summer.temp, data_summer.demand, 2)"
   ]
  },
  {
   "cell_type": "markdown",
   "metadata": {
    "slideshow": {
     "slide_type": "slide"
    }
   },
   "source": [
    "Dopo 3 iterazioni..."
   ]
  },
  {
   "cell_type": "code",
   "execution_count": 20,
   "metadata": {},
   "outputs": [
    {
     "data": {
      "text/plain": [
       "(0.09086964787114596, 0.003268549875787045)"
      ]
     },
     "execution_count": 20,
     "metadata": {},
     "output_type": "execute_result"
    },
    {
     "data": {
      "image/png": "[encoded data removed]",
      "text/plain": [
       "<matplotlib.figure.Figure at 0x7f429ff0f550>"
      ]
     },
     "metadata": {},
     "output_type": "display_data"
    }
   ],
   "source": [
    "plot_uni_lin_reg_gd(data_summer.temp, data_summer.demand, 3)"
   ]
  },
  {
   "cell_type": "markdown",
   "metadata": {
    "slideshow": {
     "slide_type": "slide"
    }
   },
   "source": [
    "Dopo 4 iterazioni..."
   ]
  },
  {
   "cell_type": "code",
   "execution_count": 21,
   "metadata": {},
   "outputs": [
    {
     "data": {
      "text/plain": [
       "(0.0741918828492701, 0.0026624906359728057)"
      ]
     },
     "execution_count": 21,
     "metadata": {},
     "output_type": "execute_result"
    },
    {
     "data": {
      "image/png": "[encoded data removed]",
      "text/plain": [
       "<matplotlib.figure.Figure at 0x7f429fe7f9b0>"
      ]
     },
     "metadata": {},
     "output_type": "display_data"
    }
   ],
   "source": [
    "plot_uni_lin_reg_gd(data_summer.temp, data_summer.demand, 4)"
   ]
  },
  {
   "cell_type": "markdown",
   "metadata": {
    "slideshow": {
     "slide_type": "slide"
    }
   },
   "source": [
    "Dopo 5 iterazioni..."
   ]
  },
  {
   "cell_type": "code",
   "execution_count": 22,
   "metadata": {},
   "outputs": [
    {
     "data": {
      "text/plain": [
       "(0.08280438535410464, 0.0029694338478559097)"
      ]
     },
     "execution_count": 22,
     "metadata": {},
     "output_type": "execute_result"
    },
    {
     "data": {
      "image/png": "[encoded data removed]",
      "text/plain": [
       "<matplotlib.figure.Figure at 0x7f429fe63860>"
      ]
     },
     "metadata": {},
     "output_type": "display_data"
    }
   ],
   "source": [
    "plot_uni_lin_reg_gd(data_summer.temp, data_summer.demand, 5)"
   ]
  },
  {
   "cell_type": "markdown",
   "metadata": {
    "slideshow": {
     "slide_type": "slide"
    }
   },
   "source": [
    "Dopo 10 iterazioni..."
   ]
  },
  {
   "cell_type": "code",
   "execution_count": 23,
   "metadata": {},
   "outputs": [
    {
     "data": {
      "text/plain": [
       "(0.07976455089011326, 0.0028398135671445297)"
      ]
     },
     "execution_count": 23,
     "metadata": {},
     "output_type": "execute_result"
    },
    {
     "data": {
      "image/png": "[encoded data removed]",
      "text/plain": [
       "<matplotlib.figure.Figure at 0x7f429fd7d908>"
      ]
     },
     "metadata": {},
     "output_type": "display_data"
    }
   ],
   "source": [
    "plot_uni_lin_reg_gd(data_summer.temp, data_summer.demand, 10)"
   ]
  },
  {
   "cell_type": "markdown",
   "metadata": {
    "slideshow": {
     "slide_type": "slide"
    }
   },
   "source": [
    "Dopo 100 iterazioni..."
   ]
  },
  {
   "cell_type": "code",
   "execution_count": 24,
   "metadata": {},
   "outputs": [
    {
     "data": {
      "text/plain": [
       "(0.07988513044679865, 0.002486784326229603)"
      ]
     },
     "execution_count": 24,
     "metadata": {},
     "output_type": "execute_result"
    },
    {
     "data": {
      "image/png": "[encoded data removed]",
      "text/plain": [
       "<matplotlib.figure.Figure at 0x7f429fd2a4a8>"
      ]
     },
     "metadata": {},
     "output_type": "display_data"
    }
   ],
   "source": [
    "plot_uni_lin_reg_gd(data_summer.temp, data_summer.demand, 100)"
   ]
  },
  {
   "cell_type": "markdown",
   "metadata": {
    "slideshow": {
     "slide_type": "slide"
    }
   },
   "source": [
    "## Andamento dell'Errore\n",
    "\n",
    "- Durante la discesa gradiente l'errore compiuto dal modello si riduce progressivamente\n",
    "- Prendiamo ad esempio i parametri del modello addestrato con 5 iterazioni..."
   ]
  },
  {
   "cell_type": "code",
   "execution_count": 25,
   "metadata": {},
   "outputs": [],
   "source": [
    "alpha, beta = uni_lin_reg_gd(data_summer.temp, data_summer.demand, 5)"
   ]
  },
  {
   "cell_type": "markdown",
   "metadata": {
    "slideshow": {
     "slide_type": "slide"
    }
   },
   "source": [
    "### Esercizio\n",
    "\n",
    "- Implementare la funzione `mse` che, dati in input\n",
    "  - il vettore `x` con $m$ osservazioni della variabile indipendente\n",
    "  - il vettore `y` con le corrispondenti osservazioni della variabile dipendente\n",
    "  - i valori dei parametri $\\alpha$ e $\\beta$\n",
    "- calcoli l'errore quadratico medio secondo la formula\n",
    "$$ \\mathrm{MSE}=\\frac{1}{m}\\sum_{j=1}^m\\left(\\alpha\\cdot x_j+\\beta-y_j\\right)^2 $$"
   ]
  },
  {
   "cell_type": "code",
   "execution_count": 26,
   "metadata": {},
   "outputs": [],
   "source": [
    "def mse(x, y, alpha, beta):\n",
    "    return ((alpha * x + beta - y) ** 2).mean()"
   ]
  },
  {
   "cell_type": "markdown",
   "metadata": {
    "slideshow": {
     "slide_type": "slide"
    }
   },
   "source": [
    "- Usiamo la funzione appena creata per calcolare l'errore del modello con 5 iterazioni"
   ]
  },
  {
   "cell_type": "code",
   "execution_count": 27,
   "metadata": {},
   "outputs": [
    {
     "data": {
      "text/plain": [
       "0.0288456492124837"
      ]
     },
     "execution_count": 27,
     "metadata": {},
     "output_type": "execute_result"
    }
   ],
   "source": [
    "mse(data_summer.temp, data_summer.demand, alpha, beta)"
   ]
  },
  {
   "cell_type": "markdown",
   "metadata": {},
   "source": [
    "- Se calcoliamo l'errore ad un numero di iterazioni superiore, es. 50, otteniamo un risultato inferiore"
   ]
  },
  {
   "cell_type": "code",
   "execution_count": 28,
   "metadata": {},
   "outputs": [
    {
     "data": {
      "text/plain": [
       "0.022314699238245188"
      ]
     },
     "execution_count": 28,
     "metadata": {},
     "output_type": "execute_result"
    }
   ],
   "source": [
    "alpha, beta = uni_lin_reg_gd(data_summer.temp, data_summer.demand, 50)\n",
    "mse(data_summer.temp, data_summer.demand, alpha, beta)"
   ]
  },
  {
   "cell_type": "markdown",
   "metadata": {
    "slideshow": {
     "slide_type": "slide"
    }
   },
   "source": [
    "### Grafico dell'Errore\n",
    "\n",
    "- Possiamo visualizzare l'andamento dell'errore attraverso le iterazioni\n",
    "- Calcoliamo l'errore per qualsiasi numero di iterazioni da 0 a 20 e inseriamo i valori in un vettore"
   ]
  },
  {
   "cell_type": "code",
   "execution_count": 29,
   "metadata": {},
   "outputs": [],
   "source": [
    "mse_progression = np.array([mse(data_summer.temp, data_summer.demand, *uni_lin_reg_gd(data_summer.temp, data_summer.demand, N))\n",
    "                            for N in range(21)])"
   ]
  },
  {
   "cell_type": "markdown",
   "metadata": {},
   "source": [
    "_(questo metodo è inefficiente in quanto la discesa gradiente è rieseguita da capo per ogni numero N di iterazioni, un'implementazione più efficiente è lasciata come esercizio opzionale)_"
   ]
  },
  {
   "cell_type": "code",
   "execution_count": 30,
   "metadata": {},
   "outputs": [
    {
     "data": {
      "text/plain": [
       "array([4.8654182 , 1.31378682, 0.36670176, 0.11415017, 0.04680426,\n",
       "       0.02884565, 0.02405676, 0.02277973, 0.02243919, 0.02234837,\n",
       "       0.02232414, 0.02231766, 0.02231592, 0.02231545, 0.02231531,\n",
       "       0.02231526, 0.02231524, 0.02231522, 0.0223152 , 0.02231519,\n",
       "       0.02231517])"
      ]
     },
     "execution_count": 30,
     "metadata": {},
     "output_type": "execute_result"
    }
   ],
   "source": [
    "mse_progression"
   ]
  },
  {
   "cell_type": "markdown",
   "metadata": {
    "slideshow": {
     "slide_type": "slide"
    }
   },
   "source": [
    "- Creiamo quindi un grafico a linea col numero di iterazioni sull'asse X e l'errore corrispondente sull'asse Y\n",
    "  - `plot` assume di default come valori X i numeri interi da 0, possiamo quindi specificare solo le Y"
   ]
  },
  {
   "cell_type": "code",
   "execution_count": 31,
   "metadata": {},
   "outputs": [
    {
     "data": {
      "text/plain": [
       "Text(0,0.5,'Mean squared error')"
      ]
     },
     "execution_count": 31,
     "metadata": {},
     "output_type": "execute_result"
    },
    {
     "data": {
      "image/png": "[encoded data removed]",
      "text/plain": [
       "<matplotlib.figure.Figure at 0x7f429fd65470>"
      ]
     },
     "metadata": {},
     "output_type": "display_data"
    }
   ],
   "source": [
    "plt.plot(mse_progression, \"ro-\")\n",
    "# \"ro-\" = rosso, pallini, tratto continuo\n",
    "plt.xlabel(\"Iterations\")\n",
    "plt.ylabel(\"Mean squared error\")"
   ]
  },
  {
   "cell_type": "markdown",
   "metadata": {},
   "source": [
    "- Vediamo come l'errore raggiunga un minimo dopo poche iterazioni"
   ]
  },
  {
   "cell_type": "markdown",
   "metadata": {
    "slideshow": {
     "slide_type": "slide"
    }
   },
   "source": [
    "- Per visualizzare meglio l'andamento per valori piccoli, applichiamo una scala logaritmica all'asse Y\n",
    "  - per farlo usiamo `semilogy` al posto di `plot`"
   ]
  },
  {
   "cell_type": "code",
   "execution_count": 32,
   "metadata": {},
   "outputs": [
    {
     "data": {
      "text/plain": [
       "Text(0,0.5,'Mean squared error')"
      ]
     },
     "execution_count": 32,
     "metadata": {},
     "output_type": "execute_result"
    },
    {
     "data": {
      "image/png": "[encoded data removed]",
      "text/plain": [
       "<matplotlib.figure.Figure at 0x7f429fc2fbe0>"
      ]
     },
     "metadata": {},
     "output_type": "display_data"
    }
   ],
   "source": [
    "plt.semilogy(mse_progression, \"ro-\")\n",
    "plt.xlabel(\"Iterations\")\n",
    "plt.ylabel(\"Mean squared error\")"
   ]
  },
  {
   "cell_type": "markdown",
   "metadata": {
    "slideshow": {
     "slide_type": "slide"
    }
   },
   "source": [
    "## Esercizio: Analisi dei Mesi Invernali\n",
    "\n",
    "- Finora abbiamo svolto l'analisi sui mesi estivi, imputando una parte consistente di consumo di elettricità all'aria condizionata\n",
    "- Analogamente, ipotizziamo che nei mesi invernali una quota importante di elettricità sia consumata per il riscaldamento (es. stufe elettriche) in modo dipendente dalla temperatura\n",
    "- Estraiamo questa volta i dati relativi ai mesi di dicembre, gennaio e febbraio"
   ]
  },
  {
   "cell_type": "code",
   "execution_count": 33,
   "metadata": {},
   "outputs": [],
   "source": [
    "data_winter = data.loc[data.date.dt.month.isin([12, 1, 2])]"
   ]
  },
  {
   "cell_type": "markdown",
   "metadata": {},
   "source": [
    "Riutilizzando opportunamente le funzioni definite sopra:\n",
    "1. visualizzare i dati in un grafico a dispersione\n",
    "2. addestrare un modello di regressione con 3000 iterazioni di discesa gradiente\n",
    "3. visualizzare il modello estratto nel grafico del punto 1\n",
    "4. usando il modello, prevedere il picco di consumo che si avrà con una temperatura di -5 °C"
   ]
  },
  {
   "cell_type": "markdown",
   "metadata": {
    "slideshow": {
     "slide_type": "slide"
    }
   },
   "source": [
    "### Soluzioni"
   ]
  },
  {
   "cell_type": "code",
   "execution_count": 34,
   "metadata": {
    "slideshow": {
     "slide_type": "-"
    }
   },
   "outputs": [
    {
     "data": {
      "text/plain": [
       "<matplotlib.collections.PathCollection at 0x7f429feed320>"
      ]
     },
     "execution_count": 34,
     "metadata": {},
     "output_type": "execute_result"
    },
    {
     "data": {
      "image/png": "[encoded data removed]",
      "text/plain": [
       "<matplotlib.figure.Figure at 0x7f429fcc6320>"
      ]
     },
     "metadata": {},
     "output_type": "display_data"
    }
   ],
   "source": [
    "plt.scatter(data_winter.temp, data_winter.demand)"
   ]
  },
  {
   "cell_type": "code",
   "execution_count": 35,
   "metadata": {
    "slideshow": {
     "slide_type": "slide"
    }
   },
   "outputs": [],
   "source": [
    "alpha, beta = uni_lin_reg_gd(data_winter.temp, data_winter.demand, 3000)"
   ]
  },
  {
   "cell_type": "code",
   "execution_count": 36,
   "metadata": {},
   "outputs": [
    {
     "data": {
      "image/png": "[encoded data removed]",
      "text/plain": [
       "<matplotlib.figure.Figure at 0x7f429fcf8ef0>"
      ]
     },
     "metadata": {},
     "output_type": "display_data"
    }
   ],
   "source": [
    "plot_reg_line(data_winter.temp, data_winter.demand, alpha, beta)"
   ]
  },
  {
   "cell_type": "code",
   "execution_count": 37,
   "metadata": {},
   "outputs": [
    {
     "data": {
      "text/plain": [
       "1.9382952328991991"
      ]
     },
     "execution_count": 37,
     "metadata": {},
     "output_type": "execute_result"
    }
   ],
   "source": [
    "alpha * (-5) + beta"
   ]
  },
  {
   "cell_type": "markdown",
   "metadata": {
    "slideshow": {
     "slide_type": "slide"
    }
   },
   "source": [
    "## Caso di Studio 2: Predizione Valori delle Case nei Quartieri\n",
    "\n",
    "- Un'agenzia immobiliare deve determinare i prezzi delle case in vendita\n",
    "- Un aspetto importante per determinare il prezzo è il quartiere in cui la casa si trova\n",
    "- Per ogni quartiere si possono individuare delle caratteristiche sommarie\n",
    "  - dati demografici, posizione, tasse, criminalità, ...\n",
    "- In base a queste caratteristiche, si vuole determinare il prezzo ideale dell'abitazione \"media\" di qualsiasi quartiere"
   ]
  },
  {
   "cell_type": "markdown",
   "metadata": {
    "slideshow": {
     "slide_type": "slide"
    }
   },
   "source": [
    "## Dati d'Esempio\n",
    "\n",
    "- Il dataset _Housing_, usato in ricerca e disponibile sul Web, contiene informazioni sui quartieri residenziali di Boston\n",
    "- I dati possono essere reperiti al seguente URL:"
   ]
  },
  {
   "cell_type": "code",
   "execution_count": 38,
   "metadata": {},
   "outputs": [],
   "source": [
    "housing_url = \"https://archive.ics.uci.edu/ml/machine-learning-databases/housing/housing.data\""
   ]
  },
  {
   "cell_type": "markdown",
   "metadata": {},
   "source": [
    "- I dati sono disposti in colonne di larghezza fissa, separate con spazi, senza una riga di intestazione\n",
    "```\n",
    " 0.00632  18.00   2.310  0  0.5380  6.5750  65.20  4.0900   1  296.0  15.30 396.90   4.98  24.00\n",
    " 0.02731   0.00   7.070  0  0.4690  6.4210  78.90  4.9671   2  242.0  17.80 396.90   9.14  21.60\n",
    " 0.02729   0.00   7.070  0  0.4690  7.1850  61.10  4.9671   2  242.0  17.80 392.83   4.03  34.70\n",
    "...\n",
    "```\n",
    "- Possiamo considerarlo come un CSV dove è usato un numero variabile di spazi come separatore\n",
    "  - usiamo l'espressione regolare \"`\\s+`\" che indica \"uno o più spazi\""
   ]
  },
  {
   "cell_type": "code",
   "execution_count": 39,
   "metadata": {},
   "outputs": [],
   "source": [
    "data = pd.read_csv(housing_url, header=None, sep=\"\\s+\")"
   ]
  },
  {
   "cell_type": "markdown",
   "metadata": {
    "slideshow": {
     "slide_type": "slide"
    }
   },
   "source": [
    "- Quante righe e colonne contiene il file importato?"
   ]
  },
  {
   "cell_type": "code",
   "execution_count": 40,
   "metadata": {},
   "outputs": [
    {
     "data": {
      "text/plain": [
       "(506, 14)"
      ]
     },
     "execution_count": 40,
     "metadata": {},
     "output_type": "execute_result"
    }
   ],
   "source": [
    "data.shape"
   ]
  },
  {
   "cell_type": "markdown",
   "metadata": {
    "slideshow": {
     "slide_type": "-"
    }
   },
   "source": [
    "- Non essendoci una riga di header, dobbiamo impostare manualmente i nomi delle colonne"
   ]
  },
  {
   "cell_type": "code",
   "execution_count": 41,
   "metadata": {},
   "outputs": [],
   "source": [
    "data.columns = \"CRIM ZN INDUS CHAS NOX RM AGE DIS RAD TAX PTRATIO B LSTAT MEDV\".split()"
   ]
  },
  {
   "cell_type": "code",
   "execution_count": 42,
   "metadata": {
    "slideshow": {
     "slide_type": "slide"
    }
   },
   "outputs": [
    {
     "data": {
      "text/html": [
       "<div>\n",
       "<style scoped>\n",
       "    .dataframe tbody tr th:only-of-type {\n",
       "        vertical-align: middle;\n",
       "    }\n",
       "\n",
       "    .dataframe tbody tr th {\n",
       "        vertical-align: top;\n",
       "    }\n",
       "\n",
       "    .dataframe thead th {\n",
       "        text-align: right;\n",
       "    }\n",
       "</style>\n",
       "<table border=\"1\" class=\"dataframe\">\n",
       "  <thead>\n",
       "    <tr style=\"text-align: right;\">\n",
       "      <th></th>\n",
       "      <th>CRIM</th>\n",
       "      <th>ZN</th>\n",
       "      <th>INDUS</th>\n",
       "      <th>CHAS</th>\n",
       "      <th>NOX</th>\n",
       "      <th>RM</th>\n",
       "      <th>AGE</th>\n",
       "      <th>DIS</th>\n",
       "      <th>RAD</th>\n",
       "      <th>TAX</th>\n",
       "      <th>PTRATIO</th>\n",
       "      <th>B</th>\n",
       "      <th>LSTAT</th>\n",
       "      <th>MEDV</th>\n",
       "    </tr>\n",
       "  </thead>\n",
       "  <tbody>\n",
       "    <tr>\n",
       "      <th>0</th>\n",
       "      <td>0.00632</td>\n",
       "      <td>18.0</td>\n",
       "      <td>2.31</td>\n",
       "      <td>0</td>\n",
       "      <td>0.538</td>\n",
       "      <td>6.575</td>\n",
       "      <td>65.2</td>\n",
       "      <td>4.0900</td>\n",
       "      <td>1</td>\n",
       "      <td>296.0</td>\n",
       "      <td>15.3</td>\n",
       "      <td>396.90</td>\n",
       "      <td>4.98</td>\n",
       "      <td>24.0</td>\n",
       "    </tr>\n",
       "    <tr>\n",
       "      <th>1</th>\n",
       "      <td>0.02731</td>\n",
       "      <td>0.0</td>\n",
       "      <td>7.07</td>\n",
       "      <td>0</td>\n",
       "      <td>0.469</td>\n",
       "      <td>6.421</td>\n",
       "      <td>78.9</td>\n",
       "      <td>4.9671</td>\n",
       "      <td>2</td>\n",
       "      <td>242.0</td>\n",
       "      <td>17.8</td>\n",
       "      <td>396.90</td>\n",
       "      <td>9.14</td>\n",
       "      <td>21.6</td>\n",
       "    </tr>\n",
       "    <tr>\n",
       "      <th>2</th>\n",
       "      <td>0.02729</td>\n",
       "      <td>0.0</td>\n",
       "      <td>7.07</td>\n",
       "      <td>0</td>\n",
       "      <td>0.469</td>\n",
       "      <td>7.185</td>\n",
       "      <td>61.1</td>\n",
       "      <td>4.9671</td>\n",
       "      <td>2</td>\n",
       "      <td>242.0</td>\n",
       "      <td>17.8</td>\n",
       "      <td>392.83</td>\n",
       "      <td>4.03</td>\n",
       "      <td>34.7</td>\n",
       "    </tr>\n",
       "    <tr>\n",
       "      <th>3</th>\n",
       "      <td>0.03237</td>\n",
       "      <td>0.0</td>\n",
       "      <td>2.18</td>\n",
       "      <td>0</td>\n",
       "      <td>0.458</td>\n",
       "      <td>6.998</td>\n",
       "      <td>45.8</td>\n",
       "      <td>6.0622</td>\n",
       "      <td>3</td>\n",
       "      <td>222.0</td>\n",
       "      <td>18.7</td>\n",
       "      <td>394.63</td>\n",
       "      <td>2.94</td>\n",
       "      <td>33.4</td>\n",
       "    </tr>\n",
       "    <tr>\n",
       "      <th>4</th>\n",
       "      <td>0.06905</td>\n",
       "      <td>0.0</td>\n",
       "      <td>2.18</td>\n",
       "      <td>0</td>\n",
       "      <td>0.458</td>\n",
       "      <td>7.147</td>\n",
       "      <td>54.2</td>\n",
       "      <td>6.0622</td>\n",
       "      <td>3</td>\n",
       "      <td>222.0</td>\n",
       "      <td>18.7</td>\n",
       "      <td>396.90</td>\n",
       "      <td>5.33</td>\n",
       "      <td>36.2</td>\n",
       "    </tr>\n",
       "    <tr>\n",
       "      <th>5</th>\n",
       "      <td>0.02985</td>\n",
       "      <td>0.0</td>\n",
       "      <td>2.18</td>\n",
       "      <td>0</td>\n",
       "      <td>0.458</td>\n",
       "      <td>6.430</td>\n",
       "      <td>58.7</td>\n",
       "      <td>6.0622</td>\n",
       "      <td>3</td>\n",
       "      <td>222.0</td>\n",
       "      <td>18.7</td>\n",
       "      <td>394.12</td>\n",
       "      <td>5.21</td>\n",
       "      <td>28.7</td>\n",
       "    </tr>\n",
       "    <tr>\n",
       "      <th>6</th>\n",
       "      <td>0.08829</td>\n",
       "      <td>12.5</td>\n",
       "      <td>7.87</td>\n",
       "      <td>0</td>\n",
       "      <td>0.524</td>\n",
       "      <td>6.012</td>\n",
       "      <td>66.6</td>\n",
       "      <td>5.5605</td>\n",
       "      <td>5</td>\n",
       "      <td>311.0</td>\n",
       "      <td>15.2</td>\n",
       "      <td>395.60</td>\n",
       "      <td>12.43</td>\n",
       "      <td>22.9</td>\n",
       "    </tr>\n",
       "    <tr>\n",
       "      <th>7</th>\n",
       "      <td>0.14455</td>\n",
       "      <td>12.5</td>\n",
       "      <td>7.87</td>\n",
       "      <td>0</td>\n",
       "      <td>0.524</td>\n",
       "      <td>6.172</td>\n",
       "      <td>96.1</td>\n",
       "      <td>5.9505</td>\n",
       "      <td>5</td>\n",
       "      <td>311.0</td>\n",
       "      <td>15.2</td>\n",
       "      <td>396.90</td>\n",
       "      <td>19.15</td>\n",
       "      <td>27.1</td>\n",
       "    </tr>\n",
       "    <tr>\n",
       "      <th>8</th>\n",
       "      <td>0.21124</td>\n",
       "      <td>12.5</td>\n",
       "      <td>7.87</td>\n",
       "      <td>0</td>\n",
       "      <td>0.524</td>\n",
       "      <td>5.631</td>\n",
       "      <td>100.0</td>\n",
       "      <td>6.0821</td>\n",
       "      <td>5</td>\n",
       "      <td>311.0</td>\n",
       "      <td>15.2</td>\n",
       "      <td>386.63</td>\n",
       "      <td>29.93</td>\n",
       "      <td>16.5</td>\n",
       "    </tr>\n",
       "    <tr>\n",
       "      <th>9</th>\n",
       "      <td>0.17004</td>\n",
       "      <td>12.5</td>\n",
       "      <td>7.87</td>\n",
       "      <td>0</td>\n",
       "      <td>0.524</td>\n",
       "      <td>6.004</td>\n",
       "      <td>85.9</td>\n",
       "      <td>6.5921</td>\n",
       "      <td>5</td>\n",
       "      <td>311.0</td>\n",
       "      <td>15.2</td>\n",
       "      <td>386.71</td>\n",
       "      <td>17.10</td>\n",
       "      <td>18.9</td>\n",
       "    </tr>\n",
       "  </tbody>\n",
       "</table>\n",
       "</div>"
      ],
      "text/plain": [
       "      CRIM    ZN  INDUS  CHAS    NOX     RM    AGE     DIS  RAD    TAX  \\\n",
       "0  0.00632  18.0   2.31     0  0.538  6.575   65.2  4.0900    1  296.0   \n",
       "1  0.02731   0.0   7.07     0  0.469  6.421   78.9  4.9671    2  242.0   \n",
       "2  0.02729   0.0   7.07     0  0.469  7.185   61.1  4.9671    2  242.0   \n",
       "3  0.03237   0.0   2.18     0  0.458  6.998   45.8  6.0622    3  222.0   \n",
       "4  0.06905   0.0   2.18     0  0.458  7.147   54.2  6.0622    3  222.0   \n",
       "5  0.02985   0.0   2.18     0  0.458  6.430   58.7  6.0622    3  222.0   \n",
       "6  0.08829  12.5   7.87     0  0.524  6.012   66.6  5.5605    5  311.0   \n",
       "7  0.14455  12.5   7.87     0  0.524  6.172   96.1  5.9505    5  311.0   \n",
       "8  0.21124  12.5   7.87     0  0.524  5.631  100.0  6.0821    5  311.0   \n",
       "9  0.17004  12.5   7.87     0  0.524  6.004   85.9  6.5921    5  311.0   \n",
       "\n",
       "   PTRATIO       B  LSTAT  MEDV  \n",
       "0     15.3  396.90   4.98  24.0  \n",
       "1     17.8  396.90   9.14  21.6  \n",
       "2     17.8  392.83   4.03  34.7  \n",
       "3     18.7  394.63   2.94  33.4  \n",
       "4     18.7  396.90   5.33  36.2  \n",
       "5     18.7  394.12   5.21  28.7  \n",
       "6     15.2  395.60  12.43  22.9  \n",
       "7     15.2  396.90  19.15  27.1  \n",
       "8     15.2  386.63  29.93  16.5  \n",
       "9     15.2  386.71  17.10  18.9  "
      ]
     },
     "execution_count": 42,
     "metadata": {},
     "output_type": "execute_result"
    }
   ],
   "source": [
    "data.head(10)"
   ]
  },
  {
   "cell_type": "markdown",
   "metadata": {
    "slideshow": {
     "slide_type": "slide"
    }
   },
   "source": [
    "### Lista delle variabili\n",
    "\n",
    "- CRIM: tasso di criminalità pro capite per zona\n",
    "- ZN: proporzione terreno residenziale per lotti maggiori di 25.000 piedi quadrati (circa 2300 m2)\n",
    "- INDUS: proporzione di acri industriali non commerciali per città\n",
    "- CHAS: variabile fittizia Charles River, 1 se il tratto affianca il fiume, altrimenti 0\n",
    "- NOX: concentrazione di ossido d’azoto (parti per 10 milioni)\n",
    "- RM: numero medio di stanze per abitazione\n",
    "- AGE: proporzione delle unità abitate costruite prima del 1940\n",
    "- DIS: distanze pesate verso i cinque uffici di collocamento di Boston\n",
    "- RAD: indice di accessibilità rispetto alle grandi vie radiali di comunicazione\n",
    "- TAX: tasso di imposte sulla casa per 10.000 dollari\n",
    "- PTRATIO: rapporto allievi-docenti per città\n",
    "- B: 1000(Bk - 0.63)2, dove Bk è la proporzione di persone di origine afroamericana\n",
    "- LSTAT: percentuale di popolazione con basso reddito\n",
    "- **MEDV: valore mediano delle abitazioni di proprietà in migliaia di dollari**\n",
    "  - vogliamo stimare il valore di questa variabile in funzione delle altre"
   ]
  },
  {
   "cell_type": "markdown",
   "metadata": {
    "slideshow": {
     "slide_type": "slide"
    }
   },
   "source": [
    "## Regressione Lineare Multivariata\n",
    "\n",
    "- Nella regressione multivariata una variabile dipendente è stimata su $n$ variabili indipendenti\n",
    "- Il modello è rappresentabile come un iperpiano in $n+1$ dimensioni con $n+1$ parametri ($n$ coefficienti angolari più l'intercetta)\n",
    "$$ h(\\mathbf{x})=\\theta_0+\\sum_{i=1}^n\\theta_i\\cdot x_i=\\mathbf{\\theta}\\cdot([1]\\Vert\\mathbf{x}) $$\n",
    "- Un insieme di $m$ osservazioni su cui addestrare il modello può essere rappresentato da\n",
    "  - una matrice $\\mathbf{X}$ con $m\\times n$ valori delle variabili indipendenti\n",
    "  - un vettore $\\mathbf{y}$ con i corrispondenti $m$ valori noti della variabile dipendente"
   ]
  },
  {
   "cell_type": "markdown",
   "metadata": {
    "slideshow": {
     "slide_type": "slide"
    }
   },
   "source": [
    "## Dati per la Regressione\n",
    "\n",
    "- Dobbiamo estrarre dai dati caricati la matrice **X** e il vettore **y**\n",
    "- **y** è dato dalla colonna `MEDV` del frame\n",
    "  - con `values` si estrae l'array dei valori contenuti in una serie o frame"
   ]
  },
  {
   "cell_type": "code",
   "execution_count": 43,
   "metadata": {},
   "outputs": [],
   "source": [
    "y = data[\"MEDV\"]"
   ]
  },
  {
   "cell_type": "markdown",
   "metadata": {},
   "source": [
    "- **X** è dato dall'intero frame ad esclusione della colonna `MEDV`\n",
    "  - usiamo il metodo `drop` per ottenere una copia del frame senza la colonna"
   ]
  },
  {
   "cell_type": "code",
   "execution_count": 44,
   "metadata": {},
   "outputs": [],
   "source": [
    "X = data.drop(columns=[\"MEDV\"])"
   ]
  },
  {
   "cell_type": "markdown",
   "metadata": {
    "slideshow": {
     "slide_type": "slide"
    }
   },
   "source": [
    "## Algoritmo di Discesa del Gradiente\n",
    "\n",
    "- Vediamo l'implementazione della discesa del gradiente per la regressione lineare multivariata"
   ]
  },
  {
   "cell_type": "code",
   "execution_count": 45,
   "metadata": {
    "slideshow": {
     "slide_type": "-"
    }
   },
   "outputs": [],
   "source": [
    "def lin_reg_gd(X, y, N=50, step_size=0.000001):\n",
    "    # estraggo numero di osservazioni e di feature\n",
    "    m, n = X.shape\n",
    "    # creo copia di X con aggiunta una colonna di 1\n",
    "    # (hstack concatena matrici orizzontalmente)\n",
    "    X1 = np.hstack([np.ones((m, 1)), X])\n",
    "    # inizializzo vettore parametri a zero\n",
    "    theta = np.zeros(n+1)\n",
    "    for it in range(N):\n",
    "        # calcolo l'errore su ciascuna osservazione\n",
    "        error = X1.dot(theta) - y\n",
    "        # calcolo il gradiente\n",
    "        grad = 2 / m * (X1.T.dot(error))\n",
    "        # aggiorno il vettore dei parametri\n",
    "        theta -= step_size * grad\n",
    "    return theta"
   ]
  },
  {
   "cell_type": "markdown",
   "metadata": {
    "slideshow": {
     "slide_type": "slide"
    }
   },
   "source": [
    "## Addestramento Modello e Predizione\n",
    "\n",
    "- Eseguendo la funzione, otteniamo un vettore di parametri del modello"
   ]
  },
  {
   "cell_type": "code",
   "execution_count": 46,
   "metadata": {},
   "outputs": [],
   "source": [
    "theta = lin_reg_gd(X, y)"
   ]
  },
  {
   "cell_type": "markdown",
   "metadata": {},
   "source": [
    "- Dato un vettore di valori delle variabili indipendenti, ad es. la prima riga di **X**..."
   ]
  },
  {
   "cell_type": "code",
   "execution_count": 47,
   "metadata": {},
   "outputs": [],
   "source": [
    "sample = X.iloc[0]"
   ]
  },
  {
   "cell_type": "markdown",
   "metadata": {},
   "source": [
    "- ...possiamo calcolare il valore di _y_ predetto così"
   ]
  },
  {
   "cell_type": "code",
   "execution_count": 48,
   "metadata": {},
   "outputs": [
    {
     "data": {
      "text/plain": [
       "23.986402721555702"
      ]
     },
     "execution_count": 48,
     "metadata": {},
     "output_type": "execute_result"
    }
   ],
   "source": [
    "theta[0] + theta[1:].dot(sample)"
   ]
  },
  {
   "cell_type": "markdown",
   "metadata": {},
   "source": [
    "- Per confronto, il valore reale è"
   ]
  },
  {
   "cell_type": "code",
   "execution_count": 49,
   "metadata": {},
   "outputs": [
    {
     "data": {
      "text/plain": [
       "24.0"
      ]
     },
     "execution_count": 49,
     "metadata": {},
     "output_type": "execute_result"
    }
   ],
   "source": [
    "y[0]"
   ]
  },
  {
   "cell_type": "markdown",
   "metadata": {
    "slideshow": {
     "slide_type": "slide"
    }
   },
   "source": [
    "## Funzione d'Errore\n",
    "\n",
    "- L'errore quadratico medio di cui è stato usato il gradiente sopra è calcolato come\n",
    "\n",
    "$$ E(\\mathbf\\theta)=\\frac{1}{m}\\sum_{j=1}^m\\left(\\mathbf\\theta\\cdot\\left([1]\\Vert\\mathbf{x}_j\\right)-y_j\\right)^2 $$"
   ]
  },
  {
   "cell_type": "code",
   "execution_count": 50,
   "metadata": {},
   "outputs": [],
   "source": [
    "def mse(X, y, theta):\n",
    "    m, n = X.shape\n",
    "    X1 = np.hstack([np.ones((m, 1)), X])\n",
    "    return ((X1.dot(theta) - y) ** 2).mean()"
   ]
  },
  {
   "cell_type": "markdown",
   "metadata": {},
   "source": [
    "- Come sopra, possiamo verificare l'andamento dell'errore in base al numero di iterazioni"
   ]
  },
  {
   "cell_type": "code",
   "execution_count": 51,
   "metadata": {},
   "outputs": [],
   "source": [
    "error_prog = np.array([mse(X, y, lin_reg_gd(X, y, N)) for N in range(21)])"
   ]
  },
  {
   "cell_type": "code",
   "execution_count": 52,
   "metadata": {},
   "outputs": [
    {
     "data": {
      "text/plain": [
       "array([592.146917  , 196.2463961 , 136.88296511, 124.94882794,\n",
       "       119.97921125, 116.28477969, 113.04227934, 110.11150159,\n",
       "       107.45005962, 105.03133491, 102.8328108 , 100.83426711,\n",
       "        99.01736971,  97.36546963,  95.86344477,  94.49755929,\n",
       "        93.25533651,  92.12544348,  91.09758609,  90.16241388,\n",
       "        89.31143353])"
      ]
     },
     "execution_count": 52,
     "metadata": {},
     "output_type": "execute_result"
    }
   ],
   "source": [
    "error_prog"
   ]
  },
  {
   "cell_type": "code",
   "execution_count": 53,
   "metadata": {
    "slideshow": {
     "slide_type": "slide"
    }
   },
   "outputs": [
    {
     "data": {
      "text/plain": [
       "[<matplotlib.lines.Line2D at 0x7f429fc66400>]"
      ]
     },
     "execution_count": 53,
     "metadata": {},
     "output_type": "execute_result"
    },
    {
     "data": {
      "image/png": "[encoded data removed]",
      "text/plain": [
       "<matplotlib.figure.Figure at 0x7f429ffb2160>"
      ]
     },
     "metadata": {},
     "output_type": "display_data"
    }
   ],
   "source": [
    "plt.plot(error_prog, \"ro-\")"
   ]
  },
  {
   "cell_type": "code",
   "execution_count": 54,
   "metadata": {
    "slideshow": {
     "slide_type": "slide"
    }
   },
   "outputs": [
    {
     "data": {
      "text/plain": [
       "[<matplotlib.lines.Line2D at 0x7f429ffb3f98>]"
      ]
     },
     "execution_count": 54,
     "metadata": {},
     "output_type": "execute_result"
    },
    {
     "data": {
      "image/png": "[encoded data removed]",
      "text/plain": [
       "<matplotlib.figure.Figure at 0x7f429fe6d908>"
      ]
     },
     "metadata": {},
     "output_type": "display_data"
    }
   ],
   "source": [
    "plt.semilogy(error_prog, \"ro-\")"
   ]
  },
  {
   "cell_type": "markdown",
   "metadata": {
    "slideshow": {
     "slide_type": "slide"
    }
   },
   "source": [
    "## scikit-learn\n",
    "\n",
    "- Invece di implementare manualmente l'addestramento e l'uso di modelli, vediamo come usare una libreria apposita...\n",
    "- _scikit-learn_ offre diversi algoritmi e funzioni di supporto per l'addestramento di modelli predittivi, inclusa la regressione lineare\n",
    "  - tutti i tipi di modelli offrono un'interfaccia comune per l'addestramento e la predizione (_inferenza_)\n",
    "  - i dati in ingresso sono rappresentati come array NumPy o serie/frame pandas"
   ]
  },
  {
   "cell_type": "code",
   "execution_count": 55,
   "metadata": {},
   "outputs": [],
   "source": [
    "import sklearn"
   ]
  },
  {
   "cell_type": "markdown",
   "metadata": {
    "slideshow": {
     "slide_type": "slide"
    }
   },
   "source": [
    "## Divisione in Training e Validation Set\n",
    "\n",
    "- Dall'analisi di regressione dobbiamo ottenere un modello generale, che dia stime affidabili anche su dati simili ma non identici a quelli su cui è costruito\n",
    "- Per questo è necessario valutare come si comporta il modello su dati diversi da quelli di addestramento\n",
    "- È comune dividere i dati a disposizione per costruire il modello in\n",
    "  - un _training set_ su cui il modello è effettivamente addestrato, minimizzando l'errore su di esso\n",
    "  - un _validation set_ su cui verificare l'errore del modello\n",
    "- scikit-learn offre una funzione `train_test_split` per dividere casualmente un set di dati in due parti disgiunte"
   ]
  },
  {
   "cell_type": "code",
   "execution_count": 56,
   "metadata": {},
   "outputs": [],
   "source": [
    "from sklearn.model_selection import train_test_split\n",
    "X_train, X_val, y_train, y_val = \\\n",
    "    train_test_split(X, y, test_size=0.3, random_state=44)"
   ]
  },
  {
   "cell_type": "markdown",
   "metadata": {
    "slideshow": {
     "slide_type": "slide"
    }
   },
   "source": [
    "## Addestramento di un Modello\n",
    "\n",
    "- Per addestrare un modello di regressione con scikit-learn, dapprima creiamo un oggetto modello \"vuoto\""
   ]
  },
  {
   "cell_type": "code",
   "execution_count": 57,
   "metadata": {},
   "outputs": [],
   "source": [
    "from sklearn.linear_model import LinearRegression\n",
    "lrm = LinearRegression()"
   ]
  },
  {
   "cell_type": "markdown",
   "metadata": {},
   "source": [
    "- Quindi usiamo il metodo `fit` per addestrarlo sui dati del training set"
   ]
  },
  {
   "cell_type": "code",
   "execution_count": 58,
   "metadata": {},
   "outputs": [
    {
     "data": {
      "text/plain": [
       "LinearRegression(copy_X=True, fit_intercept=True, n_jobs=1, normalize=False)"
      ]
     },
     "execution_count": 58,
     "metadata": {},
     "output_type": "execute_result"
    }
   ],
   "source": [
    "lrm.fit(X_train, y_train)"
   ]
  },
  {
   "cell_type": "markdown",
   "metadata": {
    "slideshow": {
     "slide_type": "slide"
    }
   },
   "source": [
    "## Parametri del Modello\n",
    "\n",
    "- Dal modello addestrato possiamo consultarne i parametri: i coefficienti angolari e l'intercetta"
   ]
  },
  {
   "cell_type": "code",
   "execution_count": 59,
   "metadata": {},
   "outputs": [
    {
     "data": {
      "text/plain": [
       "array([-1.04665683e-01,  5.86209331e-02, -5.05429305e-04,  2.51348609e+00,\n",
       "       -2.08012904e+01,  3.13959777e+00,  4.85560551e-03, -1.78869240e+00,\n",
       "        2.98933987e-01, -1.16491699e-02, -9.96953430e-01,  1.06185800e-02,\n",
       "       -5.28177921e-01])"
      ]
     },
     "execution_count": 59,
     "metadata": {},
     "output_type": "execute_result"
    }
   ],
   "source": [
    "lrm.coef_"
   ]
  },
  {
   "cell_type": "code",
   "execution_count": 60,
   "metadata": {},
   "outputs": [
    {
     "data": {
      "text/plain": [
       "43.47797322841991"
      ]
     },
     "execution_count": 60,
     "metadata": {},
     "output_type": "execute_result"
    }
   ],
   "source": [
    "lrm.intercept_"
   ]
  },
  {
   "cell_type": "markdown",
   "metadata": {
    "slideshow": {
     "slide_type": "slide"
    }
   },
   "source": [
    "- Possiamo associare ad ogni coefficiente angolare il nome della variabile corrispondente, per capire quali fenomeni influiscano positivamente e negativamente"
   ]
  },
  {
   "cell_type": "code",
   "execution_count": 61,
   "metadata": {},
   "outputs": [
    {
     "data": {
      "text/plain": [
       "CRIM       -0.104666\n",
       "ZN          0.058621\n",
       "INDUS      -0.000505\n",
       "CHAS        2.513486\n",
       "NOX       -20.801290\n",
       "RM          3.139598\n",
       "AGE         0.004856\n",
       "DIS        -1.788692\n",
       "RAD         0.298934\n",
       "TAX        -0.011649\n",
       "PTRATIO    -0.996953\n",
       "B           0.010619\n",
       "LSTAT      -0.528178\n",
       "dtype: float64"
      ]
     },
     "execution_count": 61,
     "metadata": {},
     "output_type": "execute_result"
    }
   ],
   "source": [
    "pd.Series(lrm.coef_, index=X.columns)"
   ]
  },
  {
   "cell_type": "markdown",
   "metadata": {},
   "source": [
    "- Vediamo ad esempio che il modello prevede il valore mediano delle abitazioni:\n",
    "  - più alto di circa 2.500 dollari nei quartieri vicini al fiume (variabile CHAS)\n",
    "  - circa 3.140 dollari più alto per ciascuna stanza (variabile RM)"
   ]
  },
  {
   "cell_type": "markdown",
   "metadata": {
    "slideshow": {
     "slide_type": "slide"
    }
   },
   "source": [
    "## Ottenere Predizioni dal Modello\n",
    "\n",
    "- Col metodo `predict`, dato un set di osservazioni delle variabili indipendenti, possiamo ottenere i corrispondenti valori della variabile dipendente previsti dal modello\n",
    "- Ad esempio, passando la matrice `X_train`, otteniamo i valori di _y_ previsti dal modello per le osservazioni di training, che saranno un'approssimazione dei valori reali"
   ]
  },
  {
   "cell_type": "code",
   "execution_count": 62,
   "metadata": {},
   "outputs": [],
   "source": [
    "pred_train = lrm.predict(X_train)"
   ]
  },
  {
   "cell_type": "code",
   "execution_count": 63,
   "metadata": {},
   "outputs": [
    {
     "data": {
      "text/plain": [
       "array([26.36282482, 12.79041347, 33.24809334, 36.876313  , 22.76510566])"
      ]
     },
     "execution_count": 63,
     "metadata": {},
     "output_type": "execute_result"
    }
   ],
   "source": [
    "pred_train[:5]"
   ]
  },
  {
   "cell_type": "markdown",
   "metadata": {},
   "source": [
    "- Otteniamo allo stesso modo anche le predizioni relative al validation set"
   ]
  },
  {
   "cell_type": "code",
   "execution_count": 64,
   "metadata": {},
   "outputs": [],
   "source": [
    "pred_val = lrm.predict(X_val)"
   ]
  },
  {
   "cell_type": "markdown",
   "metadata": {
    "slideshow": {
     "slide_type": "slide"
    }
   },
   "source": [
    "## Calcolo dell'Errore del Modello\n",
    "\n",
    "- Confrontando le risposte date dal modello con i dati effettivi, possiamo quantificare l'errore compiuto dal modello sui dati\n",
    "- Ad esempio possiamo calcolare l'errore quadratico medio sui dati di training, che è stato minimizzato dal modello"
   ]
  },
  {
   "cell_type": "code",
   "execution_count": 65,
   "metadata": {},
   "outputs": [
    {
     "data": {
      "text/plain": [
       "22.513359512263296"
      ]
     },
     "execution_count": 65,
     "metadata": {},
     "output_type": "execute_result"
    }
   ],
   "source": [
    "((pred_train - y_train)**2).mean()"
   ]
  },
  {
   "cell_type": "markdown",
   "metadata": {
    "slideshow": {
     "slide_type": "slide"
    }
   },
   "source": [
    "### Esercizi\n",
    "\n",
    "1. Calcolare l'errore quadratico medio sul validation set\n",
    "2. Definendo l'_errore relativo_ tra valore reale $y$ e predetto $\\hat{y}$ come $\\left|\\frac{\\hat{y}-y}{y}\\right|$, calcolare l'errore relativo medio su training e validation set"
   ]
  },
  {
   "cell_type": "code",
   "execution_count": 66,
   "metadata": {},
   "outputs": [
    {
     "data": {
      "text/plain": [
       "21.4391495236496"
      ]
     },
     "execution_count": 66,
     "metadata": {},
     "output_type": "execute_result"
    }
   ],
   "source": [
    "((pred_val - y_val)**2).mean()"
   ]
  },
  {
   "cell_type": "code",
   "execution_count": 67,
   "metadata": {},
   "outputs": [
    {
     "data": {
      "text/plain": [
       "0.16420859067207838"
      ]
     },
     "execution_count": 67,
     "metadata": {},
     "output_type": "execute_result"
    }
   ],
   "source": [
    "((pred_train - y_train) / y_train).abs().mean()"
   ]
  },
  {
   "cell_type": "code",
   "execution_count": 68,
   "metadata": {},
   "outputs": [
    {
     "data": {
      "text/plain": [
       "0.1665218243695783"
      ]
     },
     "execution_count": 68,
     "metadata": {},
     "output_type": "execute_result"
    }
   ],
   "source": [
    "((pred_val - y_val) / y_val).abs().mean()"
   ]
  },
  {
   "cell_type": "markdown",
   "metadata": {
    "slideshow": {
     "slide_type": "slide"
    }
   },
   "source": [
    "## Caso di Studio 3: Stima Polarità delle Recensioni\n",
    "\n",
    "- Sul Web si trovano molte opinioni scritte dagli utenti di prodotti e servizi\n",
    "- Alcune di queste sono etichettate con voti in una scala numerica (es. da 1 a 5 stelle)\n",
    "- Estraendo conoscenza da queste, vogliamo estrarre un modello che classifichi come positive o negative le opinioni senza un voto indicato esplicitamente\n",
    "- Per capire in modo semplice l'orientamento di un testo possiamo cercare in esso delle parole chiave che denotino un parere positivo o negativo"
   ]
  },
  {
   "cell_type": "markdown",
   "metadata": {
    "slideshow": {
     "slide_type": "slide"
    }
   },
   "source": [
    "## Recensioni\n",
    "\n",
    "- Abbiamo un insieme di 10.000 recensioni di film tratte da Amazon, etichettate con voti da 1 a 5 stelle\n",
    "- Sono contenute nel file CSV compresso `reviews.csv.gz`, con due colonne \"text\" e \"stars\"\n",
    "- Come al solito usiamo pandas per leggere il file da URL, specificando\n",
    "  - che il carattere di tabulazione è usato come separatore\n",
    "  - il tipo di compressione usata dal file"
   ]
  },
  {
   "cell_type": "code",
   "execution_count": 69,
   "metadata": {},
   "outputs": [],
   "source": [
    "reviews = pd.read_csv(\"https://git.io/vpaDt\", sep=\"\\t\", compression=\"gzip\")"
   ]
  },
  {
   "cell_type": "markdown",
   "metadata": {
    "slideshow": {
     "slide_type": "slide"
    }
   },
   "source": [
    "### Visualizzare i Dati Caricati\n",
    "\n",
    "- Visualizziamo una porzione dei dati caricati\n",
    "  - per visualizzare meglio i dati, aumentiamo prima il numero di caratteri massimo per colonna"
   ]
  },
  {
   "cell_type": "code",
   "execution_count": 70,
   "metadata": {},
   "outputs": [],
   "source": [
    "pd.options.display.max_colwidth = 100"
   ]
  },
  {
   "cell_type": "code",
   "execution_count": 71,
   "metadata": {},
   "outputs": [
    {
     "data": {
      "text/html": [
       "<div>\n",
       "<style scoped>\n",
       "    .dataframe tbody tr th:only-of-type {\n",
       "        vertical-align: middle;\n",
       "    }\n",
       "\n",
       "    .dataframe tbody tr th {\n",
       "        vertical-align: top;\n",
       "    }\n",
       "\n",
       "    .dataframe thead th {\n",
       "        text-align: right;\n",
       "    }\n",
       "</style>\n",
       "<table border=\"1\" class=\"dataframe\">\n",
       "  <thead>\n",
       "    <tr style=\"text-align: right;\">\n",
       "      <th></th>\n",
       "      <th>text</th>\n",
       "      <th>stars</th>\n",
       "    </tr>\n",
       "  </thead>\n",
       "  <tbody>\n",
       "    <tr>\n",
       "      <th>0</th>\n",
       "      <td>George Romero did the right thing when he picked Tom Savini to remake Night of The Living Dead. ...</td>\n",
       "      <td>5</td>\n",
       "    </tr>\n",
       "    <tr>\n",
       "      <th>1</th>\n",
       "      <td>OK, that makes it sound like something out of an old Buck Roger's serial.  Yet, this spoof of ev...</td>\n",
       "      <td>5</td>\n",
       "    </tr>\n",
       "    <tr>\n",
       "      <th>2</th>\n",
       "      <td>- At a tribal village, a pensive Elizabeth Curtis to her brother while Quatermain haggles with t...</td>\n",
       "      <td>5</td>\n",
       "    </tr>\n",
       "    <tr>\n",
       "      <th>3</th>\n",
       "      <td>Wow! This has to be one of the more unusual movies I've ever seen, one that is leaves you shakin...</td>\n",
       "      <td>5</td>\n",
       "    </tr>\n",
       "    <tr>\n",
       "      <th>4</th>\n",
       "      <td>Kevin Costner is one of those actors that I never quite know what to expect from his movies. He'...</td>\n",
       "      <td>5</td>\n",
       "    </tr>\n",
       "  </tbody>\n",
       "</table>\n",
       "</div>"
      ],
      "text/plain": [
       "                                                                                                  text  \\\n",
       "0  George Romero did the right thing when he picked Tom Savini to remake Night of The Living Dead. ...   \n",
       "1  OK, that makes it sound like something out of an old Buck Roger's serial.  Yet, this spoof of ev...   \n",
       "2  - At a tribal village, a pensive Elizabeth Curtis to her brother while Quatermain haggles with t...   \n",
       "3  Wow! This has to be one of the more unusual movies I've ever seen, one that is leaves you shakin...   \n",
       "4  Kevin Costner is one of those actors that I never quite know what to expect from his movies. He'...   \n",
       "\n",
       "   stars  \n",
       "0      5  \n",
       "1      5  \n",
       "2      5  \n",
       "3      5  \n",
       "4      5  "
      ]
     },
     "execution_count": 71,
     "metadata": {},
     "output_type": "execute_result"
    }
   ],
   "source": [
    "reviews.head(5)"
   ]
  },
  {
   "cell_type": "markdown",
   "metadata": {
    "slideshow": {
     "slide_type": "slide"
    }
   },
   "source": [
    "- Come sono distribuiti i voti?"
   ]
  },
  {
   "cell_type": "code",
   "execution_count": 72,
   "metadata": {},
   "outputs": [
    {
     "data": {
      "text/plain": [
       "5    4708\n",
       "4    2620\n",
       "3    1434\n",
       "2     704\n",
       "1     534\n",
       "Name: stars, dtype: int64"
      ]
     },
     "execution_count": 72,
     "metadata": {},
     "output_type": "execute_result"
    }
   ],
   "source": [
    "reviews.stars.value_counts()"
   ]
  },
  {
   "cell_type": "markdown",
   "metadata": {
    "slideshow": {
     "slide_type": "slide"
    }
   },
   "source": [
    "## Liste di Parole Positive e Negative\n",
    "\n",
    "- Esistono sul Web diverse basi di conoscenza in grado di fornire indicazioni su quali parole siano positive o negative\n",
    "- In questo esempio usiamo l'_Opinion Lexicon_ di Hu & Liu, costituito da un totale di circa 6.800 parole\n",
    "  - Minqing Hu and Bing Liu. \"Mining and summarizing customer reviews.\" Proceedings of the ACM SIGKDD International Conference on Knowledge Discovery & Data Mining, 2004.\n",
    "- I file con le parole positive e negative si possono trovare ai seguenti URL:"
   ]
  },
  {
   "cell_type": "code",
   "execution_count": 73,
   "metadata": {},
   "outputs": [],
   "source": [
    "pos_words_url = \"https://raw.githubusercontent.com/jeffreybreen/twitter-sentiment-analysis-tutorial-201107/master/data/opinion-lexicon-English/positive-words.txt\"\n",
    "neg_words_url = \"https://raw.githubusercontent.com/jeffreybreen/twitter-sentiment-analysis-tutorial-201107/master/data/opinion-lexicon-English/negative-words.txt\""
   ]
  },
  {
   "cell_type": "markdown",
   "metadata": {
    "slideshow": {
     "slide_type": "slide"
    }
   },
   "source": [
    "- Definiamo una funzione per estrarre le parole dai file, eliminando righe vuote e commenti"
   ]
  },
  {
   "cell_type": "code",
   "execution_count": 74,
   "metadata": {},
   "outputs": [],
   "source": [
    "def get_opinion_words(url):\n",
    "    from urllib.request import urlopen\n",
    "    words = set()\n",
    "    for line in urlopen(url):            # leggi righe in stringhe di byte\n",
    "        try:\n",
    "            line = line.decode().strip() # converti in testo e rimuovi a capo\n",
    "        except UnicodeDecodeError:\n",
    "            continue                     # caratteri sconosciuti -> salta riga\n",
    "        if line and line[0] != \";\":      # escludi righe vuote e commenti \";\"\n",
    "            words.add(line)\n",
    "    return words"
   ]
  },
  {
   "cell_type": "markdown",
   "metadata": {},
   "source": [
    "Usiamo la funzione per importare le liste di parole"
   ]
  },
  {
   "cell_type": "code",
   "execution_count": 75,
   "metadata": {},
   "outputs": [],
   "source": [
    "pos_words = get_opinion_words(pos_words_url)   # 2.006 parole\n",
    "neg_words = get_opinion_words(neg_words_url)   # 4.782 parole"
   ]
  },
  {
   "cell_type": "markdown",
   "metadata": {
    "slideshow": {
     "slide_type": "slide"
    }
   },
   "source": [
    "### Esempi di Parole Positive e Negative"
   ]
  },
  {
   "cell_type": "code",
   "execution_count": 76,
   "metadata": {},
   "outputs": [
    {
     "data": {
      "text/plain": [
       "['a+',\n",
       " 'abound',\n",
       " 'abounds',\n",
       " 'abundance',\n",
       " 'abundant',\n",
       " 'accessable',\n",
       " 'accessible',\n",
       " 'acclaim',\n",
       " 'acclaimed',\n",
       " 'acclamation']"
      ]
     },
     "execution_count": 76,
     "metadata": {},
     "output_type": "execute_result"
    }
   ],
   "source": [
    "sorted(pos_words)[:10]"
   ]
  },
  {
   "cell_type": "code",
   "execution_count": 77,
   "metadata": {},
   "outputs": [
    {
     "data": {
      "text/plain": [
       "['2-faced',\n",
       " '2-faces',\n",
       " 'abnormal',\n",
       " 'abolish',\n",
       " 'abominable',\n",
       " 'abominably',\n",
       " 'abominate',\n",
       " 'abomination',\n",
       " 'abort',\n",
       " 'aborted']"
      ]
     },
     "execution_count": 77,
     "metadata": {},
     "output_type": "execute_result"
    }
   ],
   "source": [
    "sorted(neg_words)[:10]"
   ]
  },
  {
   "cell_type": "markdown",
   "metadata": {
    "slideshow": {
     "slide_type": "slide"
    }
   },
   "source": [
    "## Estrazione delle Singole Parole dai Testi\n",
    "\n",
    "- Per ricercare agevolmente le parole chiave nelle recensioni, convertiamo per ciascuna il testo completo in una lista delle parole contenute\n",
    "- Sulle serie di tipo testuale possiamo usare l'attributo `str` per eseguire operazioni in batch su ciascun valore (simile a `dt` visto sopra per date/ore)\n",
    "- Convertiamo i testi delle recensioni in minuscolo ed estraiamo liste delle singole parole\n",
    "  - queste sono operazioni basilari di preprocessamento di dati testuali, che approfondiremo in una lezione apposita"
   ]
  },
  {
   "cell_type": "code",
   "execution_count": 78,
   "metadata": {},
   "outputs": [],
   "source": [
    "reviews[\"tokens\"] = reviews.text.str.lower().str.split(r\"\\W+\")"
   ]
  },
  {
   "cell_type": "code",
   "execution_count": 79,
   "metadata": {},
   "outputs": [
    {
     "data": {
      "text/html": [
       "<div>\n",
       "<style scoped>\n",
       "    .dataframe tbody tr th:only-of-type {\n",
       "        vertical-align: middle;\n",
       "    }\n",
       "\n",
       "    .dataframe tbody tr th {\n",
       "        vertical-align: top;\n",
       "    }\n",
       "\n",
       "    .dataframe thead th {\n",
       "        text-align: right;\n",
       "    }\n",
       "</style>\n",
       "<table border=\"1\" class=\"dataframe\">\n",
       "  <thead>\n",
       "    <tr style=\"text-align: right;\">\n",
       "      <th></th>\n",
       "      <th>tokens</th>\n",
       "    </tr>\n",
       "  </thead>\n",
       "  <tbody>\n",
       "    <tr>\n",
       "      <th>0</th>\n",
       "      <td>[george, romero, did, the, right, thing, when, he, picked, tom, savini, to, remake, night, of, t...</td>\n",
       "    </tr>\n",
       "    <tr>\n",
       "      <th>1</th>\n",
       "      <td>[ok, that, makes, it, sound, like, something, out, of, an, old, buck, roger, s, serial, yet, thi...</td>\n",
       "    </tr>\n",
       "    <tr>\n",
       "      <th>2</th>\n",
       "      <td>[, at, a, tribal, village, a, pensive, elizabeth, curtis, to, her, brother, while, quatermain, h...</td>\n",
       "    </tr>\n",
       "  </tbody>\n",
       "</table>\n",
       "</div>"
      ],
      "text/plain": [
       "                                                                                                tokens\n",
       "0  [george, romero, did, the, right, thing, when, he, picked, tom, savini, to, remake, night, of, t...\n",
       "1  [ok, that, makes, it, sound, like, something, out, of, an, old, buck, roger, s, serial, yet, thi...\n",
       "2  [, at, a, tribal, village, a, pensive, elizabeth, curtis, to, her, brother, while, quatermain, h..."
      ]
     },
     "execution_count": 79,
     "metadata": {},
     "output_type": "execute_result"
    }
   ],
   "source": [
    "reviews[[\"tokens\"]].head(3)"
   ]
  },
  {
   "cell_type": "markdown",
   "metadata": {
    "slideshow": {
     "slide_type": "slide"
    }
   },
   "source": [
    "## Conteggi Parole\n",
    "\n",
    "- Col metodo `map`, possiamo applicare una funzione arbitraria a ciascun elemento di una serie\n",
    "- Possiamo ad esempio ottenere il numero totale di parole di ciascuna recensione applicando la funzione `len` a ciascuna lista di parole"
   ]
  },
  {
   "cell_type": "code",
   "execution_count": 80,
   "metadata": {},
   "outputs": [],
   "source": [
    "reviews[\"tot_words\"] = reviews.tokens.map(len)"
   ]
  },
  {
   "cell_type": "markdown",
   "metadata": {},
   "source": [
    "- Al posto di una funzione, si può utilizzare un'espressione lambda\n",
    "- Utilizziamole ad esempio per ottenere i conteggi di parole positive e negative per ogni recensione"
   ]
  },
  {
   "cell_type": "code",
   "execution_count": 81,
   "metadata": {},
   "outputs": [],
   "source": [
    "reviews[\"pos_words\"] = reviews.tokens.map(lambda l: sum(1 for w in l if w in pos_words))\n",
    "reviews[\"neg_words\"] = reviews.tokens.map(lambda l: sum(1 for w in l if w in neg_words))"
   ]
  },
  {
   "cell_type": "markdown",
   "metadata": {},
   "source": [
    "- Aggiungiamo anche la differenza tra queste ultime due quantità"
   ]
  },
  {
   "cell_type": "code",
   "execution_count": 82,
   "metadata": {},
   "outputs": [],
   "source": [
    "reviews[\"words_diff\"] = reviews.pos_words - reviews.neg_words"
   ]
  },
  {
   "cell_type": "markdown",
   "metadata": {
    "slideshow": {
     "slide_type": "slide"
    }
   },
   "source": [
    "- Con le nuove colonne il DataFrame risulta così... (omettiamo le colonne \"text\" e \"tokens\" per brevità)"
   ]
  },
  {
   "cell_type": "code",
   "execution_count": 83,
   "metadata": {
    "slideshow": {
     "slide_type": "-"
    }
   },
   "outputs": [
    {
     "data": {
      "text/html": [
       "<div>\n",
       "<style scoped>\n",
       "    .dataframe tbody tr th:only-of-type {\n",
       "        vertical-align: middle;\n",
       "    }\n",
       "\n",
       "    .dataframe tbody tr th {\n",
       "        vertical-align: top;\n",
       "    }\n",
       "\n",
       "    .dataframe thead th {\n",
       "        text-align: right;\n",
       "    }\n",
       "</style>\n",
       "<table border=\"1\" class=\"dataframe\">\n",
       "  <thead>\n",
       "    <tr style=\"text-align: right;\">\n",
       "      <th></th>\n",
       "      <th>stars</th>\n",
       "      <th>tot_words</th>\n",
       "      <th>pos_words</th>\n",
       "      <th>neg_words</th>\n",
       "      <th>words_diff</th>\n",
       "    </tr>\n",
       "  </thead>\n",
       "  <tbody>\n",
       "    <tr>\n",
       "      <th>0</th>\n",
       "      <td>5</td>\n",
       "      <td>229</td>\n",
       "      <td>15</td>\n",
       "      <td>4</td>\n",
       "      <td>11</td>\n",
       "    </tr>\n",
       "    <tr>\n",
       "      <th>1</th>\n",
       "      <td>5</td>\n",
       "      <td>234</td>\n",
       "      <td>7</td>\n",
       "      <td>5</td>\n",
       "      <td>2</td>\n",
       "    </tr>\n",
       "    <tr>\n",
       "      <th>2</th>\n",
       "      <td>5</td>\n",
       "      <td>637</td>\n",
       "      <td>22</td>\n",
       "      <td>25</td>\n",
       "      <td>-3</td>\n",
       "    </tr>\n",
       "    <tr>\n",
       "      <th>3</th>\n",
       "      <td>5</td>\n",
       "      <td>204</td>\n",
       "      <td>14</td>\n",
       "      <td>6</td>\n",
       "      <td>8</td>\n",
       "    </tr>\n",
       "    <tr>\n",
       "      <th>4</th>\n",
       "      <td>5</td>\n",
       "      <td>835</td>\n",
       "      <td>37</td>\n",
       "      <td>39</td>\n",
       "      <td>-2</td>\n",
       "    </tr>\n",
       "  </tbody>\n",
       "</table>\n",
       "</div>"
      ],
      "text/plain": [
       "   stars  tot_words  pos_words  neg_words  words_diff\n",
       "0      5        229         15          4          11\n",
       "1      5        234          7          5           2\n",
       "2      5        637         22         25          -3\n",
       "3      5        204         14          6           8\n",
       "4      5        835         37         39          -2"
      ]
     },
     "execution_count": 83,
     "metadata": {},
     "output_type": "execute_result"
    }
   ],
   "source": [
    "reviews.drop(columns=[\"text\", \"tokens\"]).head()"
   ]
  },
  {
   "cell_type": "markdown",
   "metadata": {
    "slideshow": {
     "slide_type": "slide"
    }
   },
   "source": [
    "## Etichettatura Recensioni come Positive o Negative\n",
    "\n",
    "- Piuttosto che prevedere il numero esatto di stelle di una recensione, siamo interessati a distinguere tra _positive_ e _negative_\n",
    "- Determiniamo empiricamente che le recensioni con 4 o 5 stelle siano etichettate come `pos`, mentre quelle con 3 o meno come `neg`\n",
    "- Per le predizioni del modello, consideriamo 3.5 come soglia tra `pos` e `neg`\n",
    "- Definiamo una funzione che converta una sequenza di valori in stelle in una di etichette `pos` e `neg`"
   ]
  },
  {
   "cell_type": "code",
   "execution_count": 84,
   "metadata": {},
   "outputs": [],
   "source": [
    "def stars_to_label(stars):\n",
    "    # np.where(X, a, b) converte tutti i True di X ad a e tutti i False a b\n",
    "    return np.where(stars >= 3.5, \"pos\", \"neg\")"
   ]
  },
  {
   "cell_type": "markdown",
   "metadata": {},
   "source": [
    "- Usiamo la funzione per aggiungere una colonna \"label\" al dataset"
   ]
  },
  {
   "cell_type": "code",
   "execution_count": 85,
   "metadata": {},
   "outputs": [],
   "source": [
    "reviews[\"label\"] = stars_to_label(reviews.stars)"
   ]
  },
  {
   "cell_type": "code",
   "execution_count": 86,
   "metadata": {},
   "outputs": [
    {
     "data": {
      "text/plain": [
       "pos    7328\n",
       "neg    2672\n",
       "Name: label, dtype: int64"
      ]
     },
     "execution_count": 86,
     "metadata": {},
     "output_type": "execute_result"
    }
   ],
   "source": [
    "reviews.label.value_counts()"
   ]
  },
  {
   "cell_type": "markdown",
   "metadata": {
    "slideshow": {
     "slide_type": "slide"
    }
   },
   "source": [
    "## Divisione in Training e Validation Set\n",
    "\n",
    "- Eseguiamo la divisione tra training e validation set come segue"
   ]
  },
  {
   "cell_type": "code",
   "execution_count": 87,
   "metadata": {},
   "outputs": [],
   "source": [
    "reviews_train, reviews_val = train_test_split(reviews, test_size=0.3, random_state=42)"
   ]
  },
  {
   "cell_type": "markdown",
   "metadata": {
    "slideshow": {
     "slide_type": "slide"
    }
   },
   "source": [
    "## Esercizi\n",
    "\n",
    "1. Visualizzare un grafico a dispersione delle recensioni con la variabile `words_diff` sull'asse X e il numero di stelle sull'asse Y\n",
    "2. Addestrare sul training set un modello univariato per la predizione del numero di stelle basandosi sulla sola variabile `words_diff`\n",
    "3. Calcolare sul validation set l'accuratezza del modello, intesa come percentuale di recensioni classificate correttamente come \"pos\" o \"neg\"\n",
    "4. Addestrare un modello multivariato direttamente sui numeri `pos_words` e `neg_words` di parole positive e negative e calcolarne l'accuratezza come sopra\n",
    "5. Calcolare il numero minimo di parole negative che una recensione senza parole positive dovrebbe contenere per essere considerata negativa dal modello\n",
    "6. Aggiungere al dataset originale delle colonne `pos_rate` e `neg_rate` con i numeri di parole positive e negative divisi per il totale e ripetere la divisione del dataset in training e validation\n",
    "7. Usando questi due set aggiornati, addestrare un modello sulle due nuove variabili e calcolarne l'accuratezza come sopra\n",
    "8. Creare una copia dei dati in cui sono rimosse le recensioni \"neutre\" la cui differenza tra parole positive e negative è compresa tra -2 e 2\n",
    "9. Dividere il nuovo dataset in training e validation set e ripetere i punti dall'1 al 7 su questi nuovi dati (tranne il 6 che sarà già fatto)"
   ]
  },
  {
   "cell_type": "markdown",
   "metadata": {
    "slideshow": {
     "slide_type": "slide"
    }
   },
   "source": [
    "## Soluzioni\n",
    "\n",
    "### 1. Grafico di dispersione"
   ]
  },
  {
   "cell_type": "code",
   "execution_count": 88,
   "metadata": {},
   "outputs": [
    {
     "data": {
      "text/plain": [
       "<matplotlib.axes._subplots.AxesSubplot at 0x7f428ccf1128>"
      ]
     },
     "execution_count": 88,
     "metadata": {},
     "output_type": "execute_result"
    },
    {
     "data": {
      "image/png": "[encoded data removed]",
      "text/plain": [
       "<matplotlib.figure.Figure at 0x7f428ccedac8>"
      ]
     },
     "metadata": {},
     "output_type": "display_data"
    }
   ],
   "source": [
    "reviews.plot.scatter(\"words_diff\", \"stars\")"
   ]
  },
  {
   "cell_type": "markdown",
   "metadata": {
    "slideshow": {
     "slide_type": "slide"
    }
   },
   "source": [
    "### 2. Addestramento modello"
   ]
  },
  {
   "cell_type": "code",
   "execution_count": 89,
   "metadata": {},
   "outputs": [
    {
     "data": {
      "text/plain": [
       "LinearRegression(copy_X=True, fit_intercept=True, n_jobs=1, normalize=False)"
      ]
     },
     "execution_count": 89,
     "metadata": {},
     "output_type": "execute_result"
    }
   ],
   "source": [
    "# creo il modello\n",
    "lrm_diff = LinearRegression()\n",
    "# lo addestro sulla sola colonna words_diff\n",
    "lrm_diff.fit(reviews_train[[\"words_diff\"]], reviews_train[\"stars\"])"
   ]
  },
  {
   "cell_type": "markdown",
   "metadata": {
    "slideshow": {
     "slide_type": "slide"
    }
   },
   "source": [
    "### 3. Calcolo accuratezza"
   ]
  },
  {
   "cell_type": "code",
   "execution_count": 90,
   "metadata": {},
   "outputs": [
    {
     "data": {
      "text/plain": [
       "0.7293333333333333"
      ]
     },
     "execution_count": 90,
     "metadata": {},
     "output_type": "execute_result"
    }
   ],
   "source": [
    "# ottengo le predizioni come numero di stelle\n",
    "diff_preds = lrm_diff.predict(reviews_val[[\"words_diff\"]])\n",
    "# converto da numero di stelle a etichette pos/neg\n",
    "diff_pred_labels = stars_to_label(diff_preds)\n",
    "# verifico quali etichette predette combacino con quelle reali\n",
    "diff_hits = diff_pred_labels == reviews_val.label\n",
    "# calcolo la percentuale di successi\n",
    "diff_hits.mean()"
   ]
  },
  {
   "cell_type": "code",
   "execution_count": 91,
   "metadata": {},
   "outputs": [],
   "source": [
    "# per i prossimi punti, definisco una funzione parametrizzabile su dati e modello\n",
    "def accuracy(data, labels, model):\n",
    "    preds = model.predict(data)\n",
    "    pred_labels = stars_to_label(preds)\n",
    "    hits = pred_labels == labels\n",
    "    return hits.mean()"
   ]
  },
  {
   "cell_type": "code",
   "execution_count": 92,
   "metadata": {},
   "outputs": [
    {
     "data": {
      "text/plain": [
       "0.7293333333333333"
      ]
     },
     "execution_count": 92,
     "metadata": {},
     "output_type": "execute_result"
    }
   ],
   "source": [
    "accuracy(reviews_val[[\"words_diff\"]], reviews_val.label, lrm_diff)"
   ]
  },
  {
   "cell_type": "markdown",
   "metadata": {
    "slideshow": {
     "slide_type": "slide"
    }
   },
   "source": [
    "### 4. Modello sui due conteggi di parole"
   ]
  },
  {
   "cell_type": "code",
   "execution_count": 93,
   "metadata": {},
   "outputs": [
    {
     "data": {
      "text/plain": [
       "LinearRegression(copy_X=True, fit_intercept=True, n_jobs=1, normalize=False)"
      ]
     },
     "execution_count": 93,
     "metadata": {},
     "output_type": "execute_result"
    }
   ],
   "source": [
    "# per brevità, salvo la lista delle colonne usate in una costante\n",
    "count_cols = [\"pos_words\", \"neg_words\"]\n",
    "lrm_count = LinearRegression()\n",
    "lrm_count.fit(reviews_train[count_cols], reviews_train[\"stars\"])"
   ]
  },
  {
   "cell_type": "code",
   "execution_count": 94,
   "metadata": {},
   "outputs": [
    {
     "data": {
      "text/plain": [
       "0.729"
      ]
     },
     "execution_count": 94,
     "metadata": {},
     "output_type": "execute_result"
    }
   ],
   "source": [
    "accuracy(reviews_val[count_cols], reviews_val.label, lrm_count)"
   ]
  },
  {
   "cell_type": "markdown",
   "metadata": {},
   "source": [
    "### 5. Limite di parole negative\n",
    "\n",
    "Siano $\\theta_n<0$ e $\\theta_0>0$ il coefficiente di `neg_words` e l'intercetta, per trovare il numero minimo $x$ di parole negative dobbiamo risolvere:\n",
    "\n",
    "$$ \\theta_n\\cdot x+\\theta_0 < 3.5 \\Rightarrow x > \\frac{3.5-\\theta_0}{\\theta_n} $$"
   ]
  },
  {
   "cell_type": "code",
   "execution_count": 95,
   "metadata": {},
   "outputs": [
    {
     "data": {
      "text/plain": [
       "11.164807243861542"
      ]
     },
     "execution_count": 95,
     "metadata": {},
     "output_type": "execute_result"
    }
   ],
   "source": [
    "(3.5 - lrm_count.intercept_) / lrm_count.coef_[1]"
   ]
  },
  {
   "cell_type": "markdown",
   "metadata": {
    "slideshow": {
     "slide_type": "slide"
    }
   },
   "source": [
    "### 6. Aggiunta dei conteggi relativi"
   ]
  },
  {
   "cell_type": "code",
   "execution_count": 96,
   "metadata": {},
   "outputs": [],
   "source": [
    "reviews[\"pos_rate\"] = reviews.pos_words / reviews.tot_words\n",
    "reviews[\"neg_rate\"] = reviews.neg_words / reviews.tot_words\n",
    "reviews_train, reviews_val = train_test_split(reviews, test_size=0.3, random_state=42)"
   ]
  },
  {
   "cell_type": "markdown",
   "metadata": {},
   "source": [
    "### 7. Modello sui conteggi relativi"
   ]
  },
  {
   "cell_type": "code",
   "execution_count": 97,
   "metadata": {},
   "outputs": [
    {
     "data": {
      "text/plain": [
       "LinearRegression(copy_X=True, fit_intercept=True, n_jobs=1, normalize=False)"
      ]
     },
     "execution_count": 97,
     "metadata": {},
     "output_type": "execute_result"
    }
   ],
   "source": [
    "rate_cols = [\"pos_rate\", \"neg_rate\"]\n",
    "lrm_rate = LinearRegression()\n",
    "lrm_rate.fit(reviews_train[rate_cols], reviews_train.stars)"
   ]
  },
  {
   "cell_type": "code",
   "execution_count": 98,
   "metadata": {},
   "outputs": [
    {
     "data": {
      "text/plain": [
       "0.742"
      ]
     },
     "execution_count": 98,
     "metadata": {},
     "output_type": "execute_result"
    }
   ],
   "source": [
    "accuracy(reviews_val[rate_cols], reviews_val.label, lrm_rate)"
   ]
  },
  {
   "cell_type": "markdown",
   "metadata": {
    "slideshow": {
     "slide_type": "slide"
    }
   },
   "source": [
    "### 8. Rimozione delle recensioni neutre"
   ]
  },
  {
   "cell_type": "code",
   "execution_count": 99,
   "metadata": {},
   "outputs": [],
   "source": [
    "reviews_filt = reviews[~reviews.words_diff.between(-2, 2)]"
   ]
  },
  {
   "cell_type": "code",
   "execution_count": 100,
   "metadata": {},
   "outputs": [
    {
     "data": {
      "text/plain": [
       "6735"
      ]
     },
     "execution_count": 100,
     "metadata": {},
     "output_type": "execute_result"
    }
   ],
   "source": [
    "# quante recensioni rimangono?\n",
    "len(reviews_filt)"
   ]
  },
  {
   "cell_type": "markdown",
   "metadata": {},
   "source": [
    "### 9. Divisione dei dati e rivalutazione dei modelli"
   ]
  },
  {
   "cell_type": "code",
   "execution_count": 101,
   "metadata": {},
   "outputs": [],
   "source": [
    "reviews_filt_train, reviews_filt_val = train_test_split(reviews_filt, test_size=0.3, random_state=42)"
   ]
  },
  {
   "cell_type": "code",
   "execution_count": 102,
   "metadata": {
    "slideshow": {
     "slide_type": "slide"
    }
   },
   "outputs": [
    {
     "data": {
      "text/plain": [
       "<matplotlib.axes._subplots.AxesSubplot at 0x7f429535f5c0>"
      ]
     },
     "execution_count": 102,
     "metadata": {},
     "output_type": "execute_result"
    },
    {
     "data": {
      "image/png": "[encoded data removed]",
      "text/plain": [
       "<matplotlib.figure.Figure at 0x7f429fe0c8d0>"
      ]
     },
     "metadata": {},
     "output_type": "display_data"
    }
   ],
   "source": [
    "reviews_filt.plot.scatter(\"words_diff\", \"stars\")"
   ]
  },
  {
   "cell_type": "markdown",
   "metadata": {
    "slideshow": {
     "slide_type": "slide"
    }
   },
   "source": [
    "**Modello su differenza**"
   ]
  },
  {
   "cell_type": "code",
   "execution_count": 103,
   "metadata": {},
   "outputs": [
    {
     "data": {
      "text/plain": [
       "LinearRegression(copy_X=True, fit_intercept=True, n_jobs=1, normalize=False)"
      ]
     },
     "execution_count": 103,
     "metadata": {},
     "output_type": "execute_result"
    }
   ],
   "source": [
    "lrm_diff_filt = LinearRegression()\n",
    "lrm_diff_filt.fit(reviews_filt_train[[\"words_diff\"]], reviews_filt_train.stars)"
   ]
  },
  {
   "cell_type": "code",
   "execution_count": 104,
   "metadata": {},
   "outputs": [
    {
     "data": {
      "text/plain": [
       "0.7659574468085106"
      ]
     },
     "execution_count": 104,
     "metadata": {},
     "output_type": "execute_result"
    }
   ],
   "source": [
    "accuracy(reviews_filt_val[[\"words_diff\"]], reviews_filt_val.label, lrm_diff_filt)"
   ]
  },
  {
   "cell_type": "markdown",
   "metadata": {
    "slideshow": {
     "slide_type": "slide"
    }
   },
   "source": [
    "**Modello su conteggi**"
   ]
  },
  {
   "cell_type": "code",
   "execution_count": 105,
   "metadata": {},
   "outputs": [
    {
     "data": {
      "text/plain": [
       "LinearRegression(copy_X=True, fit_intercept=True, n_jobs=1, normalize=False)"
      ]
     },
     "execution_count": 105,
     "metadata": {},
     "output_type": "execute_result"
    }
   ],
   "source": [
    "lrm_count_filt = LinearRegression()\n",
    "lrm_count_filt.fit(reviews_filt_train[count_cols], reviews_filt_train.stars)"
   ]
  },
  {
   "cell_type": "code",
   "execution_count": 106,
   "metadata": {},
   "outputs": [
    {
     "data": {
      "text/plain": [
       "0.7615042058386937"
      ]
     },
     "execution_count": 106,
     "metadata": {},
     "output_type": "execute_result"
    }
   ],
   "source": [
    "accuracy(reviews_filt_val[count_cols], reviews_filt_val.label, lrm_count_filt)"
   ]
  },
  {
   "cell_type": "code",
   "execution_count": 107,
   "metadata": {},
   "outputs": [
    {
     "data": {
      "text/plain": [
       "12.253991451027714"
      ]
     },
     "execution_count": 107,
     "metadata": {},
     "output_type": "execute_result"
    }
   ],
   "source": [
    "(3.5 - lrm_count_filt.intercept_) / lrm_count_filt.coef_[1]"
   ]
  },
  {
   "cell_type": "markdown",
   "metadata": {
    "slideshow": {
     "slide_type": "slide"
    }
   },
   "source": [
    "**Modello su conteggi relativi**"
   ]
  },
  {
   "cell_type": "code",
   "execution_count": 108,
   "metadata": {},
   "outputs": [
    {
     "data": {
      "text/plain": [
       "LinearRegression(copy_X=True, fit_intercept=True, n_jobs=1, normalize=False)"
      ]
     },
     "execution_count": 108,
     "metadata": {},
     "output_type": "execute_result"
    }
   ],
   "source": [
    "lrm_rate_filt = LinearRegression()\n",
    "lrm_rate_filt.fit(reviews_filt_train[rate_cols], reviews_filt_train.stars)"
   ]
  },
  {
   "cell_type": "code",
   "execution_count": 109,
   "metadata": {},
   "outputs": [
    {
     "data": {
      "text/plain": [
       "0.7694210786739238"
      ]
     },
     "execution_count": 109,
     "metadata": {},
     "output_type": "execute_result"
    }
   ],
   "source": [
    "accuracy(reviews_filt_val[rate_cols], reviews_filt_val.label, lrm_rate_filt)"
   ]
  }
 ],
 "metadata": {
  "kernelspec": {
   "display_name": "Python 3 - DIA",
   "language": "python",
   "name": "python3-dia"
  },
  "language_info": {
   "codemirror_mode": {
    "name": "ipython",
    "version": 3
   },
   "file_extension": ".py",
   "mimetype": "text/x-python",
   "name": "python",
   "nbconvert_exporter": "python",
   "pygments_lexer": "ipython3",
   "version": "3.6.5"
  }
 },
 "nbformat": 4,
 "nbformat_minor": 2
}
